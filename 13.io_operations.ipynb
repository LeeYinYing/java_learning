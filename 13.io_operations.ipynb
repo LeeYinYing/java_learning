{
 "cells": [
  {
   "cell_type": "markdown",
   "id": "60732d74-266a-4a94-8656-c5f084a82c23",
   "metadata": {},
   "source": [
    "# 12. I/O Operations"
   ]
  },
  {
   "cell_type": "markdown",
   "id": "23b33d17-f38c-4b22-9ec1-86814e546888",
   "metadata": {},
   "source": [
    "## Reading from files"
   ]
  },
  {
   "cell_type": "markdown",
   "id": "34b4004c-8d46-4db6-9da3-fdfb9316f948",
   "metadata": {},
   "source": [
    "### Using `Scanner()`"
   ]
  },
  {
   "cell_type": "code",
   "execution_count": 1,
   "id": "b2451266-c85a-46ef-bc26-5543d620dbae",
   "metadata": {},
   "outputs": [],
   "source": [
    "// Path can be relative to working directory or absolute path\n",
    "String fileName = \"data/example.txt\"; \n",
    "\n",
    "// Java representation of file\n",
    "File textFile = new File(fileName);"
   ]
  },
  {
   "cell_type": "code",
   "execution_count": 2,
   "id": "e13b2e06-6fbe-43ff-9957-52eb51813b6a",
   "metadata": {},
   "outputs": [
    {
     "name": "stdout",
     "output_type": "stream",
     "text": [
      "3\n",
      "line one\n",
      "line two\n",
      "line three\n",
      "\n",
      "cat\n",
      "fox\n",
      "dog\n",
      "cat\n"
     ]
    }
   ],
   "source": [
    "Scanner in = new Scanner(textFile);\n",
    "\n",
    "while(in.hasNextLine()) { // While there still is a next line in the file\n",
    "    String line = in.nextLine(); // Get the next line and store in the variable\n",
    "    System.out.println(line);\n",
    "}\n",
    "\n",
    "in.close() // Just like Python, we need to close the file"
   ]
  },
  {
   "cell_type": "code",
   "execution_count": 3,
   "id": "40357d1c-b695-4a0d-add5-bf7a925bd51a",
   "metadata": {},
   "outputs": [
    {
     "name": "stdout",
     "output_type": "stream",
     "text": [
      "Read value: 3\n",
      "2:\n",
      "3:line one\n",
      "4:line two\n",
      "5:line three\n",
      "6:\n",
      "7:cat\n",
      "8:fox\n",
      "9:dog\n",
      "10:cat\n"
     ]
    }
   ],
   "source": [
    "Scanner in = new Scanner(textFile);\n",
    "\n",
    "// Read the integer '3' in the first line of the text\n",
    "int value = in.nextInt(); \n",
    "System.out.println(\"Read value: \" + value);\n",
    "\n",
    "int count = 2; // Start counting from the second line\n",
    "while(in.hasNextLine()) { \n",
    "    String line = in.nextLine(); \n",
    "    System.out.println(count + \":\" + line);\n",
    "    count++;\n",
    "}\n",
    "\n",
    "in.close()"
   ]
  },
  {
   "cell_type": "markdown",
   "id": "5aba384f-a529-4c36-8f06-26f98cccba58",
   "metadata": {},
   "source": [
    "Notice from the output, we have an extra line inserted between the first and second line of the text file. This is because `nextInt()` does not read the `\\n` character. After `nextInt()`, the cursor lands right before the `\\n`, and then `nextLine()` reads the newline character and prints it as a line of itself. To get by this, we will need to add another `nextLine()` before the while loop. "
   ]
  },
  {
   "cell_type": "code",
   "execution_count": 4,
   "id": "4b9b8016-cfc3-455f-9704-ef55b076d89a",
   "metadata": {},
   "outputs": [
    {
     "name": "stdout",
     "output_type": "stream",
     "text": [
      "Read value: 3\n",
      "2:line one\n",
      "3:line two\n",
      "4:line three\n",
      "5:\n",
      "6:cat\n",
      "7:fox\n",
      "8:dog\n",
      "9:cat\n"
     ]
    }
   ],
   "source": [
    "Scanner in = new Scanner(textFile);\n",
    "\n",
    "int value = in.nextInt(); \n",
    "System.out.println(\"Read value: \" + value);\n",
    "in.nextLine(); // Added to get by the \\n character.\n",
    "\n",
    "int count = 2; \n",
    "while(in.hasNextLine()) { \n",
    "    String line = in.nextLine(); \n",
    "    System.out.println(count + \":\" + line);\n",
    "    count++;\n",
    "}\n",
    "\n",
    "in.close()"
   ]
  },
  {
   "cell_type": "markdown",
   "id": "b338d7b3-1b82-4de4-9804-1a0dfa216afc",
   "metadata": {},
   "source": [
    "### Using `FileReader()`"
   ]
  },
  {
   "cell_type": "markdown",
   "id": "4ffe564c-df85-48e2-8bd0-da1721a9502d",
   "metadata": {},
   "source": [
    "We will use the `File()` object to help read the file. This object is a platform independent representation of a file, it helps deal with platform dependent filepaths such as the use of `/` and `\\`. \n",
    "\n",
    "Reading files with `FileReader()` is quite inconvenient, it only let us define how many `char` we want to read. If we want to read the file line-by-line and save it in a variable, this is called **buffering**. We will need to use another class for `BufferedReader()`. \n",
    "\n",
    "> This method is the older way in how to read file. It gets very bulky with trying to handle potential exceptions from the `.close()` method."
   ]
  },
  {
   "cell_type": "code",
   "execution_count": 10,
   "id": "caf76028-bd43-44e3-9f7b-ae6ec89f14fc",
   "metadata": {},
   "outputs": [
    {
     "name": "stdout",
     "output_type": "stream",
     "text": [
      "3\n",
      "line one\n",
      "line two\n",
      "line three\n",
      "\n",
      "cat\n",
      "fox\n",
      "dog\n",
      "cat\n"
     ]
    }
   ],
   "source": [
    "File file = new File(\"data/example.txt\");\n",
    "BufferedReader br = null;\n",
    "\n",
    "try {\n",
    "    \n",
    "    // Feed file into the reader\n",
    "    FileReader fr = new FileReader(file);\n",
    "    \n",
    "    // Feed the filereader into buffering\n",
    "    br = new BufferedReader(fr);\n",
    "    \n",
    "    // Init variable to store the buffered line\n",
    "    String line;\n",
    "    \n",
    "    // The method br.readLine() will read one line from the file and\n",
    "    // place the pointer at the start of the next line\n",
    "    // We can put (line = br.readLine()) into the evaluation of the\n",
    "    // while loop. This syntax evaluate whatever is assigned to the \n",
    "    // variable `line` and check it against the conditionals\n",
    "    while( (line = br.readLine()) != null ) {\n",
    "        System.out.println(line);\n",
    "    }\n",
    "  \n",
    "} catch (FileNotFoundException e) {\n",
    "    System.out.println(\"File not found: \" + file.toString());\n",
    "} catch (IOException e) {\n",
    "    System.out.println(\"Unable to read file: \" + file.toString());\n",
    "\n",
    "  // Finally block will run regardless at the end\n",
    "} finally { \n",
    "    try {\n",
    "        // Closing the reader is best practice to eliminate problems such as \n",
    "        // memory leaks. In Java, closing the buffered reader will also close \n",
    "        // everything upstream to it. Including the FileReader() and the File(). \n",
    "        br.close();\n",
    "    } catch (IOException e) {\n",
    "        System.out.println(\"Unable to close file: \" + file.toString());\n",
    "    } catch (NullPointerException ex) {\n",
    "        // File was never opened!\n",
    "    }\n",
    "}"
   ]
  },
  {
   "cell_type": "markdown",
   "id": "ba7b9a9d-5b7a-4060-b5ea-a58084d9eb19",
   "metadata": {},
   "source": [
    "## Using \"try-with-resources\""
   ]
  },
  {
   "cell_type": "markdown",
   "id": "decea82f-ef34-4e7b-b6c0-13a84bb94a1e",
   "metadata": {},
   "source": [
    "Say we have a class that requires `close` similar to I/O processes. "
   ]
  },
  {
   "cell_type": "code",
   "execution_count": 8,
   "id": "02330dc9-b753-4659-bc2d-a8913ac6095f",
   "metadata": {},
   "outputs": [],
   "source": [
    "// AutoCloseable interface enforces that the class should have a\n",
    "// `close()` method\n",
    "class Temp implements AutoCloseable {\n",
    "    \n",
    "    @Override \n",
    "    public void close() throws Exception{\n",
    "        System.out.println(\"Closing\");\n",
    "        throw new Exception(\"Oh no!\");\n",
    "    }\n",
    "}"
   ]
  },
  {
   "cell_type": "markdown",
   "id": "a4b77c7b-9ef1-4050-bb0a-2dc6b8e41ee7",
   "metadata": {},
   "source": [
    "A typical `try-catch` implement will look like this:"
   ]
  },
  {
   "cell_type": "code",
   "execution_count": 9,
   "id": "b3f06437-3221-48df-8018-71887fd7fa78",
   "metadata": {},
   "outputs": [
    {
     "name": "stdout",
     "output_type": "stream",
     "text": [
      "Closing\n"
     ]
    },
    {
     "name": "stderr",
     "output_type": "stream",
     "text": [
      "java.lang.Exception: Oh no!\n",
      "\tat REPL.$JShell$12C$Temp.close($JShell$12C.java:22)\n",
      "\tat REPL.$JShell$18.do_it$($JShell$18.java:18)\n",
      "\tat java.base/jdk.internal.reflect.NativeMethodAccessorImpl.invoke0(Native Method)\n",
      "\tat java.base/jdk.internal.reflect.NativeMethodAccessorImpl.invoke(NativeMethodAccessorImpl.java:62)\n",
      "\tat java.base/jdk.internal.reflect.DelegatingMethodAccessorImpl.invoke(DelegatingMethodAccessorImpl.java:43)\n",
      "\tat java.base/java.lang.reflect.Method.invoke(Method.java:566)\n",
      "\tat io.github.spencerpark.ijava.execution.IJavaExecutionControl.lambda$execute$1(IJavaExecutionControl.java:95)\n",
      "\tat java.base/java.util.concurrent.FutureTask.run(FutureTask.java:264)\n",
      "\tat java.base/java.util.concurrent.ThreadPoolExecutor.runWorker(ThreadPoolExecutor.java:1128)\n",
      "\tat java.base/java.util.concurrent.ThreadPoolExecutor$Worker.run(ThreadPoolExecutor.java:628)\n",
      "\tat java.base/java.lang.Thread.run(Thread.java:829)\n"
     ]
    }
   ],
   "source": [
    "Temp temp = new Temp();\n",
    "\n",
    "try {\n",
    "    temp.close();\n",
    "} catch (Exception e) {\n",
    "    e.printStackTrace();\n",
    "}"
   ]
  },
  {
   "cell_type": "markdown",
   "id": "0ae5190b-04d3-420d-a958-06ca42339172",
   "metadata": {},
   "source": [
    "<br>However, we can simplify the syntax even more with the \"try with resources\" implementation introduced in Java 7. By declaring new `Autocloseable` objects within the `try()` brackets, it will run the `close()` method automatically."
   ]
  },
  {
   "cell_type": "code",
   "execution_count": 10,
   "id": "74d4d02b-c743-49ba-af5c-8f578f4686db",
   "metadata": {},
   "outputs": [
    {
     "name": "stdout",
     "output_type": "stream",
     "text": [
      "Closing\n"
     ]
    },
    {
     "name": "stderr",
     "output_type": "stream",
     "text": [
      "java.lang.Exception: Oh no!\n",
      "\tat REPL.$JShell$12C$Temp.close($JShell$12C.java:22)\n",
      "\tat REPL.$JShell$19.do_it$($JShell$19.java:21)\n",
      "\tat java.base/jdk.internal.reflect.NativeMethodAccessorImpl.invoke0(Native Method)\n",
      "\tat java.base/jdk.internal.reflect.NativeMethodAccessorImpl.invoke(NativeMethodAccessorImpl.java:62)\n",
      "\tat java.base/jdk.internal.reflect.DelegatingMethodAccessorImpl.invoke(DelegatingMethodAccessorImpl.java:43)\n",
      "\tat java.base/java.lang.reflect.Method.invoke(Method.java:566)\n",
      "\tat io.github.spencerpark.ijava.execution.IJavaExecutionControl.lambda$execute$1(IJavaExecutionControl.java:95)\n",
      "\tat java.base/java.util.concurrent.FutureTask.run(FutureTask.java:264)\n",
      "\tat java.base/java.util.concurrent.ThreadPoolExecutor.runWorker(ThreadPoolExecutor.java:1128)\n",
      "\tat java.base/java.util.concurrent.ThreadPoolExecutor$Worker.run(ThreadPoolExecutor.java:628)\n",
      "\tat java.base/java.lang.Thread.run(Thread.java:829)\n"
     ]
    }
   ],
   "source": [
    "// Implementing an Autocloseable within try\n",
    "// will automatically run the close() method \n",
    "// at the end\n",
    "try(Temp temp = new Temp()) {\n",
    "\n",
    "// catch Exception thrown by the close()\n",
    "} catch (Exception e) { \n",
    "    e.printStackTrace();\n",
    "}"
   ]
  },
  {
   "cell_type": "markdown",
   "id": "26976d3e-6505-4c90-a1f8-164f9e40a503",
   "metadata": {},
   "source": [
    "<br>Implementing the \"try-with-resources\" implementation with Files"
   ]
  },
  {
   "cell_type": "code",
   "execution_count": 12,
   "id": "cc991153-72c6-47c2-9b29-17e44588a785",
   "metadata": {},
   "outputs": [
    {
     "name": "stdout",
     "output_type": "stream",
     "text": [
      "Can't find file data/wrongexample.txt\n"
     ]
    }
   ],
   "source": [
    "File file = new File(\"data/wrongexample.txt\");\n",
    "\n",
    "// The try-with-resources will auto close the readers at the end of the\n",
    "// try block\n",
    "try(BufferedReader br = new BufferedReader(new FileReader(file))) {\n",
    "    String line ;\n",
    "    \n",
    "    while ((line = br.readLine()) != null) {\n",
    "        System.out.println(line);\n",
    "    }\n",
    "\n",
    "// catch potential errors from buffered reader\n",
    "} catch (FileNotFoundException e) {\n",
    "    System.out.println(\"Can't find file \" + file.toString());\n",
    "\n",
    "} catch (IOException e) {\n",
    "    System.out.println(\"Unable to read file \" + file.toString());\n",
    "    \n",
    "}"
   ]
  },
  {
   "cell_type": "markdown",
   "id": "c2c984ed-2575-46f6-a75e-47f5ea10b4f6",
   "metadata": {},
   "source": [
    "## Writing and Creating Files\n",
    "\n",
    "Writing to file is done is similar syntax as reading a file"
   ]
  },
  {
   "cell_type": "code",
   "execution_count": 16,
   "id": "d00d43c1-998d-41ec-8d55-c6890d2edf77",
   "metadata": {},
   "outputs": [],
   "source": [
    "File file = new File(\"data/write-example.txt\");\n",
    "\n",
    "// Instead of using a BufferedReader, use BufferedWriter\n",
    "// Instead of FileReader, use FileWriter\n",
    "try(BufferedWriter br = new BufferedWriter(new FileWriter(file))) {\n",
    "    br.write(\"This is line one\\n\");\n",
    "    br.write(\"This is line two\");\n",
    "    br.newLine(); // works same as adding \"\\n\" at the end of the previous line\n",
    "    br.write(\"Last line.\");\n",
    "\n",
    "} catch (IOException e) {\n",
    "    System.out.println(\"Unable to write to file \" + file.toString());\n",
    "}"
   ]
  },
  {
   "cell_type": "code",
   "execution_count": null,
   "id": "11860cd9-d744-4438-91ea-fd02e7c6a97e",
   "metadata": {},
   "outputs": [],
   "source": []
  }
 ],
 "metadata": {
  "kernelspec": {
   "display_name": "Java",
   "language": "java",
   "name": "java"
  },
  "language_info": {
   "codemirror_mode": "java",
   "file_extension": ".jshell",
   "mimetype": "text/x-java-source",
   "name": "Java",
   "pygments_lexer": "java",
   "version": "11.0.15+10-Ubuntu-0ubuntu0.20.04.1"
  }
 },
 "nbformat": 4,
 "nbformat_minor": 5
}
