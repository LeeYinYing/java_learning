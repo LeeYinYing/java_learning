{
 "cells": [
  {
   "cell_type": "markdown",
   "id": "db7c37fa-17dc-494b-995b-c1ded363fd9f",
   "metadata": {},
   "source": [
    "# 7. Encapsulation"
   ]
  },
  {
   "cell_type": "markdown",
   "id": "d4083645-4189-4880-beca-1e1661e4ef52",
   "metadata": {},
   "source": [
    "The concept of encapsulation is that we hid the inner workings of the class within the class. In other words, it is a away to protect people from outside the class to access information within the class. Especially useful for good practices when coding public APIs. \n"
   ]
  },
  {
   "cell_type": "code",
   "execution_count": 4,
   "id": "0307e35c-8748-44f3-9a57-328a356585f9",
   "metadata": {},
   "outputs": [],
   "source": [
    "class Plant {\n",
    "    \n",
    "    // Private instance variable is accessed only via setters and getters methods\n",
    "    private String name;\n",
    "    // Public instance variable is usually contants that are also made final\n",
    "    public static final int ID = 7;\n",
    "    \n",
    "    // Setters and Getters for private variables\n",
    "    public String getName() {\n",
    "        return name;\n",
    "    }\n",
    "    public void setName(String name) {\n",
    "        this.name = name;\n",
    "    }\n",
    "    \n",
    "    // Method only needed from within the class\n",
    "    private int calculateGrowth(){\n",
    "        return 9;\n",
    "    }\n",
    "    public String getData() {\n",
    "        String data = \"some stuff\" + calculateGrowth();\n",
    "        return data;\n",
    "    }\n",
    "}"
   ]
  },
  {
   "cell_type": "markdown",
   "id": "24e06559-cd04-4191-b11f-404e8973e857",
   "metadata": {},
   "source": [
    "The best practices with encapsulation is as the following:\n",
    "- Make instance variables and methods `private` as much as possible\n",
    "- If needed to be accessible with child classes, then make them `protected`\n",
    "- The endpoints that the end user will interact with is `public`, but try to not make any data public except the constants. Instead encapsulate the data with public *setters* and *getters* methods.\n",
    "- Reduce cross-linkages within the projects. Minimize the case where a class can access, retrieve and use data from another class. \n",
    "- Best case scenario is to only have few public methods that does not change very often. The rest of the code base and implementation details are hidden within the classes."
   ]
  },
  {
   "cell_type": "markdown",
   "id": "771fd6b6-daed-4343-825b-49434634341d",
   "metadata": {},
   "source": [
    "## Getters and Setters"
   ]
  },
  {
   "cell_type": "markdown",
   "id": "b97c5a7e-30e2-4807-aabd-b30169f4a853",
   "metadata": {
    "tags": []
   },
   "source": [
    "The idea is to hide the variables away from outside the class with getter and setter methods. Previously we set the instance variables with \n",
    "```\n",
    "frog.name = \"Bertie\";\n",
    "frog.age = 12;\n",
    "```\n",
    "But this is undesirable in complex situations as we will have to know what internal variables exists in the classes. With Get and Set Methods then we just need to know what methods are available in the class and not worry about the variables. \n",
    "\n",
    "In Java programming, there are ways to hide instance variables in a class from the rest of the program. These are protected or private classes (which will be looked at later. In such case, methods are often written to return instance variable values to other parts of the program. These methods are often referred to as **Getters**. Vice versa, the methods used to define values for the internal variables are **Setters**, or known as **Mutators**."
   ]
  },
  {
   "cell_type": "code",
   "execution_count": 21,
   "id": "621120f9-dae0-4153-896f-7c7df7edb0c5",
   "metadata": {},
   "outputs": [],
   "source": [
    "class Frog {\n",
    "    \n",
    "    // Instance Variables\n",
    "    String name;\n",
    "    int age;\n",
    "    \n",
    "    // Setter Methods\n",
    "    public void setName(String newName) {\n",
    "        name = newName;\n",
    "    }\n",
    "    \n",
    "    public void setAge(int newAge) {\n",
    "        age = newAge;\n",
    "    }\n",
    "    \n",
    "    // Getter Methods\n",
    "    public String getName() {\n",
    "        return name;\n",
    "    }\n",
    "    \n",
    "    public int getAge() {\n",
    "        return age;\n",
    "    }\n",
    "}"
   ]
  },
  {
   "cell_type": "code",
   "execution_count": 22,
   "id": "3884013f-6585-458d-a145-0a995156b78d",
   "metadata": {},
   "outputs": [
    {
     "name": "stdout",
     "output_type": "stream",
     "text": [
      "Bertie\n",
      "1\n"
     ]
    }
   ],
   "source": [
    "Frog frog1 = new Frog();\n",
    "\n",
    "frog1.setName(\"Bertie\");\n",
    "frog1.setAge(1);\n",
    "\n",
    "System.out.println(frog1.getName());\n",
    "System.out.println(frog1.getAge());"
   ]
  },
  {
   "cell_type": "markdown",
   "id": "28b54f24-105b-4c05-8d0d-2ed41b00429f",
   "metadata": {},
   "source": [
    "We are able to work with class Frog with just the Get and Set methods. This is also known as *encapsulation* as we hid the actual variables away from other classes and other parts of the program. This is more obvious with private variables"
   ]
  },
  {
   "cell_type": "code",
   "execution_count": 25,
   "id": "17a3edd9-7e96-46ae-8444-efa0f5b28dd0",
   "metadata": {},
   "outputs": [],
   "source": [
    "class PrivateFrog {\n",
    "    \n",
    "    // Instance Variables (NOTE: the variables are set to private)\n",
    "    private String name;\n",
    "    private int age;\n",
    "    \n",
    "    // Setter Methods\n",
    "    public void setName(String newName) {\n",
    "        name = newName;\n",
    "    }\n",
    "    \n",
    "    public void setAge(int newAge) {\n",
    "        age = newAge;\n",
    "    }\n",
    "    \n",
    "    // Getter Methods\n",
    "    public String getName() {\n",
    "        return name;\n",
    "    }\n",
    "    \n",
    "    public int getAge() {\n",
    "        return age;\n",
    "    }\n",
    "}"
   ]
  },
  {
   "cell_type": "code",
   "execution_count": 26,
   "id": "3cf2a668-224d-4fb9-a88e-887f03ff441b",
   "metadata": {},
   "outputs": [],
   "source": [
    "PrivateFrog frog2 = new PrivateFrog();"
   ]
  },
  {
   "cell_type": "markdown",
   "id": "16b96aa7-4d3a-4c2b-9010-f7273e3a7f24",
   "metadata": {},
   "source": [
    "In the PrivateFrog class we cannot access the variables directly:"
   ]
  },
  {
   "cell_type": "code",
   "execution_count": 27,
   "id": "a758a939-6039-4280-95fb-624fabc0502c",
   "metadata": {},
   "outputs": [
    {
     "ename": "CompilationException",
     "evalue": "",
     "output_type": "error",
     "traceback": [
      "\u001b[1m\u001b[30m|   \u001b[1m\u001b[30m\u001b[0m\u001b[1m\u001b[30m\u001b[41mfrog2.name\u001b[0m\u001b[1m\u001b[30m = \"May\";\u001b[0m",
      "\u001b[1m\u001b[31mname has private access in PrivateFrog\u001b[0m",
      ""
     ]
    }
   ],
   "source": [
    "frog2.name = \"May\";"
   ]
  },
  {
   "cell_type": "markdown",
   "id": "fe7f903b-947d-4e12-b92c-3ddc9cf30e89",
   "metadata": {},
   "source": [
    "But we can interact with the variables indirectly through the Get and Set methods:"
   ]
  },
  {
   "cell_type": "code",
   "execution_count": 28,
   "id": "5f866de0-23a4-46db-9db8-890620dee54e",
   "metadata": {},
   "outputs": [
    {
     "name": "stdout",
     "output_type": "stream",
     "text": [
      "May\n",
      "30\n"
     ]
    }
   ],
   "source": [
    "frog2.setName(\"May\");\n",
    "frog2.setAge(30);\n",
    "\n",
    "System.out.println(frog2.getName());\n",
    "System.out.println(frog2.getAge());"
   ]
  },
  {
   "cell_type": "markdown",
   "id": "520b6225-027b-479c-a858-759128661ddd",
   "metadata": {},
   "source": [
    "## Access Control\n",
    "\n",
    "Keywords *public*, *private*, and *protected* declares the level of access allowed with the specified variables and methods. We will use the following Plant class to demonstrate."
   ]
  },
  {
   "cell_type": "code",
   "execution_count": 35,
   "id": "eaff9de9-c9d2-433e-a002-c08ac3b30771",
   "metadata": {},
   "outputs": [],
   "source": [
    "public class Plant {\n",
    "    \n",
    "    // Private variables -- accessed only within same class\n",
    "    private String type;\n",
    "    \n",
    "    // Protected variables -- accessed from subclass and same package\n",
    "    protected String size;\n",
    "     \n",
    "    // No modifier -- accessed from same package only\n",
    "    int height;\n",
    "    \n",
    "    // Public variables -- accessed from anywhere\n",
    "    public String name; // Bad practice\n",
    "    public final static int ID = 8; // Acceptable practice\n",
    "    \n",
    "    public Plant() {\n",
    "        this.name = \"Freddie\";\n",
    "        this.type = \"tree\";\n",
    "        this.size = \"medium\";\n",
    "        this.height = 20;\n",
    "    }\n",
    "    \n",
    "}"
   ]
  },
  {
   "cell_type": "markdown",
   "id": "e1d1171b-6335-429d-adf0-50a6af1e67e6",
   "metadata": {},
   "source": [
    "### Public Variables and Methods\n",
    "\n",
    "**Public** keyword defines that the variable or method it is associated with can be accessed anywhere. However, it is bad practice to make instance variables public. The best practice is to encapsulate the instance variables and hide them away from the world via methods. \n",
    "\n",
    "If an instance variable needs to be public, they are usually constants and are accompanied by the keyword *static* and *final*\n",
    "\n",
    "```\n",
    "public final static int ID = 8;\n",
    "```"
   ]
  },
  {
   "cell_type": "code",
   "execution_count": 20,
   "id": "881fbadb-8033-4121-b237-bd9b281ed3f9",
   "metadata": {},
   "outputs": [
    {
     "name": "stdout",
     "output_type": "stream",
     "text": [
      "Freddie\n",
      "8\n"
     ]
    }
   ],
   "source": [
    "public void main() {\n",
    "    Plant plant1 = new Plant();\n",
    "    \n",
    "    // Public variable\n",
    "    System.out.println(plant1.name);\n",
    "    \n",
    "    // Public constant variable\n",
    "    System.out.println(plant1.ID);\n",
    "}\n",
    "\n",
    "main();"
   ]
  },
  {
   "cell_type": "markdown",
   "id": "97948950-658c-4a55-9389-b5eafbc5071c",
   "metadata": {},
   "source": [
    "### Private Variables and Methods\n",
    "\n",
    "**Private** is the opposite of public, meaning that private variables and methods can only be accessed from within the class."
   ]
  },
  {
   "cell_type": "code",
   "execution_count": 19,
   "id": "0cd91b35-a9e0-43dc-8436-5c9032d88c5b",
   "metadata": {
    "tags": []
   },
   "outputs": [
    {
     "ename": "CompilationException",
     "evalue": "",
     "output_type": "error",
     "traceback": [
      "\u001b[1m\u001b[30m|   \u001b[1m\u001b[30m    System.out.println(\u001b[0m\u001b[1m\u001b[30m\u001b[41mplant.type\u001b[0m\u001b[1m\u001b[30m);\u001b[0m",
      "\u001b[1m\u001b[31mtype has private access in Plant\u001b[0m",
      ""
     ]
    }
   ],
   "source": [
    "public void main() {\n",
    "    Plant plant = new Plant();\n",
    "    \n",
    "    // Private variable cannot be access outside of the class.\n",
    "    System.out.println(plant.type);\n",
    "}\n",
    "\n",
    "main();"
   ]
  },
  {
   "cell_type": "markdown",
   "id": "072bd690-756a-4e8a-a382-1611fd6a9a31",
   "metadata": {},
   "source": [
    "It is the strictest keyword, even a child class cannot access the private variables declared in the parent class "
   ]
  },
  {
   "cell_type": "code",
   "execution_count": 13,
   "id": "c9410cde-3905-4a09-aaa7-94db916cce0a",
   "metadata": {},
   "outputs": [
    {
     "ename": "CompilationException",
     "evalue": "",
     "output_type": "error",
     "traceback": [
      "\u001b[1m\u001b[30m|   \u001b[1m\u001b[30m        \u001b[0m\u001b[1m\u001b[30m\u001b[41mtype\u001b[0m\u001b[1m\u001b[30m = \"tree\";\u001b[0m",
      "\u001b[1m\u001b[31mtype has private access in Plant\u001b[0m",
      ""
     ]
    }
   ],
   "source": [
    "public class Oak extends Plant {\n",
    "    public Oak() {\n",
    "        type = \"tree\"; \n",
    "    }\n",
    "}"
   ]
  },
  {
   "cell_type": "markdown",
   "id": "1321f241-6137-458c-bca4-1997d05ac585",
   "metadata": {},
   "source": [
    "### Protected Variables and Methods\n",
    "\n",
    "**Protected** is in between public and private. Protected variables are accessible within the class, within child classes, and within the same package. But remains inaccessible from outside these classes."
   ]
  },
  {
   "cell_type": "code",
   "execution_count": 29,
   "id": "8d729bbd-1747-480c-97bb-831f391a8461",
   "metadata": {
    "tags": []
   },
   "outputs": [],
   "source": [
    "// Protected variables accessible in child class\n",
    "public class Oak extends Plant {\n",
    "    public Oak() {\n",
    "        this.size = \"large\"; \n",
    "    }\n",
    "}"
   ]
  },
  {
   "cell_type": "code",
   "execution_count": 32,
   "id": "73e1c6c2-c76b-4adb-b066-6a3bd39446a5",
   "metadata": {},
   "outputs": [
    {
     "name": "stdout",
     "output_type": "stream",
     "text": [
      "medium\n"
     ]
    }
   ],
   "source": [
    "// This will work because Field is in the same package as Plant\n",
    "\n",
    "public class Field {\n",
    "    private Plant plant = new Plant();\n",
    "    \n",
    "    public Field() {\n",
    "        System.out.println(plant.size);\n",
    "    }\n",
    "}\n",
    "\n",
    "Field field = new Field()"
   ]
  },
  {
   "cell_type": "markdown",
   "id": "4ba54bdd-eea9-4651-a207-259b8fa876fa",
   "metadata": {},
   "source": [
    "Say the class `Plant` is in the package called *world*, and is in imported into the script like this:\n",
    "\n",
    "```java\n",
    "import world.Plant;\n",
    "\n",
    "public class App {\n",
    "    public static void main(String[] args) {\n",
    "        Plant plant = new Plant();\n",
    "        System.out.println(plant.size);\n",
    "    }\n",
    "}\n",
    "```\n",
    "\n",
    "It will not work as the variable `size` is protected and thus cannot be called from outside the *world* package.\n"
   ]
  },
  {
   "cell_type": "code",
   "execution_count": null,
   "id": "8c56308d-07a2-43e7-b689-0ea5028581c4",
   "metadata": {},
   "outputs": [],
   "source": []
  },
  {
   "cell_type": "code",
   "execution_count": null,
   "id": "c08dbc1e-6691-455a-a1bc-88c4a048f48a",
   "metadata": {},
   "outputs": [],
   "source": []
  }
 ],
 "metadata": {
  "kernelspec": {
   "display_name": "Java",
   "language": "java",
   "name": "java"
  },
  "language_info": {
   "codemirror_mode": "java",
   "file_extension": ".jshell",
   "mimetype": "text/x-java-source",
   "name": "Java",
   "pygments_lexer": "java",
   "version": "11.0.15+10-Ubuntu-0ubuntu0.20.04.1"
  }
 },
 "nbformat": 4,
 "nbformat_minor": 5
}
