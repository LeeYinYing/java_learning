{
 "cells": [
  {
   "cell_type": "markdown",
   "id": "a82336af-8503-406d-95d0-06a5e8884529",
   "metadata": {},
   "source": [
    "# 7. Native Object Methods"
   ]
  },
  {
   "cell_type": "markdown",
   "id": "01ee0ca5-0419-4852-b2cb-9becce06a7e1",
   "metadata": {},
   "source": [
    "Every single class/object created in Java inherits the native parent `Object()` class. Thus all objects created will have some native and default methods available. In this notebook, we will go through some of them. "
   ]
  },
  {
   "cell_type": "markdown",
   "id": "220cc0ae-e323-431f-ab4a-dcbf719a9566",
   "metadata": {},
   "source": [
    "## The `toString()` Method"
   ]
  },
  {
   "cell_type": "markdown",
   "id": "1a570f87-67de-4c28-a908-ef61b8a53040",
   "metadata": {},
   "source": [
    "When we create a class, the toString method is used to output human readable texts that represents the class. Here's an example comparing a class with and without customizing the toString method. "
   ]
  },
  {
   "cell_type": "code",
   "execution_count": 9,
   "id": "e7775c88-0ee7-4718-a1e2-fac40f07650e",
   "metadata": {},
   "outputs": [
    {
     "name": "stdout",
     "output_type": "stream",
     "text": [
      "REPL.$JShell$12E$Frog@1d3bc49f\n"
     ]
    }
   ],
   "source": [
    "// By Default the toString method prints the hash code as\n",
    "// the representation of the class\n",
    "\n",
    "class Frog {\n",
    "}\n",
    "\n",
    "Frog frog1 = new Frog();\n",
    "System.out.println(frog1);"
   ]
  },
  {
   "cell_type": "code",
   "execution_count": 7,
   "id": "faf2f273-d5b6-4162-be0b-3c3a2b925e37",
   "metadata": {},
   "outputs": [
    {
     "name": "stdout",
     "output_type": "stream",
     "text": [
      "I am a Named Frog\n"
     ]
    }
   ],
   "source": [
    "// By customizing toString, we can print out self-defined representation \n",
    "// of the class\n",
    "\n",
    "class NamedFrog {\n",
    "    public String toString(){\n",
    "        return \"I am a Named Frog\";\n",
    "    }\n",
    "}\n",
    "\n",
    "NamedFrog namedfrog1 = new NamedFrog();\n",
    "System.out.println(namedfrog1);"
   ]
  },
  {
   "cell_type": "code",
   "execution_count": 14,
   "id": "1617e225-cc56-4074-bb70-3b51a01db512",
   "metadata": {},
   "outputs": [
    {
     "name": "stdout",
     "output_type": "stream",
     "text": [
      "7  : Freddy\n",
      "5  : Roger\n"
     ]
    }
   ],
   "source": [
    "// Example usecase: Identify instances\n",
    "\n",
    "class Frog {\n",
    "    private int id;\n",
    "    private String name;\n",
    "    \n",
    "    public Frog(int id, String name) {\n",
    "        this.id = id;\n",
    "        this.name = name;\n",
    "    }\n",
    "    \n",
    "    public String toString() {\n",
    "        return String.format(\"%-3d: %s\", id, name);\n",
    "        \n",
    "        /* Another Example\n",
    "        StringBuilder sb = new StringBuilder();\n",
    "        sb.append(id).append(\": \").append(name);\n",
    "        \n",
    "        return sb.toString();\n",
    "        */\n",
    "    }\n",
    "}\n",
    "\n",
    "Frog frog1 = new Frog(7, \"Freddy\");\n",
    "Frog frog2 = new Frog(5, \"Roger\");\n",
    "\n",
    "System.out.println(frog1);\n",
    "System.out.println(frog2);"
   ]
  },
  {
   "cell_type": "code",
   "execution_count": null,
   "id": "372f3257-1826-4b35-8ba6-8e371c5759ec",
   "metadata": {},
   "outputs": [],
   "source": []
  }
 ],
 "metadata": {
  "kernelspec": {
   "display_name": "Java",
   "language": "java",
   "name": "java"
  },
  "language_info": {
   "codemirror_mode": "java",
   "file_extension": ".jshell",
   "mimetype": "text/x-java-source",
   "name": "Java",
   "pygments_lexer": "java",
   "version": "11.0.15+10-Ubuntu-0ubuntu0.20.04.1"
  }
 },
 "nbformat": 4,
 "nbformat_minor": 5
}
