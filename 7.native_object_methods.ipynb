{
 "cells": [
  {
   "cell_type": "markdown",
   "id": "a82336af-8503-406d-95d0-06a5e8884529",
   "metadata": {},
   "source": [
    "# 7. Native Object Methods"
   ]
  },
  {
   "cell_type": "markdown",
   "id": "01ee0ca5-0419-4852-b2cb-9becce06a7e1",
   "metadata": {},
   "source": [
    "Every single class/object created in Java inherits the native parent `Object()` class. Thus all objects created will have some native and default methods available. In this notebook, we will go through some of them. "
   ]
  },
  {
   "cell_type": "markdown",
   "id": "0c5a38c9-b39d-4236-a929-477a69d03c7c",
   "metadata": {},
   "source": [
    "## Inheritance"
   ]
  },
  {
   "cell_type": "markdown",
   "id": "4be9c010-15be-44dc-a112-4cd6310c22b6",
   "metadata": {},
   "source": [
    "Ultimately the ancestor of all classes we write is the `Object()` class. Hence, even for a seemingly empty class as such:\n",
    "```\n",
    "public class Manager{\n",
    "}\n",
    "```\n",
    "These classes will still have some default methods such as `toString()` and `equal()` available. These methods were defined in the `Object()` class and inherited to the classes we write. To demonstrate inheritance say we have a class Machine as following:"
   ]
  },
  {
   "cell_type": "code",
   "execution_count": 13,
   "id": "74c53072-2f2a-4544-8412-76330b5b56a9",
   "metadata": {},
   "outputs": [],
   "source": [
    "public class Machine{\n",
    "    \n",
    "    public void start() {\n",
    "        System.out.println(\"Machine Started.\");\n",
    "    }\n",
    "    \n",
    "    public void stop() {\n",
    "        System.out.println(\"Machine Stopped.\");\n",
    "    }\n",
    "}"
   ]
  },
  {
   "cell_type": "code",
   "execution_count": 3,
   "id": "acee6d21-bda6-423c-97cc-71b58fc35e5d",
   "metadata": {},
   "outputs": [
    {
     "name": "stdout",
     "output_type": "stream",
     "text": [
      "Machine Started.\n",
      "Machine Stopped.\n"
     ]
    }
   ],
   "source": [
    "Machine mach1 = new Machine();\n",
    "mach1.start();\n",
    "mach1.stop();"
   ]
  },
  {
   "cell_type": "markdown",
   "id": "5783d4a0-4e73-419d-9738-ca3294e6bfe1",
   "metadata": {},
   "source": [
    "Then we can extend the Machine class into a separate class Car. The Car class will inherit all of the methods defined in the Machine class. We can also define additional methods in the class Car."
   ]
  },
  {
   "cell_type": "code",
   "execution_count": 11,
   "id": "d1e50995-b169-4d59-9121-cf204e375563",
   "metadata": {},
   "outputs": [
    {
     "name": "stdout",
     "output_type": "stream",
     "text": [
      "Car Started.\n",
      "Machine Stopped.\n",
      "Wiping Windshield\n"
     ]
    }
   ],
   "source": [
    "// The keyword extends define that this is a descendent class that extends \n",
    "// the Machine class. \n",
    "public class Car extends Machine {\n",
    "    \n",
    "    // Overwrite parent method. Note the header must be identical\n",
    "    // to the parent class.\n",
    "    // The @Override annotation checks that this method actually exists\n",
    "    // in the parent class.\n",
    "    @Override \n",
    "    public void start() {\n",
    "        System.out.println(\"Car Started.\");\n",
    "    }\n",
    "    \n",
    "    // Extends new method\n",
    "    public void wipeWindShield() {\n",
    "        System.out.println(\"Wiping Windshield\");\n",
    "    }\n",
    "}\n",
    "\n",
    "Car car1 = new Car();\n",
    "// Overwritten methods from the Machine Class\n",
    "car1.start();\n",
    "// Inherited method from Machine Class\n",
    "car1.stop();\n",
    "// Method extended in the Car Class\n",
    "car1.wipeWindShield();"
   ]
  },
  {
   "cell_type": "markdown",
   "id": "b7903be9-1ab9-4ffa-8bb6-bbc4c26ddbcf",
   "metadata": {},
   "source": [
    "Most classes can be extended, the only exception is for example the `String()` class, which is a `final` class. The `final` attribute makes the object immutable. "
   ]
  },
  {
   "cell_type": "markdown",
   "id": "ca16e127-765b-4924-bc1e-506d0064b911",
   "metadata": {},
   "source": [
    "> **NOTE**:\n",
    "> The 'public', 'private', and 'protected' attributes will affect how much a descendant classes can access attributes and methods from the parent class. In general, it is not suggested to overwrite attributes, thus attributes can be defined as 'private' to make it inaccessible to child objects. "
   ]
  },
  {
   "cell_type": "markdown",
   "id": "220cc0ae-e323-431f-ab4a-dcbf719a9566",
   "metadata": {},
   "source": [
    "## The `toString()` Method"
   ]
  },
  {
   "cell_type": "markdown",
   "id": "1a570f87-67de-4c28-a908-ef61b8a53040",
   "metadata": {},
   "source": [
    "When we create a class, the toString method is used to output human readable texts that represents the class. Here's an example comparing a class with and without customizing the toString method. "
   ]
  },
  {
   "cell_type": "code",
   "execution_count": 9,
   "id": "e7775c88-0ee7-4718-a1e2-fac40f07650e",
   "metadata": {},
   "outputs": [
    {
     "name": "stdout",
     "output_type": "stream",
     "text": [
      "REPL.$JShell$12E$Frog@1d3bc49f\n"
     ]
    }
   ],
   "source": [
    "// By Default the toString method prints the hash code as\n",
    "// the representation of the class\n",
    "\n",
    "class Frog {\n",
    "}\n",
    "\n",
    "Frog frog1 = new Frog();\n",
    "System.out.println(frog1);"
   ]
  },
  {
   "cell_type": "code",
   "execution_count": 7,
   "id": "faf2f273-d5b6-4162-be0b-3c3a2b925e37",
   "metadata": {},
   "outputs": [
    {
     "name": "stdout",
     "output_type": "stream",
     "text": [
      "I am a Named Frog\n"
     ]
    }
   ],
   "source": [
    "// By customizing toString, we can print out self-defined representation \n",
    "// of the class\n",
    "\n",
    "class NamedFrog {\n",
    "    public String toString(){\n",
    "        return \"I am a Named Frog\";\n",
    "    }\n",
    "}\n",
    "\n",
    "NamedFrog namedfrog1 = new NamedFrog();\n",
    "System.out.println(namedfrog1);"
   ]
  },
  {
   "cell_type": "code",
   "execution_count": 14,
   "id": "1617e225-cc56-4074-bb70-3b51a01db512",
   "metadata": {},
   "outputs": [
    {
     "name": "stdout",
     "output_type": "stream",
     "text": [
      "7  : Freddy\n",
      "5  : Roger\n"
     ]
    }
   ],
   "source": [
    "// Example usecase: Identify instances\n",
    "\n",
    "class Frog {\n",
    "    private int id;\n",
    "    private String name;\n",
    "    \n",
    "    public Frog(int id, String name) {\n",
    "        this.id = id;\n",
    "        this.name = name;\n",
    "    }\n",
    "    \n",
    "    public String toString() {\n",
    "        return String.format(\"%-3d: %s\", id, name);\n",
    "        \n",
    "        /* Another Example\n",
    "        StringBuilder sb = new StringBuilder();\n",
    "        sb.append(id).append(\": \").append(name);\n",
    "        \n",
    "        return sb.toString();\n",
    "        */\n",
    "    }\n",
    "}\n",
    "\n",
    "Frog frog1 = new Frog(7, \"Freddy\");\n",
    "Frog frog2 = new Frog(5, \"Roger\");\n",
    "\n",
    "System.out.println(frog1);\n",
    "System.out.println(frog2);"
   ]
  },
  {
   "cell_type": "code",
   "execution_count": null,
   "id": "372f3257-1826-4b35-8ba6-8e371c5759ec",
   "metadata": {},
   "outputs": [],
   "source": []
  }
 ],
 "metadata": {
  "kernelspec": {
   "display_name": "Java",
   "language": "java",
   "name": "java"
  },
  "language_info": {
   "codemirror_mode": "java",
   "file_extension": ".jshell",
   "mimetype": "text/x-java-source",
   "name": "Java",
   "pygments_lexer": "java",
   "version": "11.0.15+10-Ubuntu-0ubuntu0.20.04.1"
  }
 },
 "nbformat": 4,
 "nbformat_minor": 5
}
