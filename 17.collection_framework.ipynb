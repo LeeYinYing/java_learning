{
 "cells": [
  {
   "cell_type": "markdown",
   "id": "b3c05867-06ba-4ad4-8398-dfc65f7a2d3e",
   "metadata": {},
   "source": [
    "# 17. Collection Framework"
   ]
  },
  {
   "cell_type": "markdown",
   "id": "ced4fe5f-0318-4591-8bfe-53e7215c820a",
   "metadata": {},
   "source": [
    "## ArrayList"
   ]
  },
  {
   "cell_type": "code",
   "execution_count": 13,
   "id": "5056459d-1c9c-418e-8b93-22d426b2f4e2",
   "metadata": {},
   "outputs": [
    {
     "name": "stdout",
     "output_type": "stream",
     "text": [
      "10\n",
      "\n",
      "Interation #1: \n",
      "10\n",
      "100\n",
      "40\n",
      "\n",
      "Interation #2: \n",
      "10\n",
      "100\n",
      "40\n"
     ]
    }
   ],
   "source": [
    "ArrayList<Integer> numbers = new ArrayList<Integer>();\n",
    "\n",
    "// Adding items\n",
    "numbers.add(10);\n",
    "numbers.add(100);\n",
    "numbers.add(40);\n",
    "\n",
    "// Retrieving items\n",
    "System.out.println(numbers.get(0));\n",
    "\n",
    "// Indexed for loop iteration\n",
    "System.out.println(\"\\nInteration #1: \");\n",
    "for(int i=0; i<numbers.size(); i++) {\n",
    "    System.out.println(numbers.get(i));\n",
    "}\n",
    "\n",
    "System.out.println(\"\\nInteration #2: \");\n",
    "for(Integer value: numbers) {\n",
    "    System.out.println(value);\n",
    "}\n",
    "\n",
    "// Removing items (careful!)\n",
    "numbers.remove(numbers.size()-1);\n",
    "\n",
    "// This is VERY Slow! Because in Java, after removing an item in the beginning/middle of the list\n",
    "// It will need to shift all of the subsequent items up, and this can be computationally expensive\n",
    "// if the list is large. This can be mediated by `LinkedList`.\n",
    "numbers.remove(0); \n",
    "\n",
    "// The ArrayList implements the List interface, so the common syntax is also commonly seen. \n",
    "// This syntax is saying `values` can store anything that implements the List interface. \n",
    "List<String> values = new ArrayList<String>();"
   ]
  },
  {
   "cell_type": "markdown",
   "id": "90563e65-4703-4653-89f7-35a7e8eafcf7",
   "metadata": {},
   "source": [
    "## LinkedList"
   ]
  },
  {
   "cell_type": "markdown",
   "id": "6287b6ab-ec5f-4ada-96bc-4f252e2a9376",
   "metadata": {},
   "source": [
    "`LinkedList` is most often used for the case where we will need to delete items from the middle or beginning of the list. This is computationally expensive in `ArrayList` as Java will shift all subsequent items up to fill the gap. This can be VERY slow with large lists. This is also the case if we need to add items in the middle of the list.\n",
    "\n",
    "ArrayLists manage arrays internally, e.g.: `[0][1][2][3][4][5]...`. So traversing the list is very fast with ArrayLists. By default and ArrayList is created with memory for 10 items. If we add the 11th item, it will create a new array with double the memory, and copy the initial array over and add the new item. So any modifications near the end of the list is also relatively fast. But if we make modifications to the start or the middle of the list, it will need to shift all of the following items up or down the list. Which them makes it really slow.\n",
    "\n",
    "LinkedList consists of elements where each element has a reference to the previous and next element, e.g. `[0]-><-[1]-><-[2]...`. Traversing a LinkedList is slower, because it needs to follow and get all the reference to find the values that we want. But LinkedList solves the problem of modifying items in start/middle of the list, because all it needs to do is change the forward and backward reference of the surrounding elements. "
   ]
  },
  {
   "cell_type": "code",
   "execution_count": 22,
   "id": "9ce2b072-f554-4887-9cdf-5095daac2607",
   "metadata": {},
   "outputs": [
    {
     "name": "stdout",
     "output_type": "stream",
     "text": [
      "Time taken for add at start of list: 4450ms for ArrayList\n",
      "Time taken for add at start of list: 29ms for LinkedList\n"
     ]
    }
   ],
   "source": [
    "ArrayList<Integer> arrayList = new ArrayList<Integer>();\n",
    "LinkedList<Integer> linkedList = new LinkedList<Integer>();\n",
    "\n",
    "doTimings(\"ArrayList\", arrayList);\n",
    "doTimings(\"LinkedList\", linkedList);\n",
    "\n",
    "// Pass in anything that implements the List interface, which include both the ArrayList and \n",
    "// LinkedList\n",
    "private static void doTimings(String type, List<Integer> list){\n",
    "    for (int i=0; i<1E5; i++){\n",
    "        list.add(i);\n",
    "    }\n",
    "    \n",
    "    long start = System.currentTimeMillis();\n",
    "    \n",
    "    /*\n",
    "    // Add items at the end of list\n",
    "    for(int i=0; i<1E5; i++){\n",
    "        list.add(i);\n",
    "    }\n",
    "    */\n",
    "    \n",
    "    // Add items at the start in list\n",
    "    for (int i=0; i<1E5; i++){\n",
    "        list.add(0, i);\n",
    "    }\n",
    "    \n",
    "    long end = System.currentTimeMillis();\n",
    "    \n",
    "    System.out.println(\"Time taken for add at start of list: \" + (end-start) + \"ms for \" + type);\n",
    "}"
   ]
  },
  {
   "cell_type": "markdown",
   "id": "05b159b4-23ae-4b1b-9d9c-5fc26e5b0e1a",
   "metadata": {},
   "source": [
    "## HashMap"
   ]
  },
  {
   "cell_type": "markdown",
   "id": "b37b550a-86d2-4854-b574-de5dcf2dece0",
   "metadata": {},
   "source": [
    "A hash is a unique identifier for an object. Say we have the class `Temp` with no `toString` methods. We can see its hash code printed out after the *Temp@*. "
   ]
  },
  {
   "cell_type": "code",
   "execution_count": 31,
   "id": "7c17a06a-7c2e-41af-961a-6c22c1dffa43",
   "metadata": {},
   "outputs": [
    {
     "name": "stdout",
     "output_type": "stream",
     "text": [
      "REPL.$JShell$186$Temp@1cbe1b49\n"
     ]
    }
   ],
   "source": [
    "class Temp {\n",
    "}\n",
    "\n",
    "System.out.println(new Temp());"
   ]
  },
  {
   "cell_type": "markdown",
   "id": "a88fa2b0-1797-41d2-8a4a-7c6164cfdf3c",
   "metadata": {},
   "source": [
    "A HashMap is then a list of key:value pairs that uses the hash code to store and reference objects."
   ]
  },
  {
   "cell_type": "code",
   "execution_count": 30,
   "id": "4652e314-455c-43c6-b2db-6313c4a8ab33",
   "metadata": {},
   "outputs": [
    {
     "name": "stdout",
     "output_type": "stream",
     "text": [
      "null\n",
      "Five\n",
      "Hello\n",
      "\n",
      "First Iteration\n",
      "2: Two\n",
      "5: Five\n",
      "6: Hello\n",
      "8: Eight\n"
     ]
    }
   ],
   "source": [
    "HashMap<Integer, String> map = new HashMap<Integer, String>();\n",
    "\n",
    "\n",
    "// Adding items\n",
    "map.put(5, \"Five\");\n",
    "map.put(6, \"Six\");\n",
    "map.put(2, \"Two\");\n",
    "map.put(8, \"Eight\");\n",
    "\n",
    "// Retriving items\n",
    "System.out.println(map.get(4)); // Non-existent key\n",
    "System.out.println(map.get(5));\n",
    "\n",
    "// Overwriting Key Values\n",
    "map.put(6, \"Hello\");\n",
    "System.out.println(map.get(6));\n",
    "\n",
    "// Iterating through HashMaps\n",
    "// NOTE: That HashMaps are not sorted and does not maintain order. When we iterate through a \n",
    "//       HashMap, it is very possible to randomly have one iteration where the order changes. \n",
    "System.out.println(\"\\nFirst Iteration\");\n",
    "for(Map.Entry<Integer, String> entry: map.entrySet()) {\n",
    "    int key = entry.getKey();\n",
    "    String value = entry.getValue();\n",
    "    \n",
    "    System.out.println(key + \": \" + value);\n",
    "}"
   ]
  },
  {
   "cell_type": "markdown",
   "id": "71507cf1-b679-458e-9f44-e80be252a332",
   "metadata": {},
   "source": [
    "## Sorted Maps"
   ]
  },
  {
   "cell_type": "markdown",
   "id": "225e11d9-a80e-4e4e-a646-a75a446c35b4",
   "metadata": {},
   "source": [
    "HashMap does not keep any order to the keys. There are two ways in which we can create maps that maintain the order of the keys and values: `LinkedHashMap`, `TreeMap`. \n",
    "\n",
    "LinkedHashMap adds linked list connecting entries in a HashMap. It uses the same implementation as described for `LinkedList` above.\n",
    "\n",
    "TreeMap uses the tree structure to maintain order in a HashMap. A \"tree\" is a basic structure in computing that sorts the value added to it in its natural order (usually). "
   ]
  },
  {
   "cell_type": "code",
   "execution_count": 37,
   "id": "176450e8-e080-4c5a-8a57-c99b6b0fe547",
   "metadata": {},
   "outputs": [],
   "source": [
    "import java.util.Map;"
   ]
  },
  {
   "cell_type": "code",
   "execution_count": 45,
   "id": "def9d0dd-7be5-456f-9df7-b1ae8cde5b8b",
   "metadata": {},
   "outputs": [
    {
     "name": "stdout",
     "output_type": "stream",
     "text": [
      "HashMap: \n",
      "0: swan\n",
      "1: giraffe\n",
      "4: cat\n",
      "6: snake\n",
      "8: dop\n",
      "9: fox\n",
      "15: bear\n",
      "\n",
      "LinkedHashMap\n",
      "9: fox\n",
      "4: cat\n",
      "8: dop\n",
      "1: giraffe\n",
      "0: swan\n",
      "15: bear\n",
      "6: snake\n",
      "\n",
      "TreeMap\n",
      "0: swan\n",
      "1: giraffe\n",
      "4: cat\n",
      "6: snake\n",
      "8: dop\n",
      "9: fox\n",
      "15: bear\n"
     ]
    }
   ],
   "source": [
    "// All of the follow implements the Map interface\n",
    "Map<Integer, String> hashMap = new HashMap<Integer, String>();\n",
    "Map<Integer, String> linkedHashMap = new LinkedHashMap<Integer, String>();\n",
    "Map<Integer, String> treeMap = new TreeMap<Integer, String>();\n",
    "\n",
    "System.out.println(\"HashMap: \");\n",
    "testMap(hashMap);\n",
    "\n",
    "System.out.println(\"\\nLinkedHashMap\");\n",
    "testMap(linkedHashMap);\n",
    "\n",
    "System.out.println(\"\\nTreeMap\");\n",
    "testMap(treeMap);\n",
    "\n",
    "public static void testMap(Map<Integer, String> map) {\n",
    "    map.put(9, \"fox\");\n",
    "    map.put(4, \"cat\");\n",
    "    map.put(8, \"dop\");\n",
    "    map.put(1, \"giraffe\");\n",
    "    map.put(0, \"swan\");\n",
    "    map.put(15, \"bear\");\n",
    "    map.put(6, \"snake\");\n",
    "    \n",
    "    // map.keySet() will retrieve the set of keys\n",
    "    for(Integer key: map.keySet()) {\n",
    "        String value = map.get(key);\n",
    "        System.out.println(key + \": \" + value);\n",
    "    }\n",
    "}"
   ]
  },
  {
   "cell_type": "markdown",
   "id": "9693a960-23a8-42aa-869a-e207cf7f5b6c",
   "metadata": {},
   "source": [
    "- `HashMap` will have no inherent order\n",
    "- `LinkedHashMap` will be sorted in the order that we have added the elements\n",
    "- `TreeMap` will be sorted in the key's natural order"
   ]
  },
  {
   "cell_type": "markdown",
   "id": "7cd5c204-384d-4cd2-8d63-5d69de08bb02",
   "metadata": {},
   "source": [
    "## Set"
   ]
  },
  {
   "cell_type": "code",
   "execution_count": null,
   "id": "3aef8ec9-fe3f-42a1-ae7d-eebffd768b71",
   "metadata": {},
   "outputs": [],
   "source": []
  }
 ],
 "metadata": {
  "kernelspec": {
   "display_name": "Java",
   "language": "java",
   "name": "java"
  },
  "language_info": {
   "codemirror_mode": "java",
   "file_extension": ".jshell",
   "mimetype": "text/x-java-source",
   "name": "Java",
   "pygments_lexer": "java",
   "version": "11.0.15+10-Ubuntu-0ubuntu0.20.04.1"
  }
 },
 "nbformat": 4,
 "nbformat_minor": 5
}
