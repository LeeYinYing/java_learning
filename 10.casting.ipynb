{
 "cells": [
  {
   "cell_type": "markdown",
   "id": "fca0a4b4-0692-4347-b444-8458549c22d0",
   "metadata": {},
   "source": [
    "# 10. Casting"
   ]
  },
  {
   "cell_type": "markdown",
   "id": "26a586d5-c759-45b2-9b35-7779d7c0c0d9",
   "metadata": {},
   "source": [
    "Casting is the conversion between variable reference. It should be make the distinguishable from the object itself. Say for the following example of the class `Machine`. \n",
    "\n",
    "When we initiate the variable as such:\n",
    "```java\n",
    "Machine mach1 = new Machine();\n",
    "```\n",
    "The **reference variable** is the left of the *=* sign, `mach1` is the name of the variable of type `Machine`. \n",
    "\n",
    "The **object** is on the right of the *=* sign, it is the actual object itself that is initiated by `new Machine()`. \n",
    "\n",
    "When we create a new object, the object will always stay as the same object. So a `Machine` is always be a machine and `Camera` will always stay a camera. However, we can refer to the object with different but related variables types, and this is called **casting**. "
   ]
  },
  {
   "cell_type": "code",
   "execution_count": 1,
   "id": "9c845d87-794e-4ffa-9ea5-f58833a4b723",
   "metadata": {},
   "outputs": [],
   "source": [
    "class Machine {\n",
    "    public void start() {\n",
    "        System.out.println(\"Machine started\");\n",
    "    }\n",
    "}\n",
    "\n",
    "class Camera extends Machine {\n",
    "    public void start() {\n",
    "        System.out.println(\"Camera started\");\n",
    "    }\n",
    "    public void snap() {\n",
    "        System.out.println(\"Photo taken\");\n",
    "    }\n",
    "}"
   ]
  },
  {
   "cell_type": "code",
   "execution_count": 2,
   "id": "0add6d53-6289-409a-b5ec-42f6f1243586",
   "metadata": {},
   "outputs": [],
   "source": [
    "Machine machine1 = new Machine();\n",
    "Camera camera1 = new Camera();"
   ]
  },
  {
   "cell_type": "code",
   "execution_count": 3,
   "id": "15ba531c-fff0-4e38-9bd8-278dc3b075cb",
   "metadata": {},
   "outputs": [
    {
     "name": "stdout",
     "output_type": "stream",
     "text": [
      "Machine started\n"
     ]
    }
   ],
   "source": [
    "machine1.start();"
   ]
  },
  {
   "cell_type": "code",
   "execution_count": 4,
   "id": "a51005ea-b0e5-4252-9da8-13d891cfce82",
   "metadata": {},
   "outputs": [
    {
     "name": "stdout",
     "output_type": "stream",
     "text": [
      "Camera started\n",
      "Photo taken\n"
     ]
    }
   ],
   "source": [
    "camera1.start();\n",
    "camera1.snap();"
   ]
  },
  {
   "cell_type": "markdown",
   "id": "19c4d5b1-eb30-45a5-bc42-6b64980a6a4f",
   "metadata": {},
   "source": [
    "## Upcasting"
   ]
  },
  {
   "cell_type": "markdown",
   "id": "43708009-b7bb-456c-8a1b-577ac386e5b0",
   "metadata": {},
   "source": [
    "Upcasting is when the casted variable type is higher in the hierarchy. In the example below, we have casted the reference to the camera1 object to variable with Machine type reference. This is upcasting because we have gone up the hierarchy tree as `Machine` is the parent class of `Camera`. "
   ]
  },
  {
   "cell_type": "code",
   "execution_count": 5,
   "id": "7c07415b-74f7-4906-a20f-71637c43baad",
   "metadata": {},
   "outputs": [],
   "source": [
    "Machine machine2 = camera1;"
   ]
  },
  {
   "cell_type": "code",
   "execution_count": 6,
   "id": "26956005-13f9-4420-b3d7-4b112f98eaa4",
   "metadata": {},
   "outputs": [
    {
     "name": "stdout",
     "output_type": "stream",
     "text": [
      "Camera started\n"
     ]
    }
   ],
   "source": [
    "machine2.start();"
   ]
  },
  {
   "cell_type": "code",
   "execution_count": 7,
   "id": "7a00ccbd-e27b-4367-bde5-1e3b271240fa",
   "metadata": {},
   "outputs": [
    {
     "ename": "CompilationException",
     "evalue": "",
     "output_type": "error",
     "traceback": [
      "\u001b[1m\u001b[30m|   \u001b[1m\u001b[30m\u001b[0m\u001b[1m\u001b[30m\u001b[41mmachine2.snap\u001b[0m\u001b[1m\u001b[30m();\u001b[0m",
      "\u001b[1m\u001b[31mcannot find symbol\u001b[0m",
      "\u001b[1m\u001b[31m  symbol:   method snap()\u001b[0m",
      ""
     ]
    }
   ],
   "source": [
    "machine2.snap();"
   ]
  },
  {
   "cell_type": "markdown",
   "id": "42a84784-3928-43d8-9002-19d31b5daa57",
   "metadata": {},
   "source": [
    "It is the actual variable that decides what method can be called. The variable defines what methods can be called with the specific variable type. In this case, the Machine class does not have a method called `snap()` hence, we cannot call that method through this variable type."
   ]
  },
  {
   "cell_type": "markdown",
   "id": "31e23295-3968-4dfb-83fb-223abb60b881",
   "metadata": {},
   "source": [
    "### Polymorphism"
   ]
  },
  {
   "cell_type": "markdown",
   "id": "d0bcad4f-c5ed-4b38-b856-d622b7973f4a",
   "metadata": {},
   "source": [
    "An special characteristic of upcasting is called polymorphism. Polymorphism in Java is an object-orientated concept. It means that if we have a child class, we can always use the child class anywhere the parent class maybe used. To demonstrate this say we have an object class `Plant` and it extends to the subclass `Tree`. "
   ]
  },
  {
   "cell_type": "code",
   "execution_count": 9,
   "id": "2ca94233-3bf5-4156-a225-ca24a3c0696c",
   "metadata": {},
   "outputs": [],
   "source": [
    "public class Plant {\n",
    "    public void grow() {\n",
    "        System.out.println(\"Plant is growing\");\n",
    "    }\n",
    "}\n",
    "\n",
    "public class Tree extends Plant {\n",
    "    @Override\n",
    "    public void grow() {\n",
    "        System.out.println(\"Tree is growing\");\n",
    "    }\n",
    "    \n",
    "    public void shedLeaves() {\n",
    "        System.out.println(\"Leaves shedding\");\n",
    "    }\n",
    "}\n"
   ]
  },
  {
   "cell_type": "code",
   "execution_count": 10,
   "id": "7c946d6b-a1ec-47ac-871e-74bc36c66db8",
   "metadata": {},
   "outputs": [],
   "source": [
    "Plant plant = new Plant();\n",
    "Tree tree = new Tree();"
   ]
  },
  {
   "cell_type": "markdown",
   "id": "37ee2b31-5ceb-410a-8177-c30beb17b2b9",
   "metadata": {},
   "source": [
    "Say now we made a variable with type `Plant` that reference to the same `tree` object"
   ]
  },
  {
   "cell_type": "code",
   "execution_count": 7,
   "id": "4453b1f4-1b07-4e46-afbe-eecb04665db3",
   "metadata": {},
   "outputs": [],
   "source": [
    "Plant plant2 = tree;"
   ]
  },
  {
   "cell_type": "markdown",
   "id": "4483e32b-7c5e-454c-9372-cd593f32a5b6",
   "metadata": {},
   "source": [
    "The important thing in here is that the `plant2` is also a reference to the object `tree`, so it will use the `grow()` method from `Tree`. In this case it is the object that matters."
   ]
  },
  {
   "cell_type": "code",
   "execution_count": 8,
   "id": "99432025-bb2f-4987-8b99-a04884dbadd6",
   "metadata": {},
   "outputs": [
    {
     "name": "stdout",
     "output_type": "stream",
     "text": [
      "Tree is growing\n"
     ]
    }
   ],
   "source": [
    "plant2.grow();"
   ]
  },
  {
   "cell_type": "markdown",
   "id": "78ebe1a4-2923-4d0c-9ca3-b7e509642755",
   "metadata": {},
   "source": [
    "However in the case for the `shedLeaves()` method that only exists with the `Tree` object. An error would be raised when tried calling from the `plant2` object. "
   ]
  },
  {
   "cell_type": "code",
   "execution_count": 11,
   "id": "c75c1438-9dd5-4ba5-a137-abe3cafe575a",
   "metadata": {},
   "outputs": [
    {
     "name": "stdout",
     "output_type": "stream",
     "text": [
      "Leaves shedding\n"
     ]
    }
   ],
   "source": [
    "tree.shedLeaves();"
   ]
  },
  {
   "cell_type": "code",
   "execution_count": 12,
   "id": "3d9179b6-a8e6-4f3d-99ec-4597a6cf777c",
   "metadata": {},
   "outputs": [
    {
     "ename": "CompilationException",
     "evalue": "",
     "output_type": "error",
     "traceback": [
      "\u001b[1m\u001b[30m|   \u001b[1m\u001b[30m\u001b[0m\u001b[1m\u001b[30m\u001b[41mplant2.shedLeaves\u001b[0m\u001b[1m\u001b[30m();\u001b[0m",
      "\u001b[1m\u001b[31mcannot find symbol\u001b[0m",
      "\u001b[1m\u001b[31m  symbol:   method shedLeaves()\u001b[0m",
      ""
     ]
    }
   ],
   "source": [
    "plant2.shedLeaves();"
   ]
  },
  {
   "cell_type": "markdown",
   "id": "f71ca183-597e-40c1-a2a1-9ead6f4bedd7",
   "metadata": {},
   "source": [
    "This is because for any objects, the methods that can be called is dependent on the variable type that it was initiated with. With `plant2` it was initiated as a `Plant` type variable, hence `shedLeaves()` is not part of the list of methods that can be called from it."
   ]
  },
  {
   "cell_type": "markdown",
   "id": "33b3ecd3-89a1-43c1-87ff-e5aa144da1d2",
   "metadata": {},
   "source": [
    "A usecase in which polymorphism is used can be as the following where the parameter to a function is the object `Plant`."
   ]
  },
  {
   "cell_type": "code",
   "execution_count": 13,
   "id": "4b649852-d7af-4a22-84de-3cfc3f8d2390",
   "metadata": {},
   "outputs": [],
   "source": [
    "public static void doGrow(Plant plant){\n",
    "    plant.grow();\n",
    "}"
   ]
  },
  {
   "cell_type": "markdown",
   "id": "5183ec19-36b3-4f04-8bac-0384fa3744a8",
   "metadata": {},
   "source": [
    "With polymorphism, we can pass in an object of type class `Tree`, because `Tree` is a child class of `Plant`. "
   ]
  },
  {
   "cell_type": "code",
   "execution_count": 14,
   "id": "c8675908-1648-494c-ae9b-c6e5abdfbadb",
   "metadata": {},
   "outputs": [
    {
     "name": "stdout",
     "output_type": "stream",
     "text": [
      "Tree is growing\n"
     ]
    }
   ],
   "source": [
    "doGrow(tree);"
   ]
  },
  {
   "cell_type": "markdown",
   "id": "0b960965-c29c-4ee4-9ce5-6a6526e9c214",
   "metadata": {},
   "source": [
    "## Downcasting\n",
    "\n",
    "Reverse of upcasting, downcasting is when we cast an object with a reference variable that is lower in the hierarchy. For example, casting the `Machine()` class with its child class, `Camera()`, as the variable type. "
   ]
  },
  {
   "cell_type": "code",
   "execution_count": 14,
   "id": "29617881-164a-4597-8bc5-f5f11095a67d",
   "metadata": {},
   "outputs": [
    {
     "ename": "EvalException",
     "evalue": "class REPL.$JShell$12$Machine cannot be cast to class REPL.$JShell$13$Camera (REPL.$JShell$12$Machine and REPL.$JShell$13$Camera are in unnamed module of loader jdk.jshell.execution.DefaultLoaderDelegate$RemoteClassLoader @7b69c6ba)",
     "output_type": "error",
     "traceback": [
      "\u001b[1m\u001b[31m---------------------------------------------------------------------------\u001b[0m",
      "\u001b[1m\u001b[31mjava.lang.ClassCastException: class REPL.$JShell$12$Machine cannot be cast to class REPL.$JShell$13$Camera (REPL.$JShell$12$Machine and REPL.$JShell$13$Camera are in unnamed module of loader jdk.jshell.execution.DefaultLoaderDelegate$RemoteClassLoader @7b69c6ba)\u001b[0m",
      "\u001b[1m\u001b[31m\tat .(#27:1)\u001b[0m"
     ]
    }
   ],
   "source": [
    "Machine machine4 = new Machine();\n",
    "Camera camera3 = (Camera)machine4;\n",
    "\n",
    "camera3.start();"
   ]
  },
  {
   "cell_type": "markdown",
   "id": "f73ba925-f329-453a-814a-a7b33d31693d",
   "metadata": {},
   "source": [
    "We cannot do this because the actual object is a Machine, we cannot change the Machine object into a Camera object through simple casting. As child objects are lower down the hierarchy tree, it is very possible to have `Camera` methods that does not exists in `Machine`. If we try to call `Camera` methods by downcasting a `Machine` object, we will run into runtime errors. Hence this is forbidden to do in Java. "
   ]
  },
  {
   "cell_type": "markdown",
   "id": "0a23816b-cb46-41df-889e-856743efa907",
   "metadata": {},
   "source": [
    "In the following example, we have a `Camera` object was initiated with *Machine* type variable. Downcasting it back to a *Camera* type variable is valid. However because downcasting is inherently unsafe, we have a special syntax in Java to indicate it is what we really want to do. "
   ]
  },
  {
   "cell_type": "code",
   "execution_count": 9,
   "id": "750eaec6-ca1d-4dd7-9e3f-4cfe493a5d41",
   "metadata": {},
   "outputs": [
    {
     "ename": "CompilationException",
     "evalue": "",
     "output_type": "error",
     "traceback": [
      "\u001b[1m\u001b[30m|   \u001b[1m\u001b[30mCamera camera2 = \u001b[0m\u001b[1m\u001b[30m\u001b[41mmachine3\u001b[0m\u001b[1m\u001b[30m;\u001b[0m",
      "\u001b[1m\u001b[31mincompatible types: Machine cannot be converted to Camera\u001b[0m",
      ""
     ]
    }
   ],
   "source": [
    "Machine machine3 = new Camera();\n",
    "Camera camera2 = machine3;"
   ]
  },
  {
   "cell_type": "code",
   "execution_count": 15,
   "id": "6efad818-7387-47ba-ae08-658f9dc65769",
   "metadata": {
    "tags": []
   },
   "outputs": [
    {
     "name": "stdout",
     "output_type": "stream",
     "text": [
      "Camera started\n",
      "Photo taken\n"
     ]
    }
   ],
   "source": [
    "Camera camera2 = (Camera)machine3; //special syntax with () \n",
    "camera2.start();\n",
    "camera2.snap();"
   ]
  },
  {
   "cell_type": "markdown",
   "id": "4b99aa70-ac2a-4a83-a667-bfc19d400444",
   "metadata": {},
   "source": [
    "## Numerical Variable Casting"
   ]
  },
  {
   "cell_type": "code",
   "execution_count": 14,
   "id": "1641fb3d-0162-40fe-a859-a9d6f28fc390",
   "metadata": {},
   "outputs": [],
   "source": [
    "byte bytevalue = 20; //only within the range -128 <-> 127\n",
    "short shortvalue = 5; //16-bit\n",
    "int intvalue = 888; //32-bit\n",
    "long longvalue = 23333333;\n",
    "\n",
    "float floatvalue = 3.88f;\n",
    "double doublevalue = 2.22222222; //greater precision than float"
   ]
  },
  {
   "cell_type": "markdown",
   "id": "0d965a19-3aad-49f6-9e75-02af2d0e6589",
   "metadata": {},
   "source": [
    "Each variable type can be consider as a class and we can look for special attributes about the variable type be looking into the class variables. For example, to see the max value that can be stored with a `byte` variable:"
   ]
  },
  {
   "cell_type": "code",
   "execution_count": 4,
   "id": "f286596e-43ad-48e3-ae8e-1699b3441c14",
   "metadata": {},
   "outputs": [
    {
     "name": "stdout",
     "output_type": "stream",
     "text": [
      "127\n"
     ]
    }
   ],
   "source": [
    "System.out.println(Byte.MAX_VALUE);"
   ]
  },
  {
   "cell_type": "markdown",
   "id": "1a6465ae-a043-4a7c-b56c-dc7f12ed82e2",
   "metadata": {},
   "source": [
    "Casting of numerical variables is can be thought of as converting between different number types. For instance we want to convert an `int` value to a `double` value, we can simply assign the value to the variable that was initiated as an integer."
   ]
  },
  {
   "cell_type": "code",
   "execution_count": 9,
   "id": "9b391665-aa84-4e12-9c82-21ee032f4827",
   "metadata": {},
   "outputs": [
    {
     "data": {
      "text/plain": [
       "2.3333333E7"
      ]
     },
     "execution_count": 9,
     "metadata": {},
     "output_type": "execute_result"
    }
   ],
   "source": [
    "doublevalue = intvalue;\n",
    "doublevalue"
   ]
  },
  {
   "cell_type": "markdown",
   "id": "26fb1763-0e1b-4137-b88c-eb9c512b2d26",
   "metadata": {},
   "source": [
    "However if we try to cast a `long` value to an `int` with the same syntax, we will run into error. This is because of the *bucket* size that is used to stored the value. By converting a `long` variable to an `int` variable, there is potential conversion lost of data as the `int` variable can hold less bytes. Hence we need a special syntax for this type of conversion to emphasize that we want to do the conversion for sure."
   ]
  },
  {
   "cell_type": "code",
   "execution_count": 5,
   "id": "58c32089-b33d-454e-a79c-1dc2a65bc8b9",
   "metadata": {},
   "outputs": [
    {
     "ename": "CompilationException",
     "evalue": "",
     "output_type": "error",
     "traceback": [
      "\u001b[1m\u001b[30m|   \u001b[1m\u001b[30mintvalue = \u001b[0m\u001b[1m\u001b[30m\u001b[41mlongvalue\u001b[0m\u001b[1m\u001b[30m;\u001b[0m",
      "\u001b[1m\u001b[31mincompatible types: possible lossy conversion from long to int\u001b[0m",
      ""
     ]
    }
   ],
   "source": [
    "intvalue = longvalue;"
   ]
  },
  {
   "cell_type": "code",
   "execution_count": 6,
   "id": "84bf99fe-a2a0-42e8-87ff-e071d700777c",
   "metadata": {},
   "outputs": [
    {
     "data": {
      "text/plain": [
       "23333333"
      ]
     },
     "execution_count": 6,
     "metadata": {},
     "output_type": "execute_result"
    }
   ],
   "source": [
    "intvalue = (int)longvalue;\n",
    "intvalue"
   ]
  },
  {
   "cell_type": "code",
   "execution_count": 10,
   "id": "9b949f34-4907-4a8b-a632-50aed9aa4085",
   "metadata": {
    "tags": []
   },
   "outputs": [
    {
     "ename": "CompilationException",
     "evalue": "",
     "output_type": "error",
     "traceback": [
      "\u001b[1m\u001b[30m|   \u001b[1m\u001b[30mintvalue = \u001b[0m\u001b[1m\u001b[30m\u001b[41mfloatvalue\u001b[0m\u001b[1m\u001b[30m;\u001b[0m",
      "\u001b[1m\u001b[31mincompatible types: possible lossy conversion from float to int\u001b[0m",
      ""
     ]
    }
   ],
   "source": [
    "intvalue = floatvalue;"
   ]
  },
  {
   "cell_type": "code",
   "execution_count": 15,
   "id": "e02a550f-5b07-49fc-9e30-a2deb67e3ecc",
   "metadata": {
    "tags": []
   },
   "outputs": [
    {
     "data": {
      "text/plain": [
       "3"
      ]
     },
     "execution_count": 15,
     "metadata": {},
     "output_type": "execute_result"
    }
   ],
   "source": [
    "// It does not round, the decimal point simply get dropped\n",
    "intvalue = (int)floatvalue;\n",
    "intvalue"
   ]
  },
  {
   "cell_type": "markdown",
   "id": "dc2a1036-3e12-4dff-bd5f-91040313e4b4",
   "metadata": {},
   "source": [
    "Be very careful in casting down an oversize variables. For example if we try to cast a value outside the range of byte to a byte value, the value can go horribly wrong"
   ]
  },
  {
   "cell_type": "code",
   "execution_count": 16,
   "id": "10fa7d8d-1561-4b6c-bfc4-3300eabf2676",
   "metadata": {},
   "outputs": [
    {
     "data": {
      "text/plain": [
       "-128"
      ]
     },
     "execution_count": 16,
     "metadata": {},
     "output_type": "execute_result"
    }
   ],
   "source": [
    "bytevalue = (byte)128;\n",
    "bytevalue"
   ]
  },
  {
   "cell_type": "code",
   "execution_count": null,
   "id": "e8b93b83-df8f-4719-82a0-10473e7831c1",
   "metadata": {},
   "outputs": [],
   "source": []
  }
 ],
 "metadata": {
  "kernelspec": {
   "display_name": "Java",
   "language": "java",
   "name": "java"
  },
  "language_info": {
   "codemirror_mode": "java",
   "file_extension": ".jshell",
   "mimetype": "text/x-java-source",
   "name": "Java",
   "pygments_lexer": "java",
   "version": "11.0.15+10-Ubuntu-0ubuntu0.20.04.1"
  }
 },
 "nbformat": 4,
 "nbformat_minor": 5
}
