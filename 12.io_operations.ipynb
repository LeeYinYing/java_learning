{
 "cells": [
  {
   "cell_type": "markdown",
   "id": "60732d74-266a-4a94-8656-c5f084a82c23",
   "metadata": {},
   "source": [
    "# 12. I/O Operations"
   ]
  },
  {
   "cell_type": "markdown",
   "id": "23b33d17-f38c-4b22-9ec1-86814e546888",
   "metadata": {},
   "source": [
    "## Reading from files"
   ]
  },
  {
   "cell_type": "code",
   "execution_count": 1,
   "id": "b2451266-c85a-46ef-bc26-5543d620dbae",
   "metadata": {},
   "outputs": [],
   "source": [
    "// Path can be relative to working directory or absolute path\n",
    "String fileName = \"data/example.txt\"; \n",
    "\n",
    "// Java representation of file\n",
    "File textFile = new File(fileName);"
   ]
  },
  {
   "cell_type": "code",
   "execution_count": 2,
   "id": "e13b2e06-6fbe-43ff-9957-52eb51813b6a",
   "metadata": {},
   "outputs": [
    {
     "name": "stdout",
     "output_type": "stream",
     "text": [
      "3\n",
      "line one\n",
      "line two\n",
      "line three\n",
      "\n",
      "cat\n",
      "fox\n",
      "dog\n",
      "cat\n"
     ]
    }
   ],
   "source": [
    "Scanner in = new Scanner(textFile);\n",
    "\n",
    "while(in.hasNextLine()) { // While there still is a next line in the file\n",
    "    String line = in.nextLine(); // Get the next line and store in the variable\n",
    "    System.out.println(line);\n",
    "}\n",
    "\n",
    "in.close() // Just like Python, we need to close the file"
   ]
  },
  {
   "cell_type": "code",
   "execution_count": 3,
   "id": "40357d1c-b695-4a0d-add5-bf7a925bd51a",
   "metadata": {},
   "outputs": [
    {
     "name": "stdout",
     "output_type": "stream",
     "text": [
      "Read value: 3\n",
      "2:\n",
      "3:line one\n",
      "4:line two\n",
      "5:line three\n",
      "6:\n",
      "7:cat\n",
      "8:fox\n",
      "9:dog\n",
      "10:cat\n"
     ]
    }
   ],
   "source": [
    "Scanner in = new Scanner(textFile);\n",
    "\n",
    "// Read the integer '3' in the first line of the text\n",
    "int value = in.nextInt(); \n",
    "System.out.println(\"Read value: \" + value);\n",
    "\n",
    "int count = 2; // Start counting from the second line\n",
    "while(in.hasNextLine()) { \n",
    "    String line = in.nextLine(); \n",
    "    System.out.println(count + \":\" + line);\n",
    "    count++;\n",
    "}\n",
    "\n",
    "in.close()"
   ]
  },
  {
   "cell_type": "markdown",
   "id": "5aba384f-a529-4c36-8f06-26f98cccba58",
   "metadata": {},
   "source": [
    "Notice from the output, we have an extra line inserted between the first and second line of the text file. This is because `nextInt()` does not read the `\\n` character. After `nextInt()`, the cursor lands right before the `\\n`, and then `nextLine()` reads the newline character and prints it as a line of itself. To get by this, we will need to add another `nextLine()` before the while loop. "
   ]
  },
  {
   "cell_type": "code",
   "execution_count": 4,
   "id": "4b9b8016-cfc3-455f-9704-ef55b076d89a",
   "metadata": {},
   "outputs": [
    {
     "name": "stdout",
     "output_type": "stream",
     "text": [
      "Read value: 3\n",
      "2:line one\n",
      "3:line two\n",
      "4:line three\n",
      "5:\n",
      "6:cat\n",
      "7:fox\n",
      "8:dog\n",
      "9:cat\n"
     ]
    }
   ],
   "source": [
    "Scanner in = new Scanner(textFile);\n",
    "\n",
    "int value = in.nextInt(); \n",
    "System.out.println(\"Read value: \" + value);\n",
    "in.nextLine(); // Added to get by the \\n character.\n",
    "\n",
    "int count = 2; \n",
    "while(in.hasNextLine()) { \n",
    "    String line = in.nextLine(); \n",
    "    System.out.println(count + \":\" + line);\n",
    "    count++;\n",
    "}\n",
    "\n",
    "in.close()"
   ]
  },
  {
   "cell_type": "code",
   "execution_count": null,
   "id": "d6fde8f3-bb21-44cb-acf2-13e0579089c6",
   "metadata": {},
   "outputs": [],
   "source": []
  }
 ],
 "metadata": {
  "kernelspec": {
   "display_name": "Java",
   "language": "java",
   "name": "java"
  },
  "language_info": {
   "codemirror_mode": "java",
   "file_extension": ".jshell",
   "mimetype": "text/x-java-source",
   "name": "Java",
   "pygments_lexer": "java",
   "version": "11.0.15+10-Ubuntu-0ubuntu0.20.04.1"
  }
 },
 "nbformat": 4,
 "nbformat_minor": 5
}
