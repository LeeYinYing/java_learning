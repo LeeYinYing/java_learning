{
 "cells": [
  {
   "cell_type": "markdown",
   "id": "48968e06-0343-49d1-a079-32182996551d",
   "metadata": {},
   "source": [
    "# 2. Loops and Conditionals"
   ]
  },
  {
   "cell_type": "markdown",
   "id": "2af07710-3fc6-43c8-9d1a-37f61e0e63e1",
   "metadata": {},
   "source": [
    "## While Loops"
   ]
  },
  {
   "cell_type": "code",
   "execution_count": 7,
   "id": "9deba3a9-c636-4522-b696-44a8acb32ec3",
   "metadata": {},
   "outputs": [
    {
     "name": "stdout",
     "output_type": "stream",
     "text": [
      "true\n",
      "false\n"
     ]
    }
   ],
   "source": [
    "boolean loop = true;\n",
    "System.out.println(loop);\n",
    "\n",
    "int value = 10;\n",
    "boolean loop = value < 5;\n",
    "System.out.println(loop);"
   ]
  },
  {
   "cell_type": "code",
   "execution_count": 22,
   "id": "0d533ba4-56a9-4662-8963-2743d16665e8",
   "metadata": {},
   "outputs": [
    {
     "name": "stdout",
     "output_type": "stream",
     "text": [
      "3: Hello\n",
      "4: Hello\n",
      "5: Hello\n",
      "6: Hello\n",
      "7: Hello\n",
      "8: Hello\n",
      "9: Hello\n"
     ]
    }
   ],
   "source": [
    "int value = 3;\n",
    "while(value < 10) //Loop execute as long as condition is true\n",
    "{\n",
    "    System.out.println(value + \": Hello\");\n",
    "    value = value + 1;\n",
    "}"
   ]
  },
  {
   "cell_type": "markdown",
   "id": "927324bd-0edd-4de2-b8ff-3dd4ed9259bc",
   "metadata": {},
   "source": [
    "## For Loops"
   ]
  },
  {
   "cell_type": "code",
   "execution_count": 19,
   "id": "db640d66-7f68-4248-91e3-531453d79c2a",
   "metadata": {},
   "outputs": [
    {
     "name": "stdout",
     "output_type": "stream",
     "text": [
      "0: Hello\n",
      "1: Hello\n",
      "2: Hello\n",
      "3: Hello\n",
      "4: Hello\n"
     ]
    }
   ],
   "source": [
    "// () controls how many times the loop runs\n",
    "// {} contains the code to loop\n",
    "for(int i=0; i<5 ; i++) {\n",
    "    System.out.printf(\"%d: Hello\\n\", i); //printf is similar to format string in python\n",
    "}"
   ]
  },
  {
   "cell_type": "markdown",
   "id": "485b995d-c78a-49e2-a60d-f7e7e26e4659",
   "metadata": {},
   "source": [
    "The looping condition in a for loop is stated in the (), which is divided into 3 sections:\n",
    "  - `int i = 0 ; ... ; ...`: The first section contains codes that are to be executed before the loop starts\n",
    "  - `... ; i<5 ; ...`: The second section contains the conditional in which the loop will run if returned true\n",
    "  - `... ; ... ; i++`: The third section contains codes that are to be run at the end of each loop\n",
    "    - *`i++` is a short form for `i = i+1`*"
   ]
  },
  {
   "cell_type": "markdown",
   "id": "9d11d1b9-56a6-4179-8524-eba1abaf88fd",
   "metadata": {},
   "source": [
    "## If ... Else If ... Else"
   ]
  },
  {
   "cell_type": "markdown",
   "id": "52156077-362e-4950-b9c4-7910e9506cab",
   "metadata": {},
   "source": [
    "The following is an example of the \"If -> Else if -> Else\" conditions:"
   ]
  },
  {
   "cell_type": "code",
   "execution_count": 43,
   "id": "ba21af55-569a-41bb-8c1f-df1cb5511cc8",
   "metadata": {},
   "outputs": [
    {
     "name": "stdout",
     "output_type": "stream",
     "text": [
      "My integer is less than 10"
     ]
    }
   ],
   "source": [
    "int myInt = 5;\n",
    "int targetInt = 10;\n",
    "\n",
    "if (myInt == targetInt){\n",
    "    System.out.printf(\"My integer is equal to %d\", targetInt);\n",
    "}\n",
    "else if (myInt > targetInt){\n",
    "    System.out.printf(\"My integer is larger than %d\", targetInt);\n",
    "}\n",
    "else {\n",
    "    System.out.printf(\"My integer is less than %d\", targetInt);\n",
    "}"
   ]
  },
  {
   "cell_type": "markdown",
   "id": "a7948378-ff45-4e5d-92ea-0ffe91c0630e",
   "metadata": {},
   "source": [
    "Putting an if condition within a while loop:"
   ]
  },
  {
   "cell_type": "code",
   "execution_count": 46,
   "id": "5459bd9e-b9d2-4d98-862b-2c8819034d8b",
   "metadata": {},
   "outputs": [
    {
     "name": "stdout",
     "output_type": "stream",
     "text": [
      "Looping: 0\n",
      "Looping: 1\n",
      "Looping: 2\n",
      "Looping: 3\n",
      "Looping: 4\n"
     ]
    }
   ],
   "source": [
    "int loop = 0;\n",
    "\n",
    "while(true){\n",
    "    System.out.println(\"Looping: \" + loop);\n",
    "    loop++;\n",
    "    if (loop == 5){\n",
    "        break;\n",
    "    }\n",
    "}\n"
   ]
  },
  {
   "cell_type": "markdown",
   "id": "627e87f5-59b3-40e3-8ad6-3e1576e98714",
   "metadata": {},
   "source": [
    "## Do ... While Loops"
   ]
  },
  {
   "cell_type": "markdown",
   "id": "ee34b952-3943-46b8-873d-aa7098c23b4a",
   "metadata": {},
   "source": [
    "We want to have a program that repeatedly ask the user to enter a number until they enter the number 5. With a while loop, this is how it would be done"
   ]
  },
  {
   "cell_type": "code",
   "execution_count": 17,
   "id": "3b7e99c5-722f-4530-b5b9-fb55f1156919",
   "metadata": {},
   "outputs": [
    {
     "name": "stdout",
     "output_type": "stream",
     "text": [
      "Enter a number: \n"
     ]
    },
    {
     "name": "stdin",
     "output_type": "stream",
     "text": [
      " 3\n",
      " 4\n",
      " 6\n",
      " 7\n",
      " 5\n"
     ]
    },
    {
     "name": "stdout",
     "output_type": "stream",
     "text": [
      "Got 5!\n"
     ]
    }
   ],
   "source": [
    "import java.util.Scanner;\n",
    "Scanner scanner = new Scanner(System.in);\n",
    "\n",
    "System.out.println(\"Enter a number: \");\n",
    "int value = scanner.nextInt();\n",
    "\n",
    "while (value != 5){\n",
    "    // When redefining a variable, do not need to declare the dtype again\n",
    "    value = scanner.nextInt();\n",
    "}\n",
    "\n",
    "System.out.println(\"Got 5!\");\n"
   ]
  },
  {
   "cell_type": "markdown",
   "id": "6fedc396-ca21-48ad-b170-908bec68957e",
   "metadata": {},
   "source": [
    "However, in the above code it is not idea as we have redundancies in `value = scanner.nextInt();`. This task would be much better performed by a do...while loop.\n",
    "\n",
    "In a do...while loop, the code within the 'do' block will execute at least once, then at the end of the execution, the 'while' condition is checked. If the condition is true, then the code will loop again. "
   ]
  },
  {
   "cell_type": "code",
   "execution_count": 20,
   "id": "7023709e-28ad-424c-b08b-6f078ae67392",
   "metadata": {},
   "outputs": [
    {
     "ename": "CompilationException",
     "evalue": "",
     "output_type": "error",
     "traceback": [
      "\u001b[1m\u001b[30m|   \u001b[1m\u001b[30mwhile(\u001b[0m\u001b[1m\u001b[30m\u001b[41mvalue2\u001b[0m\u001b[1m\u001b[30m != 5);\u001b[0m",
      "\u001b[1m\u001b[31mcannot find symbol\u001b[0m",
      "\u001b[1m\u001b[31m  symbol:   variable value2\u001b[0m",
      ""
     ]
    }
   ],
   "source": [
    "import java.util.Scanner;\n",
    "Scanner scanner = new Scanner(System.in);\n",
    "\n",
    "// Code within the {} will execute at least once\n",
    "do {\n",
    "    System.out.println(\"Enter a number: \");\n",
    "    int value2 = scanner.nextInt();\n",
    "}\n",
    "while(value2 != 5); // Conditions to check at the end of each loop\n",
    "\n",
    "\n",
    "System.out.println(\"Got 5!\");"
   ]
  },
  {
   "cell_type": "markdown",
   "id": "72a6897b-cecc-4754-970b-8ff327219a8a",
   "metadata": {},
   "source": [
    "Uh-oh, the code didn't work above because of **variable scope**. The variable only exists within the innermost {} in which it was declared. Thus the variable `value2`, it would only exists within the *do{...}* scope. Once outside of the curly brackets, the variable does not exists. In the perspective of the *while(...)*, the variable `value2` is not declared not defined. \n",
    "\n",
    "We will need to declare the variable outside of the *do{...}*."
   ]
  },
  {
   "cell_type": "code",
   "execution_count": 22,
   "id": "f69d7c0c-fa8d-4cea-a4aa-1e1100b102dc",
   "metadata": {},
   "outputs": [
    {
     "name": "stdout",
     "output_type": "stream",
     "text": [
      "Enter a number: \n"
     ]
    },
    {
     "name": "stdin",
     "output_type": "stream",
     "text": [
      " 1\n"
     ]
    },
    {
     "name": "stdout",
     "output_type": "stream",
     "text": [
      "Enter a number: \n"
     ]
    },
    {
     "name": "stdin",
     "output_type": "stream",
     "text": [
      " 2\n"
     ]
    },
    {
     "name": "stdout",
     "output_type": "stream",
     "text": [
      "Enter a number: \n"
     ]
    },
    {
     "name": "stdin",
     "output_type": "stream",
     "text": [
      " 3\n"
     ]
    },
    {
     "name": "stdout",
     "output_type": "stream",
     "text": [
      "Enter a number: \n"
     ]
    },
    {
     "name": "stdin",
     "output_type": "stream",
     "text": [
      " 4\n"
     ]
    },
    {
     "name": "stdout",
     "output_type": "stream",
     "text": [
      "Enter a number: \n"
     ]
    },
    {
     "name": "stdin",
     "output_type": "stream",
     "text": [
      " 5\n"
     ]
    },
    {
     "name": "stdout",
     "output_type": "stream",
     "text": [
      "Got 5!\n"
     ]
    }
   ],
   "source": [
    "import java.util.Scanner;\n",
    "Scanner scanner = new Scanner(System.in);\n",
    "\n",
    "\n",
    "int value3 = 0;\n",
    "do {\n",
    "    System.out.println(\"Enter a number: \");\n",
    "    value3 = scanner.nextInt();\n",
    "}\n",
    "while(value3 != 5); // Conditions to check at the end of each loop\n",
    "\n",
    "\n",
    "System.out.println(\"Got 5!\");"
   ]
  },
  {
   "cell_type": "markdown",
   "id": "a9ca79d2-a719-4ce2-a6f2-4ef93fbeac09",
   "metadata": {},
   "source": [
    "## Switch"
   ]
  },
  {
   "cell_type": "markdown",
   "id": "8f12f598-3401-4acc-9d1f-6fcfc966c9cf",
   "metadata": {},
   "source": [
    "Another method to execute code based on a condition. The `switch` is most often used to checking against the *int* and the *String* variables. For other types of variables, would most likely be more useful using the `if` conditionals.\n",
    "\n",
    "The `switch` follows a syntax like the following example:"
   ]
  },
  {
   "cell_type": "code",
   "execution_count": 5,
   "id": "d3c8186d-7b7a-40cf-bcbf-58e87967cc81",
   "metadata": {},
   "outputs": [
    {
     "name": "stdout",
     "output_type": "stream",
     "text": [
      "Please enter a command: \n"
     ]
    },
    {
     "name": "stdin",
     "output_type": "stream",
     "text": [
      " start\n"
     ]
    },
    {
     "name": "stdout",
     "output_type": "stream",
     "text": [
      "Machine started!\n"
     ]
    }
   ],
   "source": [
    "import java.util.Scanner;\n",
    "\n",
    "Scanner input = new Scanner(System.in);\n",
    "\n",
    "System.out.println(\"Please enter a command: \");\n",
    "String text = input.nextLine();\n",
    "\n",
    "switch(text){ // bracket defines the variable to check agains\n",
    "    // if text == \"start\"\n",
    "    case \"start\": \n",
    "        System.out.println(\"Machine started!\");\n",
    "        break; // <- don't forget the break syntax\n",
    "        \n",
    "     // if text == \"stop\"\n",
    "    case \"stop\":\n",
    "        System.out.println(\"Machine stopped\");\n",
    "        break;\n",
    "        \n",
    "    // Default to run if the variable did not match anything above (like an 'else')\n",
    "    default: \n",
    "        System.out.println(\"Command not recognized.\");\n",
    "}"
   ]
  },
  {
   "cell_type": "markdown",
   "id": "aca9a1cb-b2b5-4b5b-8bef-18efdcafa117",
   "metadata": {},
   "source": [
    "One thing to note it that the `case` can only check against a constant. So something like this will not work:"
   ]
  },
  {
   "cell_type": "code",
   "execution_count": 6,
   "id": "3199a365-91ca-4f29-ad09-4a5f5e12e67e",
   "metadata": {},
   "outputs": [
    {
     "name": "stdout",
     "output_type": "stream",
     "text": [
      "Please enter a command: \n"
     ]
    },
    {
     "name": "stdin",
     "output_type": "stream",
     "text": [
      " start\n"
     ]
    },
    {
     "ename": "CompilationException",
     "evalue": "",
     "output_type": "error",
     "traceback": [
      "\u001b[1m\u001b[30m|   \u001b[1m\u001b[30m    case \u001b[0m\u001b[1m\u001b[30m\u001b[41mtarget_text\u001b[0m\u001b[1m\u001b[30m:\u001b[0m",
      "\u001b[1m\u001b[31mconstant string expression required\u001b[0m",
      ""
     ]
    }
   ],
   "source": [
    "String target_text = \"start\";\n",
    "\n",
    "System.out.println(\"Please enter a command: \");\n",
    "String text = input.nextLine();\n",
    "\n",
    "switch(text){\n",
    "    case target_text:\n",
    "        System.out.println(\"This will not work\");\n",
    "        break;\n",
    "}\n",
    "        "
   ]
  },
  {
   "cell_type": "code",
   "execution_count": null,
   "id": "cc7c126b-ecb9-47f0-955f-db659f76cce7",
   "metadata": {},
   "outputs": [],
   "source": []
  }
 ],
 "metadata": {
  "kernelspec": {
   "display_name": "Java",
   "language": "java",
   "name": "java"
  },
  "language_info": {
   "codemirror_mode": "java",
   "file_extension": ".jshell",
   "mimetype": "text/x-java-source",
   "name": "Java",
   "pygments_lexer": "java",
   "version": "11.0.15+10-Ubuntu-0ubuntu0.20.04.1"
  }
 },
 "nbformat": 4,
 "nbformat_minor": 5
}
