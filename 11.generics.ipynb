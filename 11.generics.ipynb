{
 "cells": [
  {
   "cell_type": "markdown",
   "id": "b7793797-fdf9-4b35-b28b-866f72c25553",
   "metadata": {},
   "source": [
    "# 11. Generics"
   ]
  },
  {
   "cell_type": "markdown",
   "id": "30591400-7755-4305-bea1-4dc0cf13950e",
   "metadata": {},
   "source": [
    "## Introduction to Generics"
   ]
  },
  {
   "cell_type": "markdown",
   "id": "645b31d6-a30c-4026-9280-b6c2ac3541b5",
   "metadata": {},
   "source": [
    "A generic is a class that can work with other objects, and when instantiating the class we define what types of object it can work with. It is also sometimes referred as parameterized classes. \n",
    "\n",
    "One important collection that we will work with generic classes is the `ArrayList`, which is part of the Java Collection Framework."
   ]
  },
  {
   "cell_type": "code",
   "execution_count": 1,
   "id": "a1863320-7459-4c73-a8f5-193dfdc2e589",
   "metadata": {},
   "outputs": [
    {
     "name": "stdout",
     "output_type": "stream",
     "text": [
      "apple\n"
     ]
    }
   ],
   "source": [
    "// Before Java 5 when Generics was not introduced\n",
    "ArrayList list = new ArrayList();\n",
    "\n",
    "list.add(\"apple\");\n",
    "list.add(\"banana\");\n",
    "list.add(\"orange\");\n",
    "\n",
    "// ArrayList.get() returns an object. So we need to \n",
    "// downcast it to a String to retrieve it\n",
    "String fruit = (String)list.get(0);\n",
    "\n",
    "System.out.println(fruit);"
   ]
  },
  {
   "cell_type": "markdown",
   "id": "9466f256-a0d2-4331-b7a5-d3e74f95351b",
   "metadata": {},
   "source": [
    "Generics was introduced and we can parameterize classes. The idea is that when we have a class that works with some particular types of object, we can specify with Generics to define what type of objects we want to work with.\n",
    "\n",
    "For example: `ArrayList` is now a generic class (parameterize class) We use diamond brackets (<>) to specify the type of object we want to work with in the array. "
   ]
  },
  {
   "cell_type": "code",
   "execution_count": 4,
   "id": "4b2d3cab-b40a-4c50-9c43-bd19863c82e9",
   "metadata": {},
   "outputs": [
    {
     "name": "stdout",
     "output_type": "stream",
     "text": [
      "dog\n"
     ]
    }
   ],
   "source": [
    "// Modern Style\n",
    "\n",
    "ArrayList<String> strings = new ArrayList<String>();\n",
    "\n",
    "strings.add(\"cat\");\n",
    "strings.add(\"dog\");\n",
    "strings.add(\"alligator\");\n",
    "\n",
    "// Since we specified the object type with generics, where in the old style\n",
    "// would return the entire object, we now can retrieve the value with the appropriate\n",
    "// types. \n",
    "String animal = strings.get(1); // No need for the downcasting\n",
    "\n",
    "System.out.println(animal)"
   ]
  },
  {
   "cell_type": "markdown",
   "id": "2bcab292-6a7b-4bde-8a43-cab362711050",
   "metadata": {},
   "source": [
    "**Example 1**: More than one type argument"
   ]
  },
  {
   "cell_type": "code",
   "execution_count": 5,
   "id": "1cba6daf-6405-4242-ad25-b4dcec7df8c7",
   "metadata": {},
   "outputs": [],
   "source": [
    "HashMap<Integer, String> map = new HashMap<Integer, String>();"
   ]
  },
  {
   "cell_type": "markdown",
   "id": "c4e42073-e2a9-45fb-8475-e61f25de8290",
   "metadata": {},
   "source": [
    "**Example 2**: Work with non-standard classes"
   ]
  },
  {
   "cell_type": "code",
   "execution_count": 8,
   "id": "df3b8cad-11c1-4f8e-9281-1bf8eea53938",
   "metadata": {},
   "outputs": [],
   "source": [
    "class Animal {}\n",
    "\n",
    "// Can leave out the second specification, Java will automatically refer the same\n",
    "// specifications from the first < >\n",
    "ArrayList<Animal> someList = new ArrayList<>(); "
   ]
  },
  {
   "cell_type": "markdown",
   "id": "3cb1a2f7-128f-4b0f-8829-ed822867dae1",
   "metadata": {},
   "source": [
    "## Passing Parameterized Objects into Methods"
   ]
  },
  {
   "cell_type": "code",
   "execution_count": 12,
   "id": "78e2d718-0bae-4543-aee0-90f50249e869",
   "metadata": {},
   "outputs": [
    {
     "name": "stdout",
     "output_type": "stream",
     "text": [
      "one\n",
      "two\n"
     ]
    }
   ],
   "source": [
    "public static void showList(ArrayList<String> list) {\n",
    "    for(String value: list) {\n",
    "        System.out.println(value);\n",
    "    }\n",
    "}\n",
    "\n",
    "ArrayList<String> list = new ArrayList<>();\n",
    "list.add(\"one\");\n",
    "list.add(\"two\");\n",
    "\n",
    "showList(list);"
   ]
  },
  {
   "cell_type": "markdown",
   "id": "16ae6527-e701-495f-886b-c1fcd27b0c9d",
   "metadata": {},
   "source": [
    "### Parameter type subclass != Parameterized subclass\n",
    "\n",
    "Given that we have two classes where `Camera` is a child class that extends `Machine`, and we are generated ArrayList of each class and passing them to a method that accepts `ArrayList<Machine>`."
   ]
  },
  {
   "cell_type": "code",
   "execution_count": 42,
   "id": "b0b02ccb-8f99-405b-be8e-2eb5712572cb",
   "metadata": {},
   "outputs": [],
   "source": [
    "class Machine{\n",
    "    @Override\n",
    "    public String toString() {\n",
    "        return \"I am a machine\";\n",
    "    }\n",
    "    \n",
    "    public void start() {\n",
    "        System.out.println(\"machine starting\");\n",
    "    }\n",
    "}\n",
    "\n",
    "class Camera extends Machine {\n",
    "    @Override\n",
    "    public String toString() {\n",
    "        return \"I am a camera\";\n",
    "    }\n",
    "    public void snap() {\n",
    "        System.out.println(\"camera snapped\");\n",
    "    }\n",
    "}\n",
    "\n",
    "public static void showMachine(ArrayList<Machine> list) {\n",
    "    for(Machine value: list) {\n",
    "        System.out.println(value);\n",
    "    }\n",
    "}"
   ]
  },
  {
   "cell_type": "markdown",
   "id": "7acdc09d-4373-445e-a446-5df3a683a048",
   "metadata": {},
   "source": [
    "Obviously, we will have successful executions when we instantiate the ArrayList with `Machine`."
   ]
  },
  {
   "cell_type": "code",
   "execution_count": 43,
   "id": "63573678-0bb1-4e8d-bfab-81f95c827d4f",
   "metadata": {},
   "outputs": [
    {
     "name": "stdout",
     "output_type": "stream",
     "text": [
      "I am a machine\n",
      "I am a machine\n"
     ]
    }
   ],
   "source": [
    "ArrayList<Machine> list2 = new ArrayList<>();\n",
    "list2.add(new Machine());\n",
    "list2.add(new Machine());\n",
    "\n",
    "showMachine(list2);"
   ]
  },
  {
   "cell_type": "code",
   "execution_count": 44,
   "id": "d3763f49-b710-4319-a062-6d4eb380ea93",
   "metadata": {},
   "outputs": [
    {
     "name": "stdout",
     "output_type": "stream",
     "text": [
      "I am a camera\n",
      "I am a camera\n"
     ]
    }
   ],
   "source": [
    "ArrayList<Machine> list3 = new ArrayList<>();\n",
    "list3.add(new Camera());\n",
    "list3.add(new Camera());\n",
    "\n",
    "showMachine(list3);"
   ]
  },
  {
   "cell_type": "markdown",
   "id": "62aed652-82ce-4dfc-8137-7ef668735a76",
   "metadata": {},
   "source": [
    "However if we try to pass an ArrayList instantiated with `Camera`, because it is a subclass of `Machine`. We will receive an error. The hierarchy of the type parameter does not extends to become the hierarchy of the parameterized class. So in other words, `Camera` extends `Machine`, but `ArrayList<Camera>` is not a subclass of `ArrayList<Machine>`.\n"
   ]
  },
  {
   "cell_type": "code",
   "execution_count": 45,
   "id": "6cff20c9-a75e-4921-a718-5e1b7562f80a",
   "metadata": {},
   "outputs": [
    {
     "ename": "CompilationException",
     "evalue": "",
     "output_type": "error",
     "traceback": [
      "\u001b[1m\u001b[30m|   \u001b[1m\u001b[30mshowMachine(\u001b[0m\u001b[1m\u001b[30m\u001b[41mlist4\u001b[0m\u001b[1m\u001b[30m);\u001b[0m",
      "\u001b[1m\u001b[31mincompatible types: java.util.ArrayList<Camera> cannot be converted to java.util.ArrayList<Machine>\u001b[0m",
      ""
     ]
    }
   ],
   "source": [
    "ArrayList<Camera> list4 = new ArrayList<>();\n",
    "list4.add(new Camera());\n",
    "list4.add(new Camera());\n",
    "\n",
    "showMachine(list4);"
   ]
  },
  {
   "cell_type": "markdown",
   "id": "dabf10c6-9192-439b-a7d4-7ddc36305f4a",
   "metadata": {},
   "source": [
    "However, there are workarounds, and this is with the use of **wildcards**"
   ]
  },
  {
   "cell_type": "markdown",
   "id": "cf862dc7-9169-4155-9bcf-ba7b6158c7a9",
   "metadata": {},
   "source": [
    "### Wildcards"
   ]
  },
  {
   "cell_type": "markdown",
   "id": "ccf539c8-7f2b-4cf4-abee-07b9b66e8a3c",
   "metadata": {},
   "source": [
    "In Java, the `?` is the wildcard that indicates that we can pass in any Objects into the parameterized class. The disadvantage is that we can only refer to items within the list as type `Object()`. We cannot use any `Machine` or `Camera` specific methods unless we downcast the `Object()` to the specific class. "
   ]
  },
  {
   "cell_type": "code",
   "execution_count": 46,
   "id": "2acdf34b-f1c7-4b00-bb54-58b0c11f21da",
   "metadata": {},
   "outputs": [
    {
     "name": "stdout",
     "output_type": "stream",
     "text": [
      "I am a camera\n",
      "I am a camera\n"
     ]
    }
   ],
   "source": [
    "public static void showAnyObject(ArrayList<?> list) {\n",
    "    // We can only refer to the item in the list as the type Object\n",
    "    for(Object value: list) {\n",
    "        System.out.println(value);\n",
    "    }\n",
    "}\n",
    "\n",
    "// This will work because toString is a method from the Object()\n",
    "showAnyObject(list4);"
   ]
  },
  {
   "cell_type": "markdown",
   "id": "e86a9724-2074-42ff-8bf3-b3cb9182d343",
   "metadata": {},
   "source": [
    "#### Upper Bound\n",
    "Say we want to pass to the method an `ArrayList` of `Machine()`, or any subtype of `Machine()`. Then we can use an upperbound on this wildcard. This syntax for the upper bound is `<? extends Machine>`"
   ]
  },
  {
   "cell_type": "code",
   "execution_count": 47,
   "id": "d841ec29-95cc-489d-a083-e370e339ef02",
   "metadata": {},
   "outputs": [
    {
     "name": "stdout",
     "output_type": "stream",
     "text": [
      "I am a machine\n",
      "machine starting\n",
      "I am a machine\n",
      "machine starting\n",
      "\n",
      "I am a camera\n",
      "machine starting\n",
      "I am a camera\n",
      "machine starting\n"
     ]
    }
   ],
   "source": [
    "public static void showMachine(ArrayList<? extends Machine> list) {\n",
    "    // We can only refer to the item in the list as the type Object\n",
    "    for(Machine value: list) {\n",
    "        System.out.println(value);\n",
    "        value.start();\n",
    "        \n",
    "    }\n",
    "}\n",
    "\n",
    "showMachine(list2); // ArrayList<Machine>\n",
    "System.out.println();\n",
    "showMachine(list4); // ArrayList<Camera>"
   ]
  },
  {
   "cell_type": "markdown",
   "id": "bf6d0e0c-5936-4dc8-a1aa-11f31ed78286",
   "metadata": {},
   "source": [
    "However, we cannot use `Camera` specific methods with the upper bound. This is because in Java it will only look into the methods that `Machine` has when using the wildcard upperbound. "
   ]
  },
  {
   "cell_type": "code",
   "execution_count": 48,
   "id": "1bd397fc-e084-4d80-a11a-7066ab117670",
   "metadata": {},
   "outputs": [
    {
     "ename": "UnresolvedReferenceException",
     "evalue": "Attempt to use definition snippet with unresolved references in MethodSnippet:showMachine/(ArrayList<? extends Machine>)void-public static void showMachine(ArrayList<? extends Machine> list) {\n    // We can only refer to the item in the list as the type Object\n    for(Machine value: list) {\n        System.out.println(value);\n        value.snap();\n        \n    }\n}",
     "output_type": "error",
     "traceback": [
      "\u001b[1m\u001b[30m|   \u001b[1m\u001b[30mpublic static void showMachine(ArrayList<? extends Machine> list) {\u001b[0m",
      "\u001b[1m\u001b[30m|   \u001b[1m\u001b[30m    // We can only refer to the item in the list as the type Object\u001b[0m",
      "\u001b[1m\u001b[30m|   \u001b[1m\u001b[30m    for(Machine value: list) {\u001b[0m",
      "\u001b[1m\u001b[30m|   \u001b[1m\u001b[30m        System.out.println(value);\u001b[0m",
      "\u001b[1m\u001b[30m|   \u001b[1m\u001b[30m        value.snap();\u001b[0m",
      "\u001b[1m\u001b[30m|   \u001b[1m\u001b[30m        \u001b[0m",
      "\u001b[1m\u001b[30m|   \u001b[1m\u001b[30m    }\u001b[0m",
      "\u001b[1m\u001b[30m|   \u001b[1m\u001b[30m}\u001b[0m",
      "\u001b[1m\u001b[31mUnresolved dependencies:\u001b[0m",
      "\u001b[1m\u001b[31m   - method snap()\u001b[0m"
     ]
    }
   ],
   "source": [
    "public static void showMachine(ArrayList<? extends Machine> list) {\n",
    "    // We can only refer to the item in the list as the type Object\n",
    "    for(Machine value: list) {\n",
    "        System.out.println(value);\n",
    "        value.snap();\n",
    "        \n",
    "    }\n",
    "}\n",
    "\n",
    "showMachine(list4); // ArrayList<Camera>"
   ]
  },
  {
   "cell_type": "markdown",
   "id": "79a44906-e0bf-4a60-95cc-c6b9e63f054c",
   "metadata": {},
   "source": [
    "#### Lower Bound\n",
    "In reverse of upperbounds, we can declare the lowerbound meaning we can pass in the specified class, or any of its superclasses. The syntax is `<? super Camera>`. However the complication with lowerbound is that the superclasses may not have some methods that are defined in `Camera()`. So similar to using the general `?`, when we access the items in the array, we need to refer to them as `Object()`. Then downcast to the appropriate class to use the specific methods in the subclass. "
   ]
  },
  {
   "cell_type": "code",
   "execution_count": 49,
   "id": "e516c830-2dfe-41f7-9ed5-3a948cca2340",
   "metadata": {},
   "outputs": [
    {
     "name": "stdout",
     "output_type": "stream",
     "text": [
      "I am a machine\n",
      "I am a machine\n",
      "\n",
      "I am a camera\n",
      "I am a camera\n"
     ]
    }
   ],
   "source": [
    "public static void showCamera(ArrayList<? super Camera> list) {\n",
    "    // We can only refer to the item in the list as the type Object\n",
    "    for(Object value: list) {\n",
    "        System.out.println(value);\n",
    "    }\n",
    "}\n",
    "\n",
    "showCamera(list2); // ArrayList<Machine>\n",
    "System.out.println();\n",
    "showCamera(list4); // ArrayList<Camera>"
   ]
  },
  {
   "cell_type": "code",
   "execution_count": null,
   "id": "22acc2e8-a650-4e7f-8188-2f3525136d94",
   "metadata": {},
   "outputs": [],
   "source": []
  }
 ],
 "metadata": {
  "kernelspec": {
   "display_name": "Java",
   "language": "java",
   "name": "java"
  },
  "language_info": {
   "codemirror_mode": "java",
   "file_extension": ".jshell",
   "mimetype": "text/x-java-source",
   "name": "Java",
   "pygments_lexer": "java",
   "version": "11.0.15+10-Ubuntu-0ubuntu0.20.04.1"
  }
 },
 "nbformat": 4,
 "nbformat_minor": 5
}
