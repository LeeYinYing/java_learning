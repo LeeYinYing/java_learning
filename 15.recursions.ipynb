{
 "cells": [
  {
   "cell_type": "markdown",
   "id": "9005ecc2-0a4a-4bcc-bcfc-af094e004756",
   "metadata": {},
   "source": [
    "# 15. Recursions"
   ]
  },
  {
   "cell_type": "markdown",
   "id": "898f9415-2814-4655-8ad0-9470168eed2f",
   "metadata": {},
   "source": [
    "Same concept as learned from before where a method will call on itself and create a stack of processes. Here's the typical example of calculating factorials."
   ]
  },
  {
   "cell_type": "code",
   "execution_count": 10,
   "id": "3e206b71-68d6-4963-9d91-852962b4a840",
   "metadata": {},
   "outputs": [],
   "source": [
    "class App {\n",
    "    public static void main() {\n",
    "        System.out.println(\"Hello world\");\n",
    "        System.out.println(calculate(4));\n",
    "\n",
    "    }\n",
    "\n",
    "    private static int calculate(int value) {\n",
    "        System.out.println(\"Input value: \" + value);\n",
    "\n",
    "        if (value == 1) {\n",
    "            System.out.println(\"Output value: \" + 1);\n",
    "            return 1;\n",
    "        }\n",
    "        \n",
    "        int output = calculate(value - 1) * value;\n",
    "        System.out.println(\"Output value: \" + output); \n",
    "        return output;\n",
    "    }\n",
    "}"
   ]
  },
  {
   "cell_type": "code",
   "execution_count": 11,
   "id": "0c3b5568-99e7-413b-9b5c-6dcac02b8927",
   "metadata": {},
   "outputs": [
    {
     "name": "stdout",
     "output_type": "stream",
     "text": [
      "Hello world\n",
      "Input value: 4\n",
      "Input value: 3\n",
      "Input value: 2\n",
      "Input value: 1\n",
      "Output value: 1\n",
      "Output value: 2\n",
      "Output value: 6\n",
      "Output value: 24\n",
      "24\n"
     ]
    }
   ],
   "source": [
    "App.main()"
   ]
  },
  {
   "cell_type": "markdown",
   "id": "68d9725a-424a-43a0-b07f-c7e80b8def1c",
   "metadata": {},
   "source": [
    "*Homework: Try the Tower of Hanoi problem after also learning about Java collections*"
   ]
  },
  {
   "cell_type": "code",
   "execution_count": null,
   "id": "84ec7690-15d2-4c38-98cd-157137aca461",
   "metadata": {},
   "outputs": [],
   "source": []
  }
 ],
 "metadata": {
  "kernelspec": {
   "display_name": "Java",
   "language": "java",
   "name": "java"
  },
  "language_info": {
   "codemirror_mode": "java",
   "file_extension": ".jshell",
   "mimetype": "text/x-java-source",
   "name": "Java",
   "pygments_lexer": "java",
   "version": "11.0.15+10-Ubuntu-0ubuntu0.20.04.1"
  }
 },
 "nbformat": 4,
 "nbformat_minor": 5
}
