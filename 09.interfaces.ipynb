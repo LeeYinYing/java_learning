{
 "cells": [
  {
   "cell_type": "markdown",
   "id": "d16d802b-187e-4003-8e7d-59cda3f70e08",
   "metadata": {},
   "source": [
    "# 9. Interfaces"
   ]
  },
  {
   "cell_type": "markdown",
   "id": "4e95e359-6a03-4a2e-87c3-328380d08eb7",
   "metadata": {},
   "source": [
    "Interfaces is a mechanism to interact with desperately independent objects with the same operations. Just as its name, it provides an interface to control how inputs and outputs can be managed on a common ground. Some examples of interfaces are:\n",
    "- Java Collections, a library to work with data, where data objects are grouped into interfaces such as 'list' and 'set'\n",
    "- Program designing, where multiple objects will have the same methods such as start() and stop(). Define how objects interacts with each other\n",
    "\n",
    "> A useful analogy of interfaces is like opening bank accounts. Prior to opening an account, we need to choose the bank. The banks differs from each other and offer different services, features, interest rates, etc. After opening a bank account, we don't usually worry about what particular bank we are with. But, we will expect to have facilities like depositing money and withdrawing money. In this analogy, the banks are the different classes, and the set of facilities that we expect to have regardless of the bank is the interface."
   ]
  },
  {
   "cell_type": "markdown",
   "id": "2379a093-f7af-414f-9a49-1271f0d2bedc",
   "metadata": {},
   "source": [
    "Say we have two objects defined for `Machine` and `Person`. These two objects are completely independent from each other. "
   ]
  },
  {
   "cell_type": "code",
   "execution_count": 8,
   "id": "dcf3977e-54f7-41b7-8d36-0ae6d0a3986c",
   "metadata": {},
   "outputs": [],
   "source": [
    "public class Machine {\n",
    "    \n",
    "    private int id = 7;\n",
    "    \n",
    "    public void start() {\n",
    "        System.out.println(\"Machine Started\");\n",
    "    }\n",
    "}"
   ]
  },
  {
   "cell_type": "code",
   "execution_count": 7,
   "id": "672a843b-0a89-4c5c-9e9e-845762fbcf31",
   "metadata": {},
   "outputs": [],
   "source": [
    "public class Person {\n",
    "    \n",
    "    private String name;\n",
    "    \n",
    "    public Person(String name) {\n",
    "        this.name = name;\n",
    "    }\n",
    "    \n",
    "    public void greet() {\n",
    "        System.out.println(\"Hello there.\");\n",
    "    }\n",
    "}"
   ]
  },
  {
   "cell_type": "code",
   "execution_count": 10,
   "id": "6bf9d27d-09fe-4bc0-af27-1b7d6d9ba065",
   "metadata": {},
   "outputs": [
    {
     "name": "stdout",
     "output_type": "stream",
     "text": [
      "Machine Started\n"
     ]
    }
   ],
   "source": [
    "Machine mach1 = new Machine();\n",
    "mach1.start()"
   ]
  },
  {
   "cell_type": "code",
   "execution_count": 11,
   "id": "a4bda99a-a1bc-4c33-a6d7-7315011f7d1c",
   "metadata": {},
   "outputs": [
    {
     "name": "stdout",
     "output_type": "stream",
     "text": [
      "Hello there.\n"
     ]
    }
   ],
   "source": [
    "Person person1 = new Person(\"Bob\");\n",
    "person1.greet()"
   ]
  },
  {
   "cell_type": "markdown",
   "id": "b8d60da9-2695-424d-b4bf-4eb71e49b4df",
   "metadata": {},
   "source": [
    "But then say we decided that both the `Machine` and `Person` object should have one same method. This can be formulated by **interfaces**. "
   ]
  },
  {
   "cell_type": "code",
   "execution_count": 13,
   "id": "aca6b50f-3959-4b64-8989-056d3a8692d6",
   "metadata": {},
   "outputs": [],
   "source": [
    "public interface Info {\n",
    "    \n",
    "    // Interfaces simply have the header of the methods, it does not contain any \n",
    "    // code bodies (No {}).\n",
    "    public void showInfo();\n",
    "\n",
    "}"
   ]
  },
  {
   "cell_type": "markdown",
   "id": "e37b81ae-2ba5-47ee-938b-8dbb7a19f487",
   "metadata": {},
   "source": [
    "We can implement the interfaces by adding `implements` definition, which is a validation that all method headers specified in the interface is defined in the object.\n",
    "\n",
    "If we simply add the `implements` keyword without add the actual method, we will get an error."
   ]
  },
  {
   "cell_type": "code",
   "execution_count": 14,
   "id": "e0511ae8-dc92-4657-9716-e5d65db2b9e9",
   "metadata": {},
   "outputs": [
    {
     "ename": "CompilationException",
     "evalue": "",
     "output_type": "error",
     "traceback": [
      "\u001b[1m\u001b[30m|   \u001b[1m\u001b[30m\u001b[0m\u001b[1m\u001b[30m\u001b[41mpublic class Machine implements Info {\u001b[0m",
      "\u001b[1m\u001b[30m|   \u001b[1m\u001b[30m\u001b[41m    \u001b[0m",
      "\u001b[1m\u001b[30m|   \u001b[1m\u001b[30m\u001b[41m    private int id = 7;\u001b[0m",
      "\u001b[1m\u001b[30m|   \u001b[1m\u001b[30m\u001b[41m    \u001b[0m",
      "\u001b[1m\u001b[30m|   \u001b[1m\u001b[30m\u001b[41m    public void start() {\u001b[0m",
      "\u001b[1m\u001b[30m|   \u001b[1m\u001b[30m\u001b[41m        System.out.println(\"Machine Started\");\u001b[0m",
      "\u001b[1m\u001b[30m|   \u001b[1m\u001b[30m\u001b[41m    }\u001b[0m",
      "\u001b[1m\u001b[30m|   \u001b[1m\u001b[30m\u001b[41m}\u001b[0m",
      "\u001b[1m\u001b[31mMachine is not abstract and does not override abstract method showInfo() in Info\u001b[0m",
      ""
     ]
    }
   ],
   "source": [
    "public class Machine implements Info {\n",
    "    \n",
    "    private int id = 7;\n",
    "    \n",
    "    public void start() {\n",
    "        System.out.println(\"Machine Started\");\n",
    "    }\n",
    "}"
   ]
  },
  {
   "cell_type": "markdown",
   "id": "43f7c0fc-300e-4114-9f08-898777ae6f77",
   "metadata": {},
   "source": [
    "Adding methods specified in the interface:"
   ]
  },
  {
   "cell_type": "code",
   "execution_count": 17,
   "id": "697ed5bd-26e4-4464-b34e-98ff57170f31",
   "metadata": {},
   "outputs": [],
   "source": [
    "public class Machine implements Info {\n",
    "    \n",
    "    private int id = 7;\n",
    "    \n",
    "    public void start() {\n",
    "        System.out.println(\"Machine Started\");\n",
    "    }\n",
    "    \n",
    "    public void showInfo() {\n",
    "        System.out.println(\"Machine ID is: \" + id);\n",
    "    }\n",
    "}"
   ]
  },
  {
   "cell_type": "code",
   "execution_count": 16,
   "id": "2b82890f-acda-4d8e-855f-5820e267ced8",
   "metadata": {},
   "outputs": [],
   "source": [
    "public class Person implements Info {\n",
    "    \n",
    "    private String name;\n",
    "    \n",
    "    public Person(String name) {\n",
    "        this.name = name;\n",
    "    }\n",
    "    \n",
    "    public void greet() {\n",
    "        System.out.println(\"Hello there.\");\n",
    "    }\n",
    "    \n",
    "    public void showInfo() {\n",
    "        System.out.println(\"Person name is \" + name);\n",
    "    }\n",
    "}\n"
   ]
  },
  {
   "cell_type": "markdown",
   "id": "2d3d1c64-91ab-4b6f-8d32-6740de86f08d",
   "metadata": {},
   "source": [
    "**Properties of interfaces**\n",
    "- Textual contract to ensure classes contains specified methods with different parameters and return types\n",
    "- A single class can implement multiple interfaces, separated by commas. \n",
    "- Objects can be created from interfaces and point to any classes that implements the interface.\n",
    "\n",
    "With these properties we can do interesting things:"
   ]
  },
  {
   "cell_type": "code",
   "execution_count": 19,
   "id": "7f800e40-11ea-4ce0-87bc-ccd49f5216b6",
   "metadata": {},
   "outputs": [
    {
     "name": "stdout",
     "output_type": "stream",
     "text": [
      "Machine ID is: 7\n"
     ]
    }
   ],
   "source": [
    "// Creating an object from the interface Info called info1,\n",
    "// Which then points to the Machine object.\n",
    "Info info1 = new Machine();\n",
    "\n",
    "// In info1, we can only access the methods specified in the interface, \n",
    "// namely showInfo()\n",
    "info1.showInfo();"
   ]
  },
  {
   "cell_type": "code",
   "execution_count": 20,
   "id": "a7ed5135-b488-4700-b54c-bfd8367d9707",
   "metadata": {},
   "outputs": [
    {
     "ename": "CompilationException",
     "evalue": "",
     "output_type": "error",
     "traceback": [
      "\u001b[1m\u001b[30m|   \u001b[1m\u001b[30m\u001b[0m\u001b[1m\u001b[30m\u001b[41minfo1.start\u001b[0m\u001b[1m\u001b[30m();\u001b[0m",
      "\u001b[1m\u001b[31mcannot find symbol\u001b[0m",
      "\u001b[1m\u001b[31m  symbol:   method start()\u001b[0m",
      ""
     ]
    }
   ],
   "source": [
    "// Even though we point at the Machine class, we cannot access other methods \n",
    "// in the Machine class that's not specified in the Info interface\n",
    "info1.start();"
   ]
  },
  {
   "cell_type": "markdown",
   "id": "d0bd04d1-bc7f-4901-a99d-c221384796f2",
   "metadata": {},
   "source": [
    "We can do the same with `Person` class, since it also implements the `Info` interface"
   ]
  },
  {
   "cell_type": "code",
   "execution_count": 25,
   "id": "1217296b-8727-46d7-b3ab-89c84c56c39b",
   "metadata": {},
   "outputs": [
    {
     "name": "stdout",
     "output_type": "stream",
     "text": [
      "My name is Bob\n"
     ]
    }
   ],
   "source": [
    "Person person1 = new Person(\"Bob\");\n",
    "\n",
    "// Can also point to an existing object.\n",
    "Info info2 = person1;\n",
    "\n",
    "info2.showInfo();"
   ]
  },
  {
   "cell_type": "code",
   "execution_count": 26,
   "id": "b6690072-2c7a-432f-a60f-4b4088889040",
   "metadata": {},
   "outputs": [
    {
     "ename": "CompilationException",
     "evalue": "",
     "output_type": "error",
     "traceback": [
      "\u001b[1m\u001b[30m|   \u001b[1m\u001b[30m\u001b[0m\u001b[1m\u001b[30m\u001b[41minfo2.greet\u001b[0m\u001b[1m\u001b[30m();\u001b[0m",
      "\u001b[1m\u001b[31mcannot find symbol\u001b[0m",
      "\u001b[1m\u001b[31m  symbol:   method greet()\u001b[0m",
      ""
     ]
    }
   ],
   "source": [
    "info2.greet();"
   ]
  },
  {
   "cell_type": "markdown",
   "id": "3505b269-2040-479f-890b-44ba475e6f32",
   "metadata": {},
   "source": [
    "Another interesting usecase is passing interface objects as parameters. Say we have a method `outputInfo` with Info interface define as the parameter. "
   ]
  },
  {
   "cell_type": "code",
   "execution_count": 33,
   "id": "08e8f23e-f9b1-40f4-a43d-0cbd86858fc6",
   "metadata": {},
   "outputs": [
    {
     "name": "stdout",
     "output_type": "stream",
     "text": [
      "Machine ID is: 7\n",
      "My name is Bob\n",
      "My name is Bob\n"
     ]
    }
   ],
   "source": [
    "private static void outputInfo(Info info) {\n",
    "    info.showInfo();\n",
    "}\n",
    "\n",
    "Machine mach2 = new Machine();\n",
    "\n",
    "// We can pass in desparately different objects to the same method, as long as they all implements the\n",
    "// same interface. \n",
    "outputInfo(mach2); // A Machine object\n",
    "outputInfo(person1); // A Person object\n",
    "outputInfo(info2); // An Info object -> a Person object"
   ]
  },
  {
   "cell_type": "markdown",
   "id": "4f9d29f3-eb3d-4639-ae5e-eb532729d043",
   "metadata": {},
   "source": [
    "## Interfaces with Anonymous Classes"
   ]
  },
  {
   "cell_type": "markdown",
   "id": "aad04a0a-c3f5-48a7-b758-cbf3a7a866e5",
   "metadata": {},
   "source": [
    "Interfaces can also be implement on anonymous classes (See *05.classes_and_objects_ii.ipynb*), this is a shortcut in creating a one-time use class that implements the interface."
   ]
  },
  {
   "cell_type": "code",
   "execution_count": 13,
   "id": "be2cbd7c-8887-4327-8118-f09b83ca2ad3",
   "metadata": {},
   "outputs": [
    {
     "name": "stdout",
     "output_type": "stream",
     "text": [
      "plant growing\n"
     ]
    }
   ],
   "source": [
    "interface PlantInterface{\n",
    "    public void grow();\n",
    "}\n",
    "\n",
    "// Normally, we will create a class to use with the interface\n",
    "class Plant implements PlantInterface { \n",
    "    public void grow(){\n",
    "    };\n",
    "}\n",
    "\n",
    "\n",
    "// Anonymous class implementation\n",
    "Plant plant1 = new Plant(){\n",
    "    public void grow() {\n",
    "        System.out.println(\"plant growing\");\n",
    "    }\n",
    "};\n",
    "\n",
    "// There's no way to instantiate another object (e.g. plant2) in this class \n",
    "// other than plant1\n",
    "plant1.grow();"
   ]
  },
  {
   "cell_type": "code",
   "execution_count": null,
   "id": "f7711a6e-1044-4cd1-9c2d-3557ba883b0f",
   "metadata": {},
   "outputs": [],
   "source": []
  }
 ],
 "metadata": {
  "kernelspec": {
   "display_name": "Java",
   "language": "java",
   "name": "java"
  },
  "language_info": {
   "codemirror_mode": "java",
   "file_extension": ".jshell",
   "mimetype": "text/x-java-source",
   "name": "Java",
   "pygments_lexer": "java",
   "version": "11.0.15+10-Ubuntu-0ubuntu0.20.04.1"
  }
 },
 "nbformat": 4,
 "nbformat_minor": 5
}
