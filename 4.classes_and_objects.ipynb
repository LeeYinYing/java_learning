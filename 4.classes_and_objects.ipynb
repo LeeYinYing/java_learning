{
 "cells": [
  {
   "cell_type": "markdown",
   "id": "01873939-f8b1-45d6-8f82-f5673aa9ac3a",
   "metadata": {},
   "source": [
    "# 4. Classes and Objects"
   ]
  },
  {
   "cell_type": "markdown",
   "id": "bf750751-1ad7-4719-9ea8-78089ef7c723",
   "metadata": {},
   "source": [
    "We had seen the following on the first java_basics notebook. This `main` initiation is already a class. The convention is to name classes with capitalized name. "
   ]
  },
  {
   "cell_type": "code",
   "execution_count": 1,
   "id": "a0ac2ec0-c19a-46fd-847a-f8c35b2f6fcc",
   "metadata": {},
   "outputs": [],
   "source": [
    "public class App {\n",
    "    public static void main(String[] args) {\n",
    "\n",
    "    }\n",
    "}"
   ]
  },
  {
   "cell_type": "markdown",
   "id": "16061be2-f8af-4cce-999d-4e1434db3952",
   "metadata": {},
   "source": [
    "A simple class will look like this:"
   ]
  },
  {
   "cell_type": "code",
   "execution_count": 2,
   "id": "a2ae63f5-13a0-4670-8259-91409b10d6a4",
   "metadata": {},
   "outputs": [],
   "source": [
    "// A quick note: if we declare the class with 'public', the name of the class must\n",
    "// match the name of the script file (ie. RedFruit.java)\n",
    "public class RedFruit{\n",
    "\n",
    "}"
   ]
  },
  {
   "cell_type": "markdown",
   "id": "fa6ee2d6-4d86-492c-965a-19fb7eb4fb02",
   "metadata": {},
   "source": [
    "A class is a blueprint for objects. Everything in Java is an object, and we need a way to specific how the object looks like and how they are different. The concept of classes is the same as the one in Python. Similar to Python, a class can contain instance variables and methods. Instance variables are defined like this:"
   ]
  },
  {
   "cell_type": "code",
   "execution_count": 22,
   "id": "79bd6b8d-9541-470e-af7f-2070baefed23",
   "metadata": {},
   "outputs": [],
   "source": [
    "class Person{\n",
    "    \n",
    "    // Classes can contain:\n",
    "    \n",
    "    // 1. Data or \"state\" (instance variables)\n",
    "    String name;\n",
    "    int age;\n",
    "    \n",
    "    // 2. Subroutine (method)\n",
    "    void speak() {\n",
    "        System.out.println(String.format(\"Hello! My name is %s and I am %d years old.\", name, age));\n",
    "    }\n",
    "    \n",
    "    void repeatSpeak() {\n",
    "        for(int i=0; i<3; i++){\n",
    "            System.out.println(String.format(\"Hello! My name is %s and I am %d years old.\", name, age));\n",
    "        }\n",
    "    }\n",
    "    \n",
    "    void sayHello() {\n",
    "        System.out.println(\"Hello!\");\n",
    "    }\n",
    "}"
   ]
  },
  {
   "cell_type": "code",
   "execution_count": 25,
   "id": "a32e08cb-c69c-4739-b65f-da68a2362633",
   "metadata": {},
   "outputs": [
    {
     "name": "stdout",
     "output_type": "stream",
     "text": [
      "Hello! My name is Joe Bloggs and I am 27 years old.\n",
      "Hello! My name is Sara Smith and I am 20 years old.\n"
     ]
    }
   ],
   "source": [
    "// Creating a new Person class called 'person1'\n",
    "Person person1 = new Person();\n",
    "\n",
    "// Assign values to the intance variables for person1\n",
    "person1.name = \"Joe Bloggs\";\n",
    "person1.age = 27;\n",
    "\n",
    "// Create another Person\n",
    "Person person2 = new Person();\n",
    "person2.name = \"Sara Smith\";\n",
    "person2.age = 20;\n",
    "\n",
    "// Using Methods\n",
    "person1.speak();\n",
    "person2.speak();"
   ]
  },
  {
   "cell_type": "code",
   "execution_count": 26,
   "id": "d2cafdfd-c841-47fd-9413-85ed902b6434",
   "metadata": {},
   "outputs": [
    {
     "name": "stdout",
     "output_type": "stream",
     "text": [
      "Hello! My name is Joe Bloggs and I am 27 years old.\n",
      "Hello! My name is Joe Bloggs and I am 27 years old.\n",
      "Hello! My name is Joe Bloggs and I am 27 years old.\n"
     ]
    }
   ],
   "source": [
    "person1.repeatSpeak();"
   ]
  },
  {
   "cell_type": "code",
   "execution_count": 27,
   "id": "1f98e577-8f3e-44e9-8fdf-37df668800f2",
   "metadata": {},
   "outputs": [
    {
     "name": "stdout",
     "output_type": "stream",
     "text": [
      "Hello!\n"
     ]
    }
   ],
   "source": [
    "person1.sayHello();"
   ]
  },
  {
   "cell_type": "code",
   "execution_count": null,
   "id": "2a021048-1e9c-4832-a588-87cde30cfbe1",
   "metadata": {},
   "outputs": [],
   "source": []
  }
 ],
 "metadata": {
  "kernelspec": {
   "display_name": "Java",
   "language": "java",
   "name": "java"
  },
  "language_info": {
   "codemirror_mode": "java",
   "file_extension": ".jshell",
   "mimetype": "text/x-java-source",
   "name": "Java",
   "pygments_lexer": "java",
   "version": "11.0.15+10-Ubuntu-0ubuntu0.20.04.1"
  }
 },
 "nbformat": 4,
 "nbformat_minor": 5
}
