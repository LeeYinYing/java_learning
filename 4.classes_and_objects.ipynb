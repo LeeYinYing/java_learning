{
 "cells": [
  {
   "cell_type": "markdown",
   "id": "01873939-f8b1-45d6-8f82-f5673aa9ac3a",
   "metadata": {},
   "source": [
    "# 4. Classes and Objects"
   ]
  },
  {
   "cell_type": "markdown",
   "id": "bf750751-1ad7-4719-9ea8-78089ef7c723",
   "metadata": {},
   "source": [
    "We had seen the following on the first java_basics notebook. This `main` initiation is already a class. The convention is to name classes with capitalized name. "
   ]
  },
  {
   "cell_type": "code",
   "execution_count": 1,
   "id": "a0ac2ec0-c19a-46fd-847a-f8c35b2f6fcc",
   "metadata": {},
   "outputs": [],
   "source": [
    "public class App {\n",
    "    public static void main(String[] args) {\n",
    "\n",
    "    }\n",
    "}"
   ]
  },
  {
   "cell_type": "markdown",
   "id": "16061be2-f8af-4cce-999d-4e1434db3952",
   "metadata": {},
   "source": [
    "A simple class will look like this:"
   ]
  },
  {
   "cell_type": "code",
   "execution_count": 2,
   "id": "a2ae63f5-13a0-4670-8259-91409b10d6a4",
   "metadata": {},
   "outputs": [],
   "source": [
    "// A quick note: if we declare the class with 'public', the name of the class must\n",
    "// match the name of the script file (ie. RedFruit.java)\n",
    "public class RedFruit{\n",
    "\n",
    "}"
   ]
  },
  {
   "cell_type": "markdown",
   "id": "fa6ee2d6-4d86-492c-965a-19fb7eb4fb02",
   "metadata": {},
   "source": [
    "A class is a blueprint for objects. Everything in Java is an object, and we need a way to specific how the object looks like and how they are different. The concept of classes is the same as the one in Python. Similar to Python, a class can contain instance variables and methods. They are defined like this:"
   ]
  },
  {
   "cell_type": "code",
   "execution_count": 5,
   "id": "79bd6b8d-9541-470e-af7f-2070baefed23",
   "metadata": {},
   "outputs": [],
   "source": [
    "class Person{\n",
    "    \n",
    "    // Classes can contain:\n",
    "    \n",
    "    // 1. Data or \"state\" (instance variables)\n",
    "    String name;\n",
    "    int age;\n",
    "    \n",
    "    // 2. Subroutine (method)\n",
    "    void speak() {\n",
    "        System.out.println(String.format(\"Hello! My name is %s and I am %d years old.\", name, age));\n",
    "    }\n",
    "    \n",
    "    void repeatSpeak() {\n",
    "        for(int i=0; i<3; i++){\n",
    "            System.out.println(String.format(\"Hello! My name is %s and I am %d years old.\", name, age));\n",
    "        }\n",
    "    }\n",
    "    \n",
    "    void sayHello() {\n",
    "        System.out.println(\"Hello!\");\n",
    "    }\n",
    "    \n",
    "    void calculateYearsToRetirement() {\n",
    "        int yearsLeft = 65 - age;\n",
    "        \n",
    "        System.out.println(yearsLeft);\n",
    "    }\n",
    "}"
   ]
  },
  {
   "cell_type": "code",
   "execution_count": 2,
   "id": "a32e08cb-c69c-4739-b65f-da68a2362633",
   "metadata": {},
   "outputs": [
    {
     "name": "stdout",
     "output_type": "stream",
     "text": [
      "Hello! My name is Joe Bloggs and I am 27 years old.\n",
      "Hello! My name is Sara Smith and I am 20 years old.\n"
     ]
    }
   ],
   "source": [
    "// Creating a new Person class called 'person1'\n",
    "Person person1 = new Person();\n",
    "\n",
    "// Assign values to the intance variables for person1\n",
    "person1.name = \"Joe Bloggs\";\n",
    "person1.age = 27;\n",
    "\n",
    "// Create another Person\n",
    "Person person2 = new Person();\n",
    "person2.name = \"Sara Smith\";\n",
    "person2.age = 20;\n",
    "\n",
    "// Using Methods\n",
    "person1.speak();\n",
    "person2.speak();"
   ]
  },
  {
   "cell_type": "code",
   "execution_count": 3,
   "id": "d2cafdfd-c841-47fd-9413-85ed902b6434",
   "metadata": {},
   "outputs": [
    {
     "name": "stdout",
     "output_type": "stream",
     "text": [
      "Hello! My name is Joe Bloggs and I am 27 years old.\n",
      "Hello! My name is Joe Bloggs and I am 27 years old.\n",
      "Hello! My name is Joe Bloggs and I am 27 years old.\n"
     ]
    }
   ],
   "source": [
    "person1.repeatSpeak();"
   ]
  },
  {
   "cell_type": "code",
   "execution_count": 4,
   "id": "1f98e577-8f3e-44e9-8fdf-37df668800f2",
   "metadata": {},
   "outputs": [
    {
     "name": "stdout",
     "output_type": "stream",
     "text": [
      "Hello!\n"
     ]
    }
   ],
   "source": [
    "person1.sayHello();"
   ]
  },
  {
   "cell_type": "markdown",
   "id": "6357a577-a242-4cc3-83e1-e305a67552f1",
   "metadata": {},
   "source": [
    "## Returning Values"
   ]
  },
  {
   "cell_type": "markdown",
   "id": "896f4c93-1c51-4dc0-b982-e889a97dd2b9",
   "metadata": {},
   "source": [
    "Consider the same Person class. We will add a new method to calculate the person's years until retirement, and the goal is to return the value when calling the method. "
   ]
  },
  {
   "cell_type": "code",
   "execution_count": 17,
   "id": "6a1c794e-13e5-4c85-80f0-e7d94de244d1",
   "metadata": {},
   "outputs": [],
   "source": [
    "class Person{\n",
    "    String name;\n",
    "    int age;\n",
    "\n",
    "    void speak() {\n",
    "        System.out.println(String.format(\"Hello! My name is %s and I am %d years old.\", name, age));\n",
    "    }\n",
    "    \n",
    "    // New method here:\n",
    "      \n",
    "    // Notice the method starts with 'int' not 'void'. This indicates that we expects the method \n",
    "    // to return a value of integer type.\n",
    "    int calculateYearsToRetirement() {\n",
    "        \n",
    "        int yearsLeft = 65 - age;\n",
    "        \n",
    "        // Return indicates the end of the method and returning the value from variable yearsLeft. \n",
    "        return yearsLeft;\n",
    "    }\n",
    "}"
   ]
  },
  {
   "cell_type": "code",
   "execution_count": 19,
   "id": "cdd769ac-021f-4d11-8283-a78c2e228512",
   "metadata": {},
   "outputs": [
    {
     "name": "stdout",
     "output_type": "stream",
     "text": [
      "Hello! My name is Joe and I am 25 years old.\n",
      "I have 40 years until retirement.\n"
     ]
    }
   ],
   "source": [
    "public class App {\n",
    "    public static void main(String[] args) {\n",
    "        Person person1 = new Person();\n",
    "        \n",
    "        person1.name = \"Joe\";\n",
    "        person1.age = 25;\n",
    "        \n",
    "        person1.speak();\n",
    "        \n",
    "        // The value returned from the method is stored in the variable 'years'\n",
    "        int years = person1.calculateYearsToRetirement();\n",
    "        System.out.println(String.format(\"I have %d years until retirement.\", years));\n",
    "    }\n",
    "}\n",
    "\n",
    "App app = new App();\n",
    "app.main(new String[0])"
   ]
  },
  {
   "cell_type": "markdown",
   "id": "9e9f2023-c15d-42e1-89f6-9db935acb779",
   "metadata": {},
   "source": [
    "## Passing Parameters"
   ]
  },
  {
   "cell_type": "markdown",
   "id": "728ebbd7-c91e-4632-a758-d75e314f4c00",
   "metadata": {},
   "source": [
    "Similar to Python, parameters are defined in the `()` after the function/method name. The only difference is that Java has the type validations when defining parameters. Whereas in Python they are not enforced by default. "
   ]
  },
  {
   "cell_type": "code",
   "execution_count": 10,
   "id": "d1284eac-264c-49fc-8017-5fdbbc1082b3",
   "metadata": {},
   "outputs": [],
   "source": [
    "class Robot {\n",
    "    \n",
    "    // Define a String parameter\n",
    "    public void speak(String text) {\n",
    "        System.out.println(text);\n",
    "    }\n",
    "    \n",
    "    // Define an integer parameter\n",
    "    public void jump(int height) {\n",
    "        System.out.println(\"Jumping: \" + height);\n",
    "    }\n",
    "    \n",
    "    // Defining multiple parameters\n",
    "    public void move(String direction, double distance) {\n",
    "        System.out.println(String.format(\"Moving %f meters in direction %s\", distance, direction));\n",
    "    }\n",
    "}"
   ]
  },
  {
   "cell_type": "code",
   "execution_count": 16,
   "id": "1fa3d9f3-aeda-47f2-8c81-5c76f74d2a0c",
   "metadata": {},
   "outputs": [
    {
     "name": "stdout",
     "output_type": "stream",
     "text": [
      "Hi I'm Sam!\n",
      "Jumping: 7\n",
      "Moving 12.200000 meters in direction West\n",
      "Hello there.\n"
     ]
    }
   ],
   "source": [
    "Robot sam = new Robot();\n",
    "\n",
    "// Passing in values for the parameter(s)\n",
    "sam.speak(\"Hi I'm Sam!\");\n",
    "sam.jump(7);\n",
    "sam.move(\"West\", 12.2);\n",
    "\n",
    "// Passing a variable for the parameter(s)\n",
    "String greeting = \"Hello there.\" ;\n",
    "sam.speak(greeting);"
   ]
  },
  {
   "cell_type": "markdown",
   "id": "9c4b5116-daad-4855-b5b7-1032cd0da296",
   "metadata": {},
   "source": [
    "## Getters and Setters"
   ]
  },
  {
   "cell_type": "markdown",
   "id": "8c227e07-43a5-49f9-973d-46084b624f89",
   "metadata": {},
   "source": [
    "The idea is to hide the variables away from outside the class with getter and setter methods. Previously we set the instance variables with \n",
    "```\n",
    "frog.name = \"Bertie\";\n",
    "frog.age = 12;\n",
    "```\n",
    "But this is undesirable in complex situations as we will have to know what internal variables exists in the classes. With Get and Set Methods then we just need to know what methods are available in the class and not worry about the variables. \n",
    "\n",
    "In Java programming, there are ways to hide instance variables in a class from the rest of the program. These are protected or private classes (which will be looked at later. In such case, methods are often written to return instance variable values to other parts of the program. These methods are often referred to as **Getters**. Vice versa, the methods used to define values for the internal variables are **Setters**, or known as **Mutators**."
   ]
  },
  {
   "cell_type": "code",
   "execution_count": 21,
   "id": "fd444f77-b5df-48e1-b8c3-152250d9004c",
   "metadata": {},
   "outputs": [],
   "source": [
    "class Frog {\n",
    "    \n",
    "    // Instance Variables\n",
    "    String name;\n",
    "    int age;\n",
    "    \n",
    "    // Setter Methods\n",
    "    public void setName(String newName) {\n",
    "        name = newName;\n",
    "    }\n",
    "    \n",
    "    public void setAge(int newAge) {\n",
    "        age = newAge;\n",
    "    }\n",
    "    \n",
    "    // Getter Methods\n",
    "    public String getName() {\n",
    "        return name;\n",
    "    }\n",
    "    \n",
    "    public int getAge() {\n",
    "        return age;\n",
    "    }\n",
    "}"
   ]
  },
  {
   "cell_type": "code",
   "execution_count": 22,
   "id": "c3b8d571-2d58-4877-8209-1b8372f0a1ce",
   "metadata": {},
   "outputs": [
    {
     "name": "stdout",
     "output_type": "stream",
     "text": [
      "Bertie\n",
      "1\n"
     ]
    }
   ],
   "source": [
    "Frog frog1 = new Frog();\n",
    "\n",
    "frog1.setName(\"Bertie\");\n",
    "frog1.setAge(1);\n",
    "\n",
    "System.out.println(frog1.getName());\n",
    "System.out.println(frog1.getAge());"
   ]
  },
  {
   "cell_type": "markdown",
   "id": "2b4d2b76-0711-4d16-abae-6f361bc3418f",
   "metadata": {},
   "source": [
    "We are able to work with class Frog with just the Get and Set methods. This is also known as *encapsulation* as we hid the actual variables away from other classes and other parts of the program. This is more obvious with private variables"
   ]
  },
  {
   "cell_type": "code",
   "execution_count": 25,
   "id": "469afae7-91f6-426d-9e76-b40d558fb94e",
   "metadata": {},
   "outputs": [],
   "source": [
    "class PrivateFrog {\n",
    "    \n",
    "    // Instance Variables (NOTE: the variables are set to private)\n",
    "    private String name;\n",
    "    private int age;\n",
    "    \n",
    "    // Setter Methods\n",
    "    public void setName(String newName) {\n",
    "        name = newName;\n",
    "    }\n",
    "    \n",
    "    public void setAge(int newAge) {\n",
    "        age = newAge;\n",
    "    }\n",
    "    \n",
    "    // Getter Methods\n",
    "    public String getName() {\n",
    "        return name;\n",
    "    }\n",
    "    \n",
    "    public int getAge() {\n",
    "        return age;\n",
    "    }\n",
    "}"
   ]
  },
  {
   "cell_type": "code",
   "execution_count": 26,
   "id": "db05e567-347e-4799-8471-8bf79a96f5c0",
   "metadata": {},
   "outputs": [],
   "source": [
    "PrivateFrog frog2 = new PrivateFrog();"
   ]
  },
  {
   "cell_type": "markdown",
   "id": "f6c838c6-84c7-4681-b2f1-d2928fc75d46",
   "metadata": {},
   "source": [
    "In the PrivateFrog class we cannot access the variables directly:"
   ]
  },
  {
   "cell_type": "code",
   "execution_count": 27,
   "id": "6b408ef6-98a4-4a62-ba27-5aeb2d87fc91",
   "metadata": {},
   "outputs": [
    {
     "ename": "CompilationException",
     "evalue": "",
     "output_type": "error",
     "traceback": [
      "\u001b[1m\u001b[30m|   \u001b[1m\u001b[30m\u001b[0m\u001b[1m\u001b[30m\u001b[41mfrog2.name\u001b[0m\u001b[1m\u001b[30m = \"May\";\u001b[0m",
      "\u001b[1m\u001b[31mname has private access in PrivateFrog\u001b[0m",
      ""
     ]
    }
   ],
   "source": [
    "frog2.name = \"May\";"
   ]
  },
  {
   "cell_type": "markdown",
   "id": "d135f427-6ff5-4345-89e0-23a4c63a62da",
   "metadata": {},
   "source": [
    "But we can interact with the variables indirectly through the Get and Set methods:"
   ]
  },
  {
   "cell_type": "code",
   "execution_count": 28,
   "id": "5022b466-91df-47df-8a9c-b9ab560d850b",
   "metadata": {},
   "outputs": [
    {
     "name": "stdout",
     "output_type": "stream",
     "text": [
      "May\n",
      "30\n"
     ]
    }
   ],
   "source": [
    "frog2.setName(\"May\");\n",
    "frog2.setAge(30);\n",
    "\n",
    "System.out.println(frog2.getName());\n",
    "System.out.println(frog2.getAge());"
   ]
  },
  {
   "cell_type": "markdown",
   "id": "3239485c-6bce-4357-87eb-b0c421ea1099",
   "metadata": {},
   "source": [
    "## \"This\""
   ]
  },
  {
   "cell_type": "markdown",
   "id": "da4355d6-bd3e-4034-bac9-9a78cf8fec0e",
   "metadata": {},
   "source": [
    "In Java \"this\" is synonymous with \"self\" in Python. Say for the following class:"
   ]
  },
  {
   "cell_type": "code",
   "execution_count": 42,
   "id": "752841c8-7852-4245-af31-f0e2baa2d9d7",
   "metadata": {},
   "outputs": [
    {
     "name": "stdout",
     "output_type": "stream",
     "text": [
      "Jason\n"
     ]
    }
   ],
   "source": [
    "class Person {\n",
    "    \n",
    "    private String name;\n",
    "    private int age;\n",
    "    \n",
    "    // If use the same variable name, the local variable will mask the instance variable\n",
    "    public void setName(String name) {\n",
    "        \n",
    "        // So we need to prefix the variable with 'this' to indicate that it is the \n",
    "        // instance variable\n",
    "        this.name = name;\n",
    "    }\n",
    "\n",
    "    public String getName() {\n",
    "        // We don't need 'this' here because the variable is unambiguous. \n",
    "        return name;\n",
    "    }\n",
    "}\n",
    "\n",
    "Person person1 = new Person();\n",
    "person1.setName(\"Jason\");\n",
    "System.out.println(person1.getName());"
   ]
  },
  {
   "cell_type": "markdown",
   "id": "36e7db4e-67bf-4c9b-bee8-235cd8dd7a0c",
   "metadata": {},
   "source": [
    "## Constructors"
   ]
  },
  {
   "cell_type": "markdown",
   "id": "3c6598c7-face-4254-922f-4c822ac22819",
   "metadata": {},
   "source": [
    "A constructor is a special method that:\n",
    "- Runs every time we create a new instance of a class. \n",
    "- Has no return types. Normally a method has to have a return type even if that return type is 'void'.\n",
    "- Have the same name as the class.\n",
    "- Starts with a capital letter. Normally method names are all lowercase. \n",
    "\n",
    "A constructor is similar to the \\_\\_init__() method in Python, they are often used for initialization of variables. "
   ]
  },
  {
   "cell_type": "code",
   "execution_count": 2,
   "id": "7ec243c8-987f-4631-94db-c1dbe93342cb",
   "metadata": {},
   "outputs": [],
   "source": [
    "class Machine{\n",
    "    private String name;\n",
    "    \n",
    "    public Machine() {\n",
    "        System.out.println(\"Constructor running!\");\n",
    "        \n",
    "        // Setting a default value for the 'name' variable\n",
    "        name = \"Arnie\";\n",
    "    }\n",
    "}"
   ]
  },
  {
   "cell_type": "code",
   "execution_count": 3,
   "id": "b1074e2a-b817-4c77-8674-00e405252045",
   "metadata": {},
   "outputs": [
    {
     "name": "stdout",
     "output_type": "stream",
     "text": [
      "Constructor running!\n"
     ]
    }
   ],
   "source": [
    "Machine machine1 = new Machine();"
   ]
  },
  {
   "cell_type": "markdown",
   "id": "78e7e2a5-a2eb-42f8-8d1d-691e0e717eaa",
   "metadata": {},
   "source": [
    "We don't even need to assign the new instance to any variable. Anytime `new` is used, the constructor runs"
   ]
  },
  {
   "cell_type": "code",
   "execution_count": 8,
   "id": "16da73ac-d0ae-4867-8630-5afa9102f13e",
   "metadata": {},
   "outputs": [
    {
     "name": "stdout",
     "output_type": "stream",
     "text": [
      "Constructor running!\n"
     ]
    },
    {
     "data": {
      "text/plain": [
       "REPL.$JShell$13$Machine@50e3ae2c"
      ]
     },
     "execution_count": 8,
     "metadata": {},
     "output_type": "execute_result"
    }
   ],
   "source": [
    "new Machine();"
   ]
  },
  {
   "cell_type": "markdown",
   "id": "ac7f9bc0-e0fe-446f-9600-f2dc26831fcd",
   "metadata": {},
   "source": [
    "### Constructor Special Characteristics"
   ]
  },
  {
   "cell_type": "markdown",
   "id": "1dbdc707-8f9d-4ecd-b116-33d7966755dd",
   "metadata": {},
   "source": [
    "#### Multiple Constructors"
   ]
  },
  {
   "cell_type": "markdown",
   "id": "400eaef4-2060-475c-bb9f-0ab910a51db9",
   "metadata": {},
   "source": [
    "A special relation between constructors and classes is that we can have multiple constructor with the same name in a class. Often each constructor will take in different parameters and Java will figure out which constructor to run in the new instance based on the input parameters"
   ]
  },
  {
   "cell_type": "code",
   "execution_count": 2,
   "id": "656eaf27-de94-454f-bcd5-d21f1a5b3041",
   "metadata": {},
   "outputs": [],
   "source": [
    "class Machine2{\n",
    "    private String name;\n",
    "    private int code;\n",
    "    \n",
    "    public Machine2() {\n",
    "        System.out.println(\"Constructor running!\");\n",
    "        // Setting a default value for the 'name' variable\n",
    "        name = \"Arnie\";\n",
    "    }\n",
    "    \n",
    "    public Machine2(String name) {\n",
    "        System.out.println(\"Second constructor running\");\n",
    "        \n",
    "        // Takes input parameter for the name\n",
    "        this.name = name;\n",
    "    }\n",
    "    \n",
    "    public Machine2(String name, int code){\n",
    "        System.out.println(\"Third constructor running\");\n",
    "        \n",
    "        // Takes input parameter for name and code\n",
    "        this.name = name;\n",
    "        this.code = code;\n",
    "    }\n",
    "}"
   ]
  },
  {
   "cell_type": "code",
   "execution_count": 3,
   "id": "c8854213-ade0-47d3-ab96-493dac553d97",
   "metadata": {},
   "outputs": [
    {
     "name": "stdout",
     "output_type": "stream",
     "text": [
      "Constructor running!\n"
     ]
    }
   ],
   "source": [
    "Machine2 machine2 = new Machine2();"
   ]
  },
  {
   "cell_type": "code",
   "execution_count": 4,
   "id": "1884cde7-ec4c-4cb0-8d68-9879332c8f92",
   "metadata": {},
   "outputs": [
    {
     "name": "stdout",
     "output_type": "stream",
     "text": [
      "Second constructor running\n"
     ]
    }
   ],
   "source": [
    "Machine2 machine3 = new Machine2(\"Bertie\");"
   ]
  },
  {
   "cell_type": "code",
   "execution_count": 5,
   "id": "ee51ab43-c262-4781-9cb0-17943bc0a0f5",
   "metadata": {},
   "outputs": [
    {
     "name": "stdout",
     "output_type": "stream",
     "text": [
      "Third constructor running\n"
     ]
    }
   ],
   "source": [
    "Machine2 machine4 = new Machine2(\"Chalky\", 7);"
   ]
  },
  {
   "cell_type": "markdown",
   "id": "297f2f75-4e29-40d2-b78a-e2a3bd1c7b9d",
   "metadata": {},
   "source": [
    "#### Calling Constructor within Another Constructor"
   ]
  },
  {
   "cell_type": "markdown",
   "id": "c2f6b948-a465-41d4-bd0d-49cc17480bf8",
   "metadata": {},
   "source": [
    "We can call constructors within one another. Often a more complex constructor can call onto simpler constructors. Call call onto the most complex constructor from all of the simpler ones. \n",
    "\n",
    "In contrast to how constructors are called with `new Machine()`, when within another constructor, it is called by using `this`. Calling onto other constructors also has to be the **first** line of code within the source constructor method. "
   ]
  },
  {
   "cell_type": "code",
   "execution_count": 6,
   "id": "32687e15-45d1-4158-8611-6244f8479c3a",
   "metadata": {},
   "outputs": [],
   "source": [
    "class Machine3{\n",
    "    private String name;\n",
    "    private int code;\n",
    "    \n",
    "    public Machine3() {\n",
    "        // Calling on the constructor that initializes both name and\n",
    "        // code\n",
    "        this(\"Arnie\", 0);\n",
    "        System.out.println(\"Constructor running!\");\n",
    "    }\n",
    "    \n",
    "    public Machine3(String name) {\n",
    "        this(name, 0);\n",
    "        \n",
    "        System.out.println(\"Second constructor running\");\n",
    "        this.name = name;\n",
    "    }\n",
    "    \n",
    "    public Machine3(String name, int code){\n",
    "        System.out.println(\"Third constructor running\");\n",
    "        \n",
    "        // Takes input parameter for name and code\n",
    "        this.name = name;\n",
    "        this.code = code;\n",
    "    }\n",
    "}"
   ]
  },
  {
   "cell_type": "code",
   "execution_count": 7,
   "id": "d496d574-f60c-4d63-bbdb-6259970ad022",
   "metadata": {},
   "outputs": [
    {
     "name": "stdout",
     "output_type": "stream",
     "text": [
      "Third constructor running\n",
      "Constructor running!\n"
     ]
    }
   ],
   "source": [
    "Machine3 machine5 = new Machine3();"
   ]
  },
  {
   "cell_type": "code",
   "execution_count": 8,
   "id": "8e75b236-9a59-4a83-a746-9fbc748913a8",
   "metadata": {},
   "outputs": [
    {
     "name": "stdout",
     "output_type": "stream",
     "text": [
      "Third constructor running\n",
      "Second constructor running\n"
     ]
    }
   ],
   "source": [
    "Machine3 machine6 = new Machine3(\"Bertie\");"
   ]
  },
  {
   "cell_type": "code",
   "execution_count": 9,
   "id": "a5e18c17-2915-485d-b838-640a3aaa32b2",
   "metadata": {},
   "outputs": [
    {
     "name": "stdout",
     "output_type": "stream",
     "text": [
      "Third constructor running\n"
     ]
    }
   ],
   "source": [
    "Machine3 machine7 = new Machine3(\"Chalky\", 7);"
   ]
  }
 ],
 "metadata": {
  "kernelspec": {
   "display_name": "Java",
   "language": "java",
   "name": "java"
  },
  "language_info": {
   "codemirror_mode": "java",
   "file_extension": ".jshell",
   "mimetype": "text/x-java-source",
   "name": "Java",
   "pygments_lexer": "java",
   "version": "11.0.15+10-Ubuntu-0ubuntu0.20.04.1"
  }
 },
 "nbformat": 4,
 "nbformat_minor": 5
}
