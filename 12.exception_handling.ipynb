{
 "cells": [
  {
   "cell_type": "markdown",
   "id": "103d465e-42b1-474e-8efd-dcb45e1d5ac5",
   "metadata": {},
   "source": [
    "# 13. Exception Handling"
   ]
  },
  {
   "cell_type": "markdown",
   "id": "c644e872-da59-4dbd-966a-41bb65725f12",
   "metadata": {},
   "source": [
    "There are two ways in how we can deal with exceptions:\n",
    "1. The `throw` decorator\n",
    "2. Try-catch block\n",
    "\n",
    ">We will use reading files as an example in this notebook. See *13.io_operation.ipynb* notebook for more information on handling files. "
   ]
  },
  {
   "cell_type": "markdown",
   "id": "897e78e2-4f89-42fa-9abc-ef84344f9874",
   "metadata": {},
   "source": [
    "## The `throw` Decorator"
   ]
  },
  {
   "cell_type": "markdown",
   "id": "7409d605-dc8b-4a42-aaed-f23d3d27cd4e",
   "metadata": {},
   "source": [
    "Often we will use a try-catch block to handle exceptions, but we can also use the decorator `throws` to tell the program to immediately throw the specified exception out of the method. When the exception is thrown out of the `main()` method, it will print the stacktrace and exit the program."
   ]
  },
  {
   "cell_type": "code",
   "execution_count": 8,
   "id": "b68ab2cd-835c-4587-8fb1-7932b5b781f7",
   "metadata": {},
   "outputs": [
    {
     "ename": "EvalException",
     "evalue": "data/nonexistingfile.txt (No such file or directory)",
     "output_type": "error",
     "traceback": [
      "\u001b[1m\u001b[31m---------------------------------------------------------------------------\u001b[0m",
      "\u001b[1m\u001b[31mjava.io.FileNotFoundException: data/nonexistingfile.txt (No such file or directory)\u001b[0m",
      "\u001b[1m\u001b[31m\tat java.base/java.io.FileInputStream.open0(Native Method)\u001b[0m",
      "\u001b[1m\u001b[31m\tat java.base/java.io.FileInputStream.open(FileInputStream.java:219)\u001b[0m",
      "\u001b[1m\u001b[31m\tat java.base/java.io.FileInputStream.<init>(FileInputStream.java:157)\u001b[0m",
      "\u001b[1m\u001b[31m\tat java.base/java.util.Scanner.<init>(Scanner.java:639)\u001b[0m",
      "\u001b[1m\u001b[31m\tat .readFile(#19:4)\u001b[0m",
      "\u001b[1m\u001b[31m\tat .(#20:1)\u001b[0m"
     ]
    }
   ],
   "source": [
    "public static void readFile() throws FileNotFoundException {\n",
    "    String fileName = \"data/nonexistingfile.txt\";\n",
    "    File textFile = new File(fileName);\n",
    "    Scanner in = new Scanner(textFile);\n",
    "    System.out.println(\"Completed Function\");\n",
    "}\n",
    "\n",
    "readFile();"
   ]
  },
  {
   "cell_type": "markdown",
   "id": "8ac6a76c-14a0-44da-b7b7-7c496d4749f2",
   "metadata": {},
   "source": [
    "## Try-Catch Block\n",
    "\n",
    "Java version of the `try-except` block in Python."
   ]
  },
  {
   "cell_type": "code",
   "execution_count": 7,
   "id": "59bc97b7-0271-4df5-9038-08557d81a464",
   "metadata": {},
   "outputs": [
    {
     "name": "stdout",
     "output_type": "stream",
     "text": [
      "File not found: data/nonexistingfile.txt\n"
     ]
    },
    {
     "name": "stderr",
     "output_type": "stream",
     "text": [
      "java.io.FileNotFoundException: data/nonexistingfile.txt (No such file or directory)\n",
      "\tat java.base/java.io.FileInputStream.open0(Native Method)\n",
      "\tat java.base/java.io.FileInputStream.open(FileInputStream.java:219)\n",
      "\tat java.base/java.io.FileInputStream.<init>(FileInputStream.java:157)\n",
      "\tat java.base/java.io.FileReader.<init>(FileReader.java:75)\n",
      "\tat REPL.$JShell$13D.readFileAgain($JShell$13D.java:20)\n",
      "\tat REPL.$JShell$18.do_it$($JShell$18.java:16)\n",
      "\tat java.base/jdk.internal.reflect.NativeMethodAccessorImpl.invoke0(Native Method)\n",
      "\tat java.base/jdk.internal.reflect.NativeMethodAccessorImpl.invoke(NativeMethodAccessorImpl.java:62)\n",
      "\tat java.base/jdk.internal.reflect.DelegatingMethodAccessorImpl.invoke(DelegatingMethodAccessorImpl.java:43)\n",
      "\tat java.base/java.lang.reflect.Method.invoke(Method.java:566)\n",
      "\tat io.github.spencerpark.ijava.execution.IJavaExecutionControl.lambda$execute$1(IJavaExecutionControl.java:95)\n",
      "\tat java.base/java.util.concurrent.FutureTask.run(FutureTask.java:264)\n",
      "\tat java.base/java.util.concurrent.ThreadPoolExecutor.runWorker(ThreadPoolExecutor.java:1128)\n",
      "\tat java.base/java.util.concurrent.ThreadPoolExecutor$Worker.run(ThreadPoolExecutor.java:628)\n",
      "\tat java.base/java.lang.Thread.run(Thread.java:829)\n"
     ]
    },
    {
     "name": "stdout",
     "output_type": "stream",
     "text": [
      "Finished\n"
     ]
    }
   ],
   "source": [
    "public static void readFileAgain() {\n",
    "    \n",
    "    File file = new File(\"data/nonexistingfile.txt\");\n",
    "\n",
    "    try {\n",
    "        FileReader fr = new FileReader(file);\n",
    "        \n",
    "        // This will not be executed if an exception is thrown\n",
    "        System.out.println(\"Continuing...\");\n",
    "    } catch (FileNotFoundException e) {\n",
    "        System.out.println(\"File not found: \" + file.toString());\n",
    "        e.printStackTrace(); // Print Stacktrace\n",
    "    }\n",
    "    \n",
    "    // This will be executed even if exception raised\n",
    "    System.out.println(\"Finished\");\n",
    "}\n",
    "readFileAgain();"
   ]
  },
  {
   "cell_type": "markdown",
   "id": "51960f8d-5205-434b-aea3-14d2d123b541",
   "metadata": {},
   "source": [
    "## Combining `throws` and `try-catch`"
   ]
  },
  {
   "cell_type": "code",
   "execution_count": 11,
   "id": "312a5c1a-7832-4ada-b66b-2836a4383cb5",
   "metadata": {},
   "outputs": [
    {
     "name": "stdout",
     "output_type": "stream",
     "text": [
      "Could not open file\n"
     ]
    }
   ],
   "source": [
    "class App {\n",
    "\n",
    "    public static void main() {\n",
    "        // Catch the exception thrown out of openFile()\n",
    "        try {\n",
    "            openFile();\n",
    "        } catch (FileNotFoundException e) {\n",
    "            System.out.println(\"Could not open file\");\n",
    "        }\n",
    "    }\n",
    "    \n",
    "    // This will throw the exception out of the openFile() method, and it will be \n",
    "    // thrown into main\n",
    "    public static void openFile() throws FileNotFoundException {\n",
    "        String fileName = \"data/nonexistingfile.txt\";\n",
    "        File textFile = new File(fileName);\n",
    "        FileReader fr = new FileReader(textFile);\n",
    "    }\n",
    "}\n",
    "\n",
    "App app = new App();\n",
    "app.main();"
   ]
  },
  {
   "cell_type": "markdown",
   "id": "3112452f-47b3-40f7-8438-cdd685f21e43",
   "metadata": {},
   "source": [
    "## Multiple Exceptions"
   ]
  },
  {
   "cell_type": "code",
   "execution_count": 2,
   "id": "00095bf9-4f8b-4e5a-8df6-417fa1c240bf",
   "metadata": {},
   "outputs": [],
   "source": [
    "import java.text.ParseException;"
   ]
  },
  {
   "cell_type": "code",
   "execution_count": 16,
   "id": "92670a91-3f9a-40f6-95c6-2fd2f606a3db",
   "metadata": {},
   "outputs": [
    {
     "name": "stdout",
     "output_type": "stream",
     "text": [
      "Couldn't parse command file\n"
     ]
    },
    {
     "name": "stderr",
     "output_type": "stream",
     "text": [
      "java.text.ParseException: Error in command list\n",
      "\tat REPL.$JShell$12C$Test.run($JShell$12C.java:21)\n",
      "\tat REPL.$JShell$15J.main($JShell$15J.java:33)\n",
      "\tat REPL.$JShell$30.do_it$($JShell$30.java:16)\n",
      "\tat java.base/jdk.internal.reflect.NativeMethodAccessorImpl.invoke0(Native Method)\n",
      "\tat java.base/jdk.internal.reflect.NativeMethodAccessorImpl.invoke(NativeMethodAccessorImpl.java:62)\n",
      "\tat java.base/jdk.internal.reflect.DelegatingMethodAccessorImpl.invoke(DelegatingMethodAccessorImpl.java:43)\n",
      "\tat java.base/java.lang.reflect.Method.invoke(Method.java:566)\n",
      "\tat io.github.spencerpark.ijava.execution.IJavaExecutionControl.lambda$execute$1(IJavaExecutionControl.java:95)\n",
      "\tat java.base/java.util.concurrent.FutureTask.run(FutureTask.java:264)\n",
      "\tat java.base/java.util.concurrent.ThreadPoolExecutor.runWorker(ThreadPoolExecutor.java:1128)\n",
      "\tat java.base/java.util.concurrent.ThreadPoolExecutor$Worker.run(ThreadPoolExecutor.java:628)\n",
      "\tat java.base/java.lang.Thread.run(Thread.java:829)\n"
     ]
    },
    {
     "name": "stdout",
     "output_type": "stream",
     "text": [
      "Catching all exceptions\n",
      "Catching FileNotFoundException\n"
     ]
    }
   ],
   "source": [
    "public class Test {\n",
    "    \n",
    "     // Can throw either of the exception. The exceptions are put in a \n",
    "    // comma separated list\n",
    "    public void run () throws IOException, ParseException {\n",
    "        //throw new IOException();\n",
    "        throw new ParseException(\"Error in command list\", 2);\n",
    "    }\n",
    "    \n",
    "    // FileNotFoundException is a child class of IOException\n",
    "    public void input() throws IOException, FileNotFoundException {\n",
    "        throw new FileNotFoundException();\n",
    "    }\n",
    "}\n",
    "\n",
    "public void main() {\n",
    "    \n",
    "    Test test = new Test();\n",
    "    \n",
    "    // Multiple exceptions have similar block syntax as Python \n",
    "    try {\n",
    "        test.run();\n",
    "    } catch (IOException e) {\n",
    "        e.printStackTrace();\n",
    "    } catch (ParseException e) {\n",
    "        System.out.println(\"Couldn't parse command file\");\n",
    "    }\n",
    "    \n",
    "    // Try Multicatch syntax. The single exception block can catch\n",
    "    // both types of Exceptions\n",
    "    try {\n",
    "        test.run();\n",
    "    } catch (IOException | ParseException e) {\n",
    "        e.printStackTrace();\n",
    "    }\n",
    "    \n",
    "    // Try-catch for all exceptions\n",
    "    try {\n",
    "        test.run();\n",
    "    } catch (Exception e) {\n",
    "        System.out.println(\"Catching all exceptions\");\n",
    "    }\n",
    "    \n",
    "    // If we are catching a specific child exception and its parent exception,\n",
    "    // we must have the child exception first. If we have the parent exception \n",
    "    // first. The exception will also catch FileNotFoundException, and the child\n",
    "    // exception block will never be reached. \n",
    "    try {\n",
    "        test.input();\n",
    "    } catch (FileNotFoundException e) {\n",
    "        System.out.println(\"Catching FileNotFoundException\");\n",
    "    } catch (IOException e) {\n",
    "        System.out.println(\"Catching IOException\");\n",
    "    }\n",
    "}\n",
    "main()"
   ]
  },
  {
   "cell_type": "markdown",
   "id": "8ba90a71-b17b-4478-aac7-61925a0fb769",
   "metadata": {},
   "source": [
    "## Runtime Exceptions\n",
    "\n",
    "    "
   ]
  },
  {
   "cell_type": "markdown",
   "id": "a49f751f-a7ba-4700-8113-edbb63dbbb90",
   "metadata": {},
   "source": [
    "The types of exception seen above are \"checked exceptions\". When compiling Java, we are forced to handle these exception, or else errors are raised. The other kind of exception in Java is \"unchecked exceptions\", or also know as \"runtime exceptions\". Not handling these exceptions will not be raised during compilation. \n",
    "\n",
    "The idea is that runtime exceptions are serious fundamental errors in the program. If a program have runtime error, they are unlikely to be able to recover from it. So Java doesn't force the programmer to handle it. \n",
    "\n",
    "A typical example of a runtime exception is the 'division by zero' error."
   ]
  },
  {
   "cell_type": "code",
   "execution_count": 17,
   "id": "d1efba69-a1f8-4294-8b89-a9b23f56a894",
   "metadata": {},
   "outputs": [
    {
     "ename": "EvalException",
     "evalue": "/ by zero",
     "output_type": "error",
     "traceback": [
      "\u001b[1m\u001b[31m---------------------------------------------------------------------------\u001b[0m",
      "\u001b[1m\u001b[31mjava.lang.ArithmeticException: / by zero\u001b[0m",
      "\u001b[1m\u001b[31m\tat .(#32:1)\u001b[0m"
     ]
    }
   ],
   "source": [
    "int value = 7;\n",
    "\n",
    "value = value/0;"
   ]
  },
  {
   "cell_type": "markdown",
   "id": "5cf54331-42a3-4729-911b-9a4c4a33ec75",
   "metadata": {},
   "source": [
    "Another example is the 'null pointer exception'. This happens when we have created the reference variable, but did not initialized the object. The null pointer error happens when we try to run a method from that non-existent object."
   ]
  },
  {
   "cell_type": "code",
   "execution_count": 19,
   "id": "be143053-2f6a-4776-9991-4c641ac59ab1",
   "metadata": {},
   "outputs": [
    {
     "ename": "EvalException",
     "evalue": "null",
     "output_type": "error",
     "traceback": [
      "\u001b[1m\u001b[31m---------------------------------------------------------------------------\u001b[0m",
      "\u001b[1m\u001b[31mjava.lang.NullPointerException: null\u001b[0m",
      "\u001b[1m\u001b[31m\tat .(#35:1)\u001b[0m"
     ]
    }
   ],
   "source": [
    "String text = null;\n",
    "\n",
    "text.length();"
   ]
  },
  {
   "cell_type": "markdown",
   "id": "363a9562-e320-4e10-8058-f4e7bc62a833",
   "metadata": {},
   "source": [
    "Another example is the 'array out of bound' exception. This is when we try to call an index in the array that is longer than its actual length. "
   ]
  },
  {
   "cell_type": "code",
   "execution_count": 21,
   "id": "9f11ae25-bb40-47a0-b6e3-7f8eed65f797",
   "metadata": {},
   "outputs": [
    {
     "ename": "EvalException",
     "evalue": "Index 3 out of bounds for length 3",
     "output_type": "error",
     "traceback": [
      "\u001b[1m\u001b[31m---------------------------------------------------------------------------\u001b[0m",
      "\u001b[1m\u001b[31mjava.lang.ArrayIndexOutOfBoundsException: Index 3 out of bounds for length 3\u001b[0m",
      "\u001b[1m\u001b[31m\tat .(#37:1)\u001b[0m"
     ]
    }
   ],
   "source": [
    "String[] text = {\"one\", \"two\", \"three\"};\n",
    "\n",
    "System.out.println(text[3]);"
   ]
  },
  {
   "cell_type": "markdown",
   "id": "18f6a623-0f30-49fc-a37d-a263b156c08d",
   "metadata": {},
   "source": [
    "We can still catch runtime exception in the same way we catch other exceptions. However, usually with runtime error it is best to fix the underlying problem instead of handling it, because they point to fundamental flaws in the program."
   ]
  },
  {
   "cell_type": "code",
   "execution_count": 23,
   "id": "5f0deb5a-7372-4e52-ab91-93d455f90ddd",
   "metadata": {},
   "outputs": [
    {
     "name": "stdout",
     "output_type": "stream",
     "text": [
      "java.lang.ArrayIndexOutOfBoundsException: Index 3 out of bounds for length 3\n"
     ]
    }
   ],
   "source": [
    "try {\n",
    "    System.out.println(text[3]);\n",
    "} catch (RuntimeException e) {\n",
    "    System.out.println(e.toString());\n",
    "}"
   ]
  },
  {
   "cell_type": "code",
   "execution_count": null,
   "id": "530ae517-94b8-4025-9c5d-1038259777c5",
   "metadata": {},
   "outputs": [],
   "source": []
  }
 ],
 "metadata": {
  "kernelspec": {
   "display_name": "Java",
   "language": "java",
   "name": "java"
  },
  "language_info": {
   "codemirror_mode": "java",
   "file_extension": ".jshell",
   "mimetype": "text/x-java-source",
   "name": "Java",
   "pygments_lexer": "java",
   "version": "11.0.15+10-Ubuntu-0ubuntu0.20.04.1"
  }
 },
 "nbformat": 4,
 "nbformat_minor": 5
}
