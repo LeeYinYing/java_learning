{
 "cells": [
  {
   "cell_type": "markdown",
   "id": "48968e06-0343-49d1-a079-32182996551d",
   "metadata": {},
   "source": [
    "# 2. Loops and Conditionals"
   ]
  },
  {
   "cell_type": "markdown",
   "id": "2af07710-3fc6-43c8-9d1a-37f61e0e63e1",
   "metadata": {},
   "source": [
    "## While Loops"
   ]
  },
  {
   "cell_type": "code",
   "execution_count": 7,
   "id": "9deba3a9-c636-4522-b696-44a8acb32ec3",
   "metadata": {},
   "outputs": [
    {
     "name": "stdout",
     "output_type": "stream",
     "text": [
      "true\n",
      "false\n"
     ]
    }
   ],
   "source": [
    "boolean loop = true;\n",
    "System.out.println(loop);\n",
    "\n",
    "int value = 10;\n",
    "boolean loop = value < 5;\n",
    "System.out.println(loop);"
   ]
  },
  {
   "cell_type": "code",
   "execution_count": 22,
   "id": "0d533ba4-56a9-4662-8963-2743d16665e8",
   "metadata": {},
   "outputs": [
    {
     "name": "stdout",
     "output_type": "stream",
     "text": [
      "3: Hello\n",
      "4: Hello\n",
      "5: Hello\n",
      "6: Hello\n",
      "7: Hello\n",
      "8: Hello\n",
      "9: Hello\n"
     ]
    }
   ],
   "source": [
    "int value = 3;\n",
    "while(value < 10) //Loop execute as long as condition is true\n",
    "{\n",
    "    System.out.println(value + \": Hello\");\n",
    "    value = value + 1;\n",
    "}"
   ]
  },
  {
   "cell_type": "markdown",
   "id": "927324bd-0edd-4de2-b8ff-3dd4ed9259bc",
   "metadata": {},
   "source": [
    "## For Loops"
   ]
  },
  {
   "cell_type": "code",
   "execution_count": 19,
   "id": "db640d66-7f68-4248-91e3-531453d79c2a",
   "metadata": {},
   "outputs": [
    {
     "name": "stdout",
     "output_type": "stream",
     "text": [
      "0: Hello\n",
      "1: Hello\n",
      "2: Hello\n",
      "3: Hello\n",
      "4: Hello\n"
     ]
    }
   ],
   "source": [
    "// () controls how many times the loop runs\n",
    "// {} contains the code to loop\n",
    "for(int i=0; i<5 ; i++) {\n",
    "    System.out.printf(\"%d: Hello\\n\", i); //printf is similar to format string in python\n",
    "}"
   ]
  },
  {
   "cell_type": "markdown",
   "id": "485b995d-c78a-49e2-a60d-f7e7e26e4659",
   "metadata": {},
   "source": [
    "The looping condition in a for loop is stated in the (), which is divided into 3 sections:\n",
    "  - `int i = 0 ; ... ; ...`: The first section contains codes that are to be executed before the loop starts\n",
    "  - `... ; i<5 ; ...`: The second section contains the conditional in which the loop will run if returned true\n",
    "  - `... ; ... ; i++`: The third section contains codes that are to be run at the end of each loop\n",
    "    - *`i++` is a short form for `i = i+1`*"
   ]
  },
  {
   "cell_type": "markdown",
   "id": "9d11d1b9-56a6-4179-8524-eba1abaf88fd",
   "metadata": {},
   "source": [
    "## If Conditionals"
   ]
  },
  {
   "cell_type": "markdown",
   "id": "52156077-362e-4950-b9c4-7910e9506cab",
   "metadata": {},
   "source": [
    "The following is an example of the \"If -> Else if -> Else\" conditions:"
   ]
  },
  {
   "cell_type": "code",
   "execution_count": 43,
   "id": "ba21af55-569a-41bb-8c1f-df1cb5511cc8",
   "metadata": {},
   "outputs": [
    {
     "name": "stdout",
     "output_type": "stream",
     "text": [
      "My integer is less than 10"
     ]
    }
   ],
   "source": [
    "int myInt = 5;\n",
    "int targetInt = 10;\n",
    "\n",
    "if (myInt == targetInt){\n",
    "    System.out.printf(\"My integer is equal to %d\", targetInt);\n",
    "}\n",
    "else if (myInt > targetInt){\n",
    "    System.out.printf(\"My integer is larger than %d\", targetInt);\n",
    "}\n",
    "else {\n",
    "    System.out.printf(\"My integer is less than %d\", targetInt);\n",
    "}"
   ]
  },
  {
   "cell_type": "markdown",
   "id": "a7948378-ff45-4e5d-92ea-0ffe91c0630e",
   "metadata": {},
   "source": [
    "Putting an if condition within a while loop:"
   ]
  },
  {
   "cell_type": "code",
   "execution_count": 46,
   "id": "5459bd9e-b9d2-4d98-862b-2c8819034d8b",
   "metadata": {},
   "outputs": [
    {
     "name": "stdout",
     "output_type": "stream",
     "text": [
      "Looping: 0\n",
      "Looping: 1\n",
      "Looping: 2\n",
      "Looping: 3\n",
      "Looping: 4\n"
     ]
    }
   ],
   "source": [
    "int loop = 0;\n",
    "\n",
    "while(true){\n",
    "    System.out.println(\"Looping: \" + loop);\n",
    "    loop++;\n",
    "    if (loop == 5){\n",
    "        break;\n",
    "    }\n",
    "}\n"
   ]
  },
  {
   "cell_type": "code",
   "execution_count": null,
   "id": "b0f1fb57-68a6-4ad3-91f5-aaa99b3754e5",
   "metadata": {},
   "outputs": [],
   "source": []
  }
 ],
 "metadata": {
  "kernelspec": {
   "display_name": "Java",
   "language": "java",
   "name": "java"
  },
  "language_info": {
   "codemirror_mode": "java",
   "file_extension": ".jshell",
   "mimetype": "text/x-java-source",
   "name": "Java",
   "pygments_lexer": "java",
   "version": "11.0.15+10-Ubuntu-0ubuntu0.20.04.1"
  }
 },
 "nbformat": 4,
 "nbformat_minor": 5
}
