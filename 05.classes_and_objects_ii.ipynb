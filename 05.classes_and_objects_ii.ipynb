{
 "cells": [
  {
   "cell_type": "markdown",
   "id": "a82336af-8503-406d-95d0-06a5e8884529",
   "metadata": {},
   "source": [
    "# 5. Classes and Objects II"
   ]
  },
  {
   "cell_type": "markdown",
   "id": "0c5a38c9-b39d-4236-a929-477a69d03c7c",
   "metadata": {},
   "source": [
    "## Inheritance"
   ]
  },
  {
   "cell_type": "markdown",
   "id": "4be9c010-15be-44dc-a112-4cd6310c22b6",
   "metadata": {},
   "source": [
    "Every single class/object created in Java inherits the native parent `Object()` class. . Ultimately the ancestor of all classes we write is the `Object()` class. Hence, even for a seemingly empty class as such:\n",
    "```\n",
    "public class Manager{\n",
    "}\n",
    "```\n",
    "The `toString()` method seen when we introduced classes and objects is an example of default methods inherited from the `Object()` class. \n",
    "These methods were defined in the `Object()` class and inherited to the classes we write. To demonstrate inheritance say we have a class Machine as following:"
   ]
  },
  {
   "cell_type": "code",
   "execution_count": 13,
   "id": "74c53072-2f2a-4544-8412-76330b5b56a9",
   "metadata": {},
   "outputs": [],
   "source": [
    "public class Machine{\n",
    "    \n",
    "    public void start() {\n",
    "        System.out.println(\"Machine Started.\");\n",
    "    }\n",
    "    \n",
    "    public void stop() {\n",
    "        System.out.println(\"Machine Stopped.\");\n",
    "    }\n",
    "}"
   ]
  },
  {
   "cell_type": "code",
   "execution_count": 3,
   "id": "acee6d21-bda6-423c-97cc-71b58fc35e5d",
   "metadata": {},
   "outputs": [
    {
     "name": "stdout",
     "output_type": "stream",
     "text": [
      "Machine Started.\n",
      "Machine Stopped.\n"
     ]
    }
   ],
   "source": [
    "Machine mach1 = new Machine();\n",
    "mach1.start();\n",
    "mach1.stop();"
   ]
  },
  {
   "cell_type": "markdown",
   "id": "5783d4a0-4e73-419d-9738-ca3294e6bfe1",
   "metadata": {},
   "source": [
    "Then we can extend the Machine class into a separate class Car. The Car class will inherit all of the methods defined in the Machine class. We can also define additional methods in the class Car."
   ]
  },
  {
   "cell_type": "code",
   "execution_count": 11,
   "id": "d1e50995-b169-4d59-9121-cf204e375563",
   "metadata": {},
   "outputs": [
    {
     "name": "stdout",
     "output_type": "stream",
     "text": [
      "Car Started.\n",
      "Machine Stopped.\n",
      "Wiping Windshield\n"
     ]
    }
   ],
   "source": [
    "// The keyword extends define that this is a descendent class that extends \n",
    "// the Machine class. \n",
    "public class Car extends Machine {\n",
    "    \n",
    "    // Overwrite parent method. Note the header must be identical\n",
    "    // to the parent class.\n",
    "    // The @Override annotation checks that this method actually exists\n",
    "    // in the parent class.\n",
    "    @Override \n",
    "    public void start() {\n",
    "        System.out.println(\"Car Started.\");\n",
    "    }\n",
    "    \n",
    "    // Extends new method\n",
    "    public void wipeWindShield() {\n",
    "        System.out.println(\"Wiping Windshield\");\n",
    "    }\n",
    "}\n",
    "\n",
    "Car car1 = new Car();\n",
    "// Overwritten methods from the Machine Class\n",
    "car1.start();\n",
    "// Inherited method from Machine Class\n",
    "car1.stop();\n",
    "// Method extended in the Car Class\n",
    "car1.wipeWindShield();"
   ]
  },
  {
   "cell_type": "markdown",
   "id": "b7903be9-1ab9-4ffa-8bb6-bbc4c26ddbcf",
   "metadata": {},
   "source": [
    "Most classes can be extended, the only exception is for example the `String()` class, which is a `final` class. The `final` attribute makes the object immutable. "
   ]
  },
  {
   "cell_type": "markdown",
   "id": "ca16e127-765b-4924-bc1e-506d0064b911",
   "metadata": {},
   "source": [
    "> **NOTE**:\n",
    "> The 'public', 'private', and 'protected' attributes will affect how much a descendant classes can access attributes and methods from the parent class. In general, it is not suggested to overwrite attributes, thus attributes can be defined as 'private' to make it inaccessible to child objects. "
   ]
  },
  {
   "cell_type": "markdown",
   "id": "5bdb830d-4ff5-457e-b2ed-236310bfea39",
   "metadata": {},
   "source": [
    "## Static Variables and Methods"
   ]
  },
  {
   "cell_type": "markdown",
   "id": "92347702-44b4-4eec-92f3-bd21d6f79fe4",
   "metadata": {},
   "source": [
    "Normally for instance variables, each instance can have a different value for that variable. But for static variables, all instances will have the value once initialized. Therefore static variables are also known as class variables because they are associated with the class. In the following example shows the difference between an instance variable ('name'), and a static variable 'description')."
   ]
  },
  {
   "cell_type": "code",
   "execution_count": 1,
   "id": "b97fe9e8-4704-46c4-96cc-5372977cc5be",
   "metadata": {},
   "outputs": [],
   "source": [
    "class Thing{\n",
    "    public String name;\n",
    "    public static String description;\n",
    "}"
   ]
  },
  {
   "cell_type": "code",
   "execution_count": 4,
   "id": "54fb4ea9-c22b-43af-b250-0a41b11413ea",
   "metadata": {},
   "outputs": [
    {
     "name": "stdout",
     "output_type": "stream",
     "text": [
      "I am a thing\n",
      "Bob\n",
      "Sue\n"
     ]
    }
   ],
   "source": [
    "// Set static variable\n",
    "// NOTE that it is declared for the entire Thing class, not for\n",
    "// individual instances\n",
    "Thing.description = \"I am a thing\";\n",
    "System.out.println(Thing.description);\n",
    "\n",
    "// Set instance variables. \n",
    "Thing thing1 = new Thing();\n",
    "Thing thing2 = new Thing();\n",
    "\n",
    "thing1.name = \"Bob\";\n",
    "thing2.name = \"Sue\";\n",
    "\n",
    "System.out.println(thing1.name);\n",
    "System.out.println(thing2.name);"
   ]
  },
  {
   "cell_type": "markdown",
   "id": "c9f1f429-28fc-478b-a630-36ecc623ddf5",
   "metadata": {},
   "source": [
    "Each instance will have the same value for static variables even though the static variable was not set explicitly for the instance"
   ]
  },
  {
   "cell_type": "code",
   "execution_count": 18,
   "id": "b9c89f93-d159-4715-8859-d4de95bf9b85",
   "metadata": {},
   "outputs": [
    {
     "name": "stdout",
     "output_type": "stream",
     "text": [
      "I am a thing\n",
      "I am a thing\n"
     ]
    }
   ],
   "source": [
    "System.out.println(thing1.description);\n",
    "System.out.println(thing2.description);"
   ]
  },
  {
   "cell_type": "markdown",
   "id": "7a6266d6-ff0f-4a8f-9bb4-569c1fc20648",
   "metadata": {},
   "source": [
    "### `static` Methods"
   ]
  },
  {
   "cell_type": "code",
   "execution_count": 15,
   "id": "3c16f15e-499b-4e1e-94c7-62e2c8126a49",
   "metadata": {},
   "outputs": [],
   "source": [
    "class Thing2{\n",
    "    public String name;\n",
    "    public static String description;\n",
    "    \n",
    "    public void showName() {\n",
    "        System.out.println(name);\n",
    "    }\n",
    "    \n",
    "    public static void showInfo() {\n",
    "        System.out.println(description);\n",
    "    }\n",
    "}"
   ]
  },
  {
   "cell_type": "code",
   "execution_count": 19,
   "id": "f99fdf6b-3245-481a-8eb7-26d3c5fe20dc",
   "metadata": {},
   "outputs": [
    {
     "name": "stdout",
     "output_type": "stream",
     "text": [
      "I am another thing\n",
      "Bob\n",
      "Sue\n"
     ]
    }
   ],
   "source": [
    "// Static variable and methods. Refer directly to the class\n",
    "Thing2.description = \"I am another thing\";\n",
    "Thing2.showInfo();\n",
    "\n",
    "// Set instance variables. Refure to individual instances\n",
    "Thing2 thing3 = new Thing2();\n",
    "Thing2 thing4 = new Thing2();\n",
    "\n",
    "thing3.name = \"Bob\";\n",
    "thing4.name = \"Sue\";\n",
    "\n",
    "thing3.showName();\n",
    "thing4.showName();"
   ]
  },
  {
   "cell_type": "markdown",
   "id": "537ae694-dce4-4beb-997c-563d8eefdbd8",
   "metadata": {},
   "source": [
    "However it is important to keep in mind what variables the static method can access. A static methods can access static variables, but it cannot access instance variables. This is because the static variable and methods exists even before any instances are created. However, instance variables are created only when instances are created. Therefore, when the class initialize, a static method cannot access a non-existing instance variable."
   ]
  },
  {
   "cell_type": "code",
   "execution_count": 20,
   "id": "34ba03e9-0559-44ca-b707-491ae9588bb0",
   "metadata": {},
   "outputs": [
    {
     "ename": "CompilationException",
     "evalue": "",
     "output_type": "error",
     "traceback": [
      "\u001b[1m\u001b[30m|   \u001b[1m\u001b[30m        System.out.println(\u001b[0m\u001b[1m\u001b[30m\u001b[41mname\u001b[0m\u001b[1m\u001b[30m);\u001b[0m",
      "\u001b[1m\u001b[31mnon-static variable name cannot be referenced from a static context\u001b[0m",
      ""
     ]
    }
   ],
   "source": [
    "class Thing3{\n",
    "    public String name;\n",
    "    public static String description;\n",
    "    \n",
    "    public void showName() {\n",
    "        System.out.println(name);\n",
    "    }\n",
    "    \n",
    "    public static void showInfo() {\n",
    "        System.out.println(description);\n",
    "        \n",
    "        // Try to access an instance variable\n",
    "        System.out.println(name);\n",
    "    }\n",
    "}"
   ]
  },
  {
   "cell_type": "markdown",
   "id": "024e46ea-a72e-4406-812a-5f81600ce470",
   "metadata": {},
   "source": [
    "In the same logic, instance methods can access static method and variables, because they are already in existing when the instance method is initialized. "
   ]
  },
  {
   "cell_type": "code",
   "execution_count": 21,
   "id": "79ab5dc9-4f11-45d8-ab80-7481bba81085",
   "metadata": {},
   "outputs": [],
   "source": [
    "class Thing4{\n",
    "    public String name;\n",
    "    public static String description;\n",
    "    \n",
    "    public void showName() {\n",
    "        // Can access both static and instance variables\n",
    "        System.out.println(description + \": \" + name);\n",
    "    }\n",
    "    \n",
    "    public static void showInfo() {\n",
    "        System.out.println(description);\n",
    "        \n",
    "        // Try to access an instance variable\n",
    "        // Won't work: System.out.println(name);\n",
    "    }\n",
    "}"
   ]
  },
  {
   "cell_type": "code",
   "execution_count": 23,
   "id": "4beb4ae1-086e-47a7-95d6-49b660ccf993",
   "metadata": {},
   "outputs": [
    {
     "name": "stdout",
     "output_type": "stream",
     "text": [
      "I am yet another another thing: Tom\n"
     ]
    }
   ],
   "source": [
    "// Declare static variable\n",
    "Thing4.description = \"I am yet another another thing\";\n",
    "\n",
    "// Declare instance and instance variable\n",
    "Thing4 thing5 = new Thing4();\n",
    "thing5.name = \"Tom\";\n",
    "\n",
    "// Use instance method that access both variables\n",
    "thing5.showName();"
   ]
  },
  {
   "cell_type": "markdown",
   "id": "27466ca1-c9a1-4b12-9ed1-faa36c97b4e7",
   "metadata": {},
   "source": [
    "### Usecase of `static`\n",
    "\n",
    "1. Static methods are often used when it does not involve any instance variables. Instance methods are only needed in a class when it needs to access instance variables\n",
    "2. Count the number of object that we are creating, this is often done in combination with constructor methods. A special case of count is to create UID for objects. "
   ]
  },
  {
   "cell_type": "code",
   "execution_count": 1,
   "id": "5ef29667-8df8-4497-bee7-42e1bd02b790",
   "metadata": {},
   "outputs": [
    {
     "name": "stdout",
     "output_type": "stream",
     "text": [
      "Before creating objects, count is: 0\n",
      "After creating one object, count is: 1\n",
      "Object 1 ID: 0\n",
      "After creating two objects, count is: 2\n",
      "Instance 1 ID: 0\n",
      "Instance 2 ID: 1\n"
     ]
    }
   ],
   "source": [
    "class Thing5 {\n",
    "    // count is static variable because each instance will note the\n",
    "    // same count of objects that had been created\n",
    "    public static int count = 0;\n",
    "    \n",
    "    // id is an instance variable because each instance will have \n",
    "    // a different id.\n",
    "    public int id;\n",
    "    \n",
    "    public Thing5(){ \n",
    "        // id of the instance will equal to the current count\n",
    "        id = count;\n",
    "        // Increment count with each new instance created\n",
    "        count++;\n",
    "    }\n",
    "}\n",
    "\n",
    "System.out.println(\"Before creating objects, count is: \" + Thing5.count);\n",
    "\n",
    "Thing5 thing6 = new Thing5();\n",
    "System.out.println(\"After creating one object, count is: \" + Thing5.count);\n",
    "System.out.println(\"Object 1 ID: \" + thing6.id);\n",
    "\n",
    "Thing5 thing7 = new Thing5();\n",
    "System.out.println(\"After creating two objects, count is: \" + Thing5.count);\n",
    "System.out.println(\"Instance 1 ID: \" + thing6.id);\n",
    "System.out.println(\"Instance 2 ID: \" + thing7.id);"
   ]
  },
  {
   "cell_type": "markdown",
   "id": "83702009-4ba9-4339-83e2-cd6fc085cca9",
   "metadata": {},
   "source": [
    "## Final Variables"
   ]
  },
  {
   "cell_type": "markdown",
   "id": "e17ab60c-fe87-44d5-9897-d09de407fd6c",
   "metadata": {},
   "source": [
    "`final` is often used in combination with `static` to generate immutable constant variables. By convention constant variables are named with ALL_CAPS letters. `static` declares that the variable is the same for all instances, and `final` declared that this variable cannot be changed. So when using `final`, the value must be assigned to the variable at initialization"
   ]
  },
  {
   "cell_type": "code",
   "execution_count": 34,
   "id": "533168ed-06e8-4819-8a95-09c4f9e7fc68",
   "metadata": {
    "tags": []
   },
   "outputs": [
    {
     "ename": "CompilationException",
     "evalue": "",
     "output_type": "error",
     "traceback": [
      "\u001b[1m\u001b[30m|   \u001b[1m\u001b[30m    \u001b[0m\u001b[1m\u001b[30m\u001b[41mpublic final static int LUCKY_NUMBER;\u001b[0m\u001b[1m\u001b[30m\u001b[0m",
      "\u001b[1m\u001b[31mvariable LUCKY_NUMBER not initialized in the default constructor\u001b[0m",
      ""
     ]
    }
   ],
   "source": [
    "class Thing6{\n",
    "    // This won't work. Need to declare the value since its using the \n",
    "    // 'final' keyword\n",
    "    public final static int LUCKY_NUMBER;\n",
    "}"
   ]
  },
  {
   "cell_type": "code",
   "execution_count": 36,
   "id": "2d91f544-8cff-4a84-af1a-8f8ac62a3844",
   "metadata": {
    "tags": []
   },
   "outputs": [
    {
     "name": "stdout",
     "output_type": "stream",
     "text": [
      "8\n",
      "3.141592653589793\n"
     ]
    }
   ],
   "source": [
    "class Thing6{\n",
    "    public final static int LUCKY_NUMBER=8;\n",
    "}\n",
    "\n",
    "System.out.println(Thing6.LUCKY_NUMBER);\n",
    "System.out.println(Math.PI);"
   ]
  }
 ],
 "metadata": {
  "kernelspec": {
   "display_name": "Java",
   "language": "java",
   "name": "java"
  },
  "language_info": {
   "codemirror_mode": "java",
   "file_extension": ".jshell",
   "mimetype": "text/x-java-source",
   "name": "Java",
   "pygments_lexer": "java",
   "version": "11.0.15+10-Ubuntu-0ubuntu0.20.04.1"
  }
 },
 "nbformat": 4,
 "nbformat_minor": 5
}
