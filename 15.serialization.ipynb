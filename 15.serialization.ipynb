{
 "cells": [
  {
   "cell_type": "markdown",
   "id": "8d9bc6a5-6714-4ac0-9104-2195b776f5fe",
   "metadata": {},
   "source": [
    "# 16. Serialization"
   ]
  },
  {
   "cell_type": "markdown",
   "id": "5d102c9e-3c18-4491-baea-60f2b4858877",
   "metadata": {},
   "source": [
    "Serialization of an object means that we are converting it to its binary form. Vice versa, deserialization of an object is to convert it from binary data back into an object. Most often it used when we need to write an object to file, then reading it back from the file. To serialize objects into files, we need to use two types of readers: `FileStream` to deal with the file and `ObjectStream` to deal with the object. This is similar to read/write strings where we have the `FileReader()` object and the `BufferedReader()` object.  "
   ]
  },
  {
   "cell_type": "code",
   "execution_count": 15,
   "id": "c2642d6c-ff4a-4a05-a5d2-b097946d9d75",
   "metadata": {},
   "outputs": [],
   "source": [
    "import java.io.FileOutputStream;\n",
    "import java.io.ObjectOutputStream;\n",
    "import java.io.FileInputStream;\n",
    "import java.io.ObjectInputStream;\n",
    "import java.io.IOException;\n",
    "import java.io.FileNotFoundException;\n",
    "import java.io.Serializable;"
   ]
  },
  {
   "cell_type": "markdown",
   "id": "5fe0d258-0f2f-4332-97a5-55068243763a",
   "metadata": {},
   "source": [
    "In order to be able to serialize an object, we need to implement the `Serializable` interface. When we implement this interface, Java will give warning about not having a `SerialVersionUID`. Implementing the static final variable will get rid of the warning. This variable is a safety catch to ensure that it is the same object being written and read from file. If the UID is different in the program that read the File, it will throw an error about not retrieving the same object. One common usage of the `SerialVersionUID` is to handle different versions of the program, especially in the cases where objects and features may become incompatible between versions. "
   ]
  },
  {
   "cell_type": "code",
   "execution_count": 5,
   "id": "ce35375d-011b-4876-b484-b746363d1ec0",
   "metadata": {},
   "outputs": [],
   "source": [
    "public class Person implements Serializable {\n",
    "    \n",
    "    private static final long serialVersionUID = 4801633;\n",
    "    \n",
    "    private int id;\n",
    "    private String name;\n",
    "    \n",
    "    public Person(int id, String name) {\n",
    "        this.id = id;\n",
    "        this.name = name;\n",
    "    }\n",
    "    \n",
    "    @Override\n",
    "    public String toString() {\n",
    "        return \"Person [id=\" + id + \", name=\" + name +\"]\";\n",
    "    }\n",
    "}"
   ]
  },
  {
   "cell_type": "markdown",
   "id": "38c0ad49-579b-44db-9faa-280d33403105",
   "metadata": {},
   "source": [
    "Writing the serializable `Person` object to file. We will need to use a `FileOutputStream()` and a `ObjectOutputStream()` object."
   ]
  },
  {
   "cell_type": "code",
   "execution_count": 23,
   "id": "737e2179-8dc0-4b81-8b8b-ff644a0be017",
   "metadata": {},
   "outputs": [],
   "source": [
    "public class WriteObjects {\n",
    "    public static void main() {\n",
    "        System.out.println(\"Writing objects... \");\n",
    "        \n",
    "        Person mike = new Person(543, \"Mike\");\n",
    "        Person sue = new Person(123, \"Sue\");\n",
    "        \n",
    "        System.out.println(mike);\n",
    "        System.out.println(sue);\n",
    "        \n",
    "        try(FileOutputStream fs = new FileOutputStream(\"data/people.bin\")) {\n",
    "            \n",
    "            ObjectOutputStream os = new ObjectOutputStream(fs);\n",
    "            os.writeObject(mike);\n",
    "            os.writeObject(sue);\n",
    "            os.close();\n",
    "            \n",
    "        } catch (FileNotFoundException e) {\n",
    "            // Can't create the file\n",
    "            e.printStackTrace();\n",
    "        } catch (IOException e) {\n",
    "            // Can't write to the file\n",
    "            e.printStackTrace();\n",
    "        }\n",
    "    }\n",
    "}"
   ]
  },
  {
   "cell_type": "code",
   "execution_count": 24,
   "id": "2687ed6f-23d9-41c9-a551-398829b26c1a",
   "metadata": {},
   "outputs": [
    {
     "name": "stdout",
     "output_type": "stream",
     "text": [
      "Writing objects... \n",
      "Person [id=543, name=Mike]\n",
      "Person [id=123, name=Sue]\n"
     ]
    }
   ],
   "source": [
    "WriteObjects.main();"
   ]
  },
  {
   "cell_type": "markdown",
   "id": "5dd815f6-2e85-4ee2-8667-ef2d41d3cb0e",
   "metadata": {},
   "source": [
    "Reading the person objects from the files back into the program. We will need to use the `FileInputStream()` and the `ObjectInputStream()` object. Further more, while streaming in the object, we need to cast the object read from the file back into the `Person()` object. "
   ]
  },
  {
   "cell_type": "code",
   "execution_count": 25,
   "id": "6b5581a6-4a62-4460-b767-3d9c9369bc64",
   "metadata": {},
   "outputs": [],
   "source": [
    "public class ReadObjects {\n",
    "    public static void main() {\n",
    "        System.out.println(\"Reading objects... \");\n",
    "        \n",
    "        try(FileInputStream fi = new FileInputStream(\"data/people.bin\")) {\n",
    "            \n",
    "            ObjectInputStream os = new ObjectInputStream(fi);\n",
    "            \n",
    "            // Need to cast the object read into the Person object\n",
    "            Person person1 = (Person)os.readObject(); \n",
    "            Person person2 = (Person)os.readObject();\n",
    "            os.close();\n",
    "            \n",
    "            System.out.println(person1);\n",
    "            System.out.println(person2);\n",
    "\n",
    "        // Can't find file        \n",
    "        } catch (FileNotFoundException e) {\n",
    "            e.printStackTrace();\n",
    "            \n",
    "        // Can't read file\n",
    "        } catch (IOException e) {\n",
    "            e.printStackTrace();\n",
    "        \n",
    "        // Cannot cast the object read from file into the\n",
    "        // Person object. Or reading an object that is not\n",
    "        // defined in this program\n",
    "        } catch(ClassNotFoundException e) {\n",
    "            e.printStackTrace();\n",
    "        }\n",
    "    }\n",
    "}"
   ]
  },
  {
   "cell_type": "code",
   "execution_count": 26,
   "id": "233db4a1-727a-4350-9f17-3a3651f90264",
   "metadata": {},
   "outputs": [
    {
     "name": "stdout",
     "output_type": "stream",
     "text": [
      "Reading objects... \n",
      "Person [id=543, name=Mike]\n",
      "Person [id=123, name=Sue]\n"
     ]
    }
   ],
   "source": [
    "ReadObjects.main();"
   ]
  },
  {
   "cell_type": "markdown",
   "id": "3a5fb667-4b1f-40f8-a8cc-89bbac18fe8d",
   "metadata": {},
   "source": [
    "> **NOTE**: the constructors are not run when de-serializing objects. Objects are simply being retrieved from its binary form. "
   ]
  },
  {
   "cell_type": "markdown",
   "id": "32548cde-9598-428a-9f70-d7149a9673c8",
   "metadata": {},
   "source": [
    "## Serializing Array"
   ]
  },
  {
   "cell_type": "markdown",
   "id": "0160338f-9c6c-4d44-b605-229194076c18",
   "metadata": {},
   "source": [
    "An array in Java is also considered an object. So it is also possible to serialize arrays, as long as the objects within the array is serializable (The object implements the `Serializable` interface). "
   ]
  },
  {
   "cell_type": "code",
   "execution_count": 25,
   "id": "bac5a649-4eb5-4250-ba8e-5c2d00243577",
   "metadata": {},
   "outputs": [],
   "source": [
    "public class WriteArrayObjects {\n",
    "    public static void main() {\n",
    "        System.out.println(\"Writing objects... \");\n",
    "        \n",
    "        // Array of objects\n",
    "        Person[] people = {new Person(543, \"Mike\"), new Person(123, \"Sue\"), new Person(7, \"Bob\")};\n",
    "        \n",
    "        // Array Lists => Will be covered in the Java Collections\n",
    "        ArrayList<Person> peopleList = new ArrayList<Person>(Arrays.asList(people));\n",
    "        \n",
    "        try(FileOutputStream fs = new FileOutputStream(\"data/people.ser\")) {\n",
    "            \n",
    "            ObjectOutputStream os = new ObjectOutputStream(fs);\n",
    "            \n",
    "            // Write Array\n",
    "            os.writeObject(people);\n",
    "            \n",
    "            // Write ArrayList\n",
    "            os.writeObject(peopleList);\n",
    "            \n",
    "            // Write objects one-by-one\n",
    "            os.writeInt(peopleList.size()); // Write the length of the list\n",
    "            for (Person person: peopleList) {\n",
    "                os.writeObject(person);\n",
    "            }\n",
    "\n",
    "            os.close();\n",
    "            \n",
    "        } catch (FileNotFoundException e) {\n",
    "            // Can't create the file\n",
    "            e.printStackTrace();\n",
    "        } catch (IOException e) {\n",
    "            // Can't write to the file\n",
    "            e.printStackTrace();\n",
    "        }\n",
    "    }\n",
    "}"
   ]
  },
  {
   "cell_type": "code",
   "execution_count": 26,
   "id": "9a79b6da-6001-4dca-a51b-33aca1ce08ee",
   "metadata": {},
   "outputs": [
    {
     "name": "stdout",
     "output_type": "stream",
     "text": [
      "Writing objects... \n"
     ]
    }
   ],
   "source": [
    "WriteArrayObjects.main();"
   ]
  },
  {
   "cell_type": "code",
   "execution_count": 32,
   "id": "b68063cf-657c-47ef-845a-46023df37d5a",
   "metadata": {},
   "outputs": [],
   "source": [
    "public class ReadArrayObjects {\n",
    "    public static void main() {\n",
    "        System.out.println(\"Reading objects... \");\n",
    "        \n",
    "        try(FileInputStream fi = new FileInputStream(\"data/people.ser\")) {\n",
    "            \n",
    "            ObjectInputStream os = new ObjectInputStream(fi);\n",
    "            \n",
    "            // Need to cast the object read into the Person Array object\n",
    "            Person[] people = (Person[])os.readObject();\n",
    "            ArrayList<Person> peopleList = (ArrayList<Person>)os.readObject();\n",
    "            \n",
    "            for (Person person: people) {\n",
    "                System.out.println(person);\n",
    "            }\n",
    "            \n",
    "            for (Person person: peopleList) {\n",
    "                System.out.println(person);\n",
    "            }\n",
    "            \n",
    "            // Reading the objects written one-by-one\n",
    "            int num = os.readInt();\n",
    "            for (int i=0; i<num; i++){\n",
    "                Person person = (Person)os.readObject();\n",
    "                System.out.println(person);\n",
    "            }\n",
    "            os.close();\n",
    "\n",
    "        // Can't find file        \n",
    "        } catch (FileNotFoundException e) {\n",
    "            e.printStackTrace();\n",
    "            \n",
    "        // Can't read file\n",
    "        } catch (IOException e) {\n",
    "            e.printStackTrace();\n",
    "        \n",
    "        // Cannot cast the object read from file into the\n",
    "        // Person object. Or reading an object that is not\n",
    "        // defined in this program\n",
    "        } catch(ClassNotFoundException e) {\n",
    "            e.printStackTrace();\n",
    "        }\n",
    "    }\n",
    "}"
   ]
  },
  {
   "cell_type": "code",
   "execution_count": 31,
   "id": "fccbe716-3939-4bf9-a6cd-72bdd87bfdba",
   "metadata": {},
   "outputs": [
    {
     "name": "stdout",
     "output_type": "stream",
     "text": [
      "Reading objects... \n",
      "Person [id=543, name=Mike]\n",
      "Person [id=123, name=Sue]\n",
      "Person [id=7, name=Bob]\n",
      "Person [id=543, name=Mike]\n",
      "Person [id=123, name=Sue]\n",
      "Person [id=7, name=Bob]\n",
      "Person [id=543, name=Mike]\n",
      "Person [id=123, name=Sue]\n",
      "Person [id=7, name=Bob]\n"
     ]
    }
   ],
   "source": [
    "ReadArrayObjects.main();"
   ]
  },
  {
   "cell_type": "markdown",
   "id": "bac70c50-a45d-4693-a925-e875ed852553",
   "metadata": {},
   "source": [
    "## Transient Keyword"
   ]
  },
  {
   "cell_type": "markdown",
   "id": "c651d26d-fc7a-4c1e-a795-a1f882a1fc10",
   "metadata": {},
   "source": [
    "The `transient` keyword is used to indicate information that we do not want to serialize in a `Serializable` object. To demonstrate the `transient` keyword function we will set the `id` variable as transient in the TransientPerson object. \n",
    "\n",
    "A similar case is seen with `static` variables, because these variables are not associated with the instances, and often it is not reasonable to serialize them. "
   ]
  },
  {
   "cell_type": "code",
   "execution_count": 49,
   "id": "c7e714d4-7348-4fbe-9693-a47b91553e5a",
   "metadata": {},
   "outputs": [],
   "source": [
    "public class TransientPerson implements Serializable {\n",
    "    \n",
    "    private static final long serialVersionUID = 4801633;\n",
    "    \n",
    "    private transient int id; // transient variable\n",
    "    private String name;\n",
    "    private static int count;\n",
    "    \n",
    "    public TransientPerson(int id, String name) {\n",
    "        this.id = id;\n",
    "        this.name = name;\n",
    "    }\n",
    "    \n",
    "    public static int getCount(){\n",
    "        return count;\n",
    "    }\n",
    "    \n",
    "    public static void setCount(int count){\n",
    "        TransientPerson.count = count;\n",
    "    }\n",
    "    \n",
    "    @Override\n",
    "    public String toString() {\n",
    "        return \"Person [id=\" + id + \", name=\" + name + \", count=\" + count +\"]\";\n",
    "    }\n",
    "}"
   ]
  },
  {
   "cell_type": "code",
   "execution_count": 50,
   "id": "b55032cb-0fd0-45cf-975a-394d4f50a4b3",
   "metadata": {},
   "outputs": [],
   "source": [
    "public class WriteTransObjects {\n",
    "    public static void main() {\n",
    "        System.out.println(\"Writing objects... \");\n",
    "        \n",
    "        TransientPerson mike = new TransientPerson(543, \"Mike\");\n",
    "        TransientPerson.setCount(8);\n",
    "        \n",
    "        System.out.println(mike);\n",
    "        \n",
    "        // A tidier way to initiate both output streams with try-with-resources\n",
    "        try(ObjectOutputStream os = new ObjectOutputStream(new FileOutputStream(\"data/transientpeople.bin\"))) {\n",
    "            os.writeObject(mike);\n",
    "            \n",
    "        } catch (FileNotFoundException e) {\n",
    "            // Can't create the file\n",
    "            e.printStackTrace();\n",
    "        } catch (IOException e) {\n",
    "            // Can't write to the file\n",
    "            e.printStackTrace();\n",
    "        }\n",
    "    }\n",
    "}"
   ]
  },
  {
   "cell_type": "code",
   "execution_count": 51,
   "id": "e099131b-c0ae-4b85-b735-7447f9216266",
   "metadata": {},
   "outputs": [
    {
     "name": "stdout",
     "output_type": "stream",
     "text": [
      "Writing objects... \n",
      "Person [id=543, name=Mike, count=8]\n"
     ]
    }
   ],
   "source": [
    "WriteTransObjects.main();"
   ]
  },
  {
   "cell_type": "code",
   "execution_count": 52,
   "id": "8d21193f-7167-449c-90ad-994ec8d45a5a",
   "metadata": {},
   "outputs": [],
   "source": [
    "public class ReadTransObjects {\n",
    "    public static void main() {\n",
    "        System.out.println(\"Reading objects... \");\n",
    "        \n",
    "        // A tidier way to initiate both input streams with try-with-resources\n",
    "        try(ObjectInputStream os = new ObjectInputStream(new FileInputStream(\"data/transientpeople.bin\"))) {\n",
    "            \n",
    "            // Need to cast the object read into the Person object\n",
    "            TransientPerson person1 = (TransientPerson)os.readObject();             \n",
    "            System.out.println(person1);\n",
    "\n",
    "        // Can't find file        \n",
    "        } catch (FileNotFoundException e) {\n",
    "            e.printStackTrace();\n",
    "            \n",
    "        // Can't read file\n",
    "        } catch (IOException e) {\n",
    "            e.printStackTrace();\n",
    "        \n",
    "        // Cannot cast the object read from file into the\n",
    "        // Person object. Or reading an object that is not\n",
    "        // defined in this program\n",
    "        } catch(ClassNotFoundException e) {\n",
    "            e.printStackTrace();\n",
    "        }\n",
    "    }\n",
    "}"
   ]
  },
  {
   "cell_type": "code",
   "execution_count": 53,
   "id": "c1f616d1-918c-4cd9-8f0d-d6913dd34383",
   "metadata": {},
   "outputs": [
    {
     "name": "stdout",
     "output_type": "stream",
     "text": [
      "Reading objects... \n",
      "Person [id=0, name=Mike, count=8]\n"
     ]
    }
   ],
   "source": [
    "ReadTransObjects.main();"
   ]
  },
  {
   "cell_type": "markdown",
   "id": "baab7530-44a7-41c4-92f3-d37a3f4c9bbd",
   "metadata": {},
   "source": [
    "**For the `transient` variable**: We can see that in after writing and reading the object, the `id` is lost in the process. In Java Objects, the attributes are initiated with default values. `int` default value is `0`, and `String` is `null`. We can see that when reading the object from file, the `id` returned to its default value. \n",
    "**For `static` instances**: These variables are not serialized by default. "
   ]
  },
  {
   "cell_type": "code",
   "execution_count": null,
   "id": "20c8c93e-eaeb-4a32-9c0c-037dc2c48ed2",
   "metadata": {},
   "outputs": [],
   "source": []
  }
 ],
 "metadata": {
  "kernelspec": {
   "display_name": "Java",
   "language": "java",
   "name": "java"
  },
  "language_info": {
   "codemirror_mode": "java",
   "file_extension": ".jshell",
   "mimetype": "text/x-java-source",
   "name": "Java",
   "pygments_lexer": "java",
   "version": "11.0.15+10-Ubuntu-0ubuntu0.20.04.1"
  }
 },
 "nbformat": 4,
 "nbformat_minor": 5
}
