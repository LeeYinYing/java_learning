{
 "cells": [
  {
   "cell_type": "markdown",
   "id": "8f990b37-e781-434b-8769-12373b5a4909",
   "metadata": {},
   "source": [
    "# 6. Advance String Operations"
   ]
  },
  {
   "cell_type": "markdown",
   "id": "7bd79d35-f922-4014-a2cd-c3b8afba7d79",
   "metadata": {},
   "source": [
    "## StringBuilder and StringBuffer"
   ]
  },
  {
   "cell_type": "code",
   "execution_count": 1,
   "id": "9d31655e-0b21-4d0c-a40d-a792c6d2ecd2",
   "metadata": {},
   "outputs": [
    {
     "name": "stdout",
     "output_type": "stream",
     "text": [
      "My name is Bob. I am a builder.\n"
     ]
    }
   ],
   "source": [
    "String info = \"\";\n",
    "\n",
    "info += \"My name is Bob.\";\n",
    "info += \" \";\n",
    "info += \"I am a builder.\";\n",
    "\n",
    "System.out.println(info);"
   ]
  },
  {
   "cell_type": "markdown",
   "id": "c3eb6a79-c1c3-480d-9689-c90263514f8d",
   "metadata": {},
   "source": [
    "What is done above is actually really inefficient, because in Java a string is immutable once it is created. It looked like we have changed the string by appending more words. But what actually happened was that every single time we did `+=`, we create a new string that added the previous parts with the appended parts, then assigned the new string to the \"info\" variable. \n",
    "\n",
    "It makes the program inefficient and may consumes a lot of memory. So to bypass this problem we have the `StringBuilder` class. To append strings we can use `StringBuilder.append()`. This method does not create a string or a new StringBuilder every single time an append is made, it will only change the data within the existing instance."
   ]
  },
  {
   "cell_type": "code",
   "execution_count": 2,
   "id": "6711eaec-a2fe-4603-845c-36bf43db1ce3",
   "metadata": {},
   "outputs": [
    {
     "name": "stdout",
     "output_type": "stream",
     "text": [
      "My name is Sue. I am a lion tamer.\n"
     ]
    }
   ],
   "source": [
    "// Optional to provide initial String to the construtor\n",
    "StringBuilder sb = new StringBuilder(); \n",
    "\n",
    "sb.append(\"My name is Sue.\");\n",
    "sb.append(\" \");\n",
    "sb.append(\"I am a lion tamer.\");\n",
    "\n",
    "// toString() retrieve the String\n",
    "System.out.println(sb.toString());"
   ]
  },
  {
   "cell_type": "code",
   "execution_count": 3,
   "id": "c2386b08-8f58-4537-abeb-16593c7affa6",
   "metadata": {},
   "outputs": [
    {
     "name": "stdout",
     "output_type": "stream",
     "text": [
      "My name is Roger. I am a skydiver.\n"
     ]
    }
   ],
   "source": [
    "// We can also chain the append methods\n",
    "\n",
    "StringBuilder s = new StringBuilder();\n",
    "s.append(\"My name is Roger.\").append(\" \").append(\"I am a skydiver.\");\n",
    "\n",
    "System.out.println(s.toString());"
   ]
  },
  {
   "cell_type": "markdown",
   "id": "57c96b73-4b5e-416f-9580-2f81f0f895d8",
   "metadata": {},
   "source": [
    "There's also a class called `StringBuffer()` which is a thread-safe version of StringBuilder. It is used for the cases where we are utilizing multi-threading, and need a StringBuilder instance that can be accessed by multiple threads. "
   ]
  },
  {
   "cell_type": "markdown",
   "id": "0affc77b-f9e1-4996-b573-b3e8d00798bc",
   "metadata": {},
   "source": [
    "## String Formatting"
   ]
  },
  {
   "cell_type": "markdown",
   "id": "a6da924e-1902-4016-9da4-4e8ba3b243dc",
   "metadata": {},
   "source": [
    "Similar to Python we can use escape characters in strings for some formatting. E.g.`\\t` and `\\n` are the same for tabs and new lines respectively. "
   ]
  },
  {
   "cell_type": "code",
   "execution_count": 4,
   "id": "339b6abc-5f79-481b-9a50-d7a5427c5a5e",
   "metadata": {},
   "outputs": [
    {
     "name": "stdout",
     "output_type": "stream",
     "text": [
      "Here is same text.\tThat was a tab.\n",
      "That was a new line\n"
     ]
    }
   ],
   "source": [
    "System.out.println(\"Here is same text.\\tThat was a tab.\\nThat was a new line\")"
   ]
  },
  {
   "cell_type": "markdown",
   "id": "6ff164f1-cae7-4857-9ccd-4f27f83e53a4",
   "metadata": {},
   "source": [
    "Some deviations can be formatted with `System.out.print*` methods. \n",
    "\n",
    "- `print` shows the string as-is. There are no new lines append to end of the string\n",
    "- `println` appends a new line to the end of the string.\n",
    "- `printf` format strings with placeholders ('%d', '%s', etc.)"
   ]
  },
  {
   "cell_type": "code",
   "execution_count": 27,
   "id": "8ea49a09-06bb-4930-a78f-ca85edb2e6c9",
   "metadata": {},
   "outputs": [
    {
     "name": "stdout",
     "output_type": "stream",
     "text": [
      "Here is more texts.I am on the same line!\n",
      "Total cost 5; Quantity is 120\n"
     ]
    }
   ],
   "source": [
    "System.out.print(\"Here is more texts.\");\n",
    "System.out.println(\"I am on the same line!\");\n",
    "System.out.printf(\"Total cost %d; Quantity is %d\\n\", 5, 120);\n",
    "\n",
    "System.out.print(\"\");"
   ]
  },
  {
   "cell_type": "markdown",
   "id": "ebe28b25-4535-41f7-aa79-2ba92da71f53",
   "metadata": {},
   "source": [
    "Similar to placeholder and format string in Python. For `printf`, we can do more customization with spaces and alignments."
   ]
  },
  {
   "cell_type": "code",
   "execution_count": 15,
   "id": "cf29d2d5-5223-483a-a49a-b5bd4603bd62",
   "metadata": {},
   "outputs": [
    {
     "name": "stdout",
     "output_type": "stream",
     "text": [
      "Total cost is          5\n",
      "Total cost is 5         \n",
      "\n",
      " 0: Here is some texts\n",
      " 1: Here is some texts\n",
      " 2: Here is some texts\n",
      " 3: Here is some texts\n",
      " 4: Here is some texts\n",
      " 5: Here is some texts\n",
      " 6: Here is some texts\n",
      " 7: Here is some texts\n",
      " 8: Here is some texts\n",
      " 9: Here is some texts\n",
      "10: Here is some texts\n",
      "11: Here is some texts\n",
      "12: Here is some texts\n",
      "13: Here is some texts\n",
      "14: Here is some texts\n",
      "15: Here is some texts\n",
      "16: Here is some texts\n",
      "17: Here is some texts\n",
      "18: Here is some texts\n",
      "19: Here is some texts\n"
     ]
    }
   ],
   "source": [
    "// Formatting Integers\n",
    "\n",
    "System.out.printf(\"Total cost is %10d\\n\", 5); // Specify width of the placeholder\n",
    "System.out.printf(\"Total cost is %-10d\\n\", 5); // Left align the number in the space\n",
    "\n",
    "System.out.println(\"\");\n",
    "\n",
    "// Example\n",
    "for(int i=0; i<20; i++) {\n",
    "    System.out.printf(\"%2d: %s\\n\", i, \"Here is some texts\");\n",
    "}"
   ]
  },
  {
   "cell_type": "code",
   "execution_count": 24,
   "id": "a810527b-ec35-4da2-a0f7-2768d75324f1",
   "metadata": {},
   "outputs": [
    {
     "name": "stdout",
     "output_type": "stream",
     "text": [
      "Total value: 5.69!\n",
      "Total value:       5.69!\n",
      "Total value: 5.69      !\n"
     ]
    }
   ],
   "source": [
    "// Formatting Floats\n",
    "\n",
    "System.out.printf(\"Total value: %.2f!\\n\", 5.687); // Specify decimal places\n",
    "System.out.printf(\"Total value: %10.2f!\\n\", 5.687); // Specify width too\n",
    "System.out.printf(\"Total value: %-10.2f!\\n\", 5.687); // Left-align\n",
    "\n",
    "System.out.print(\"\");"
   ]
  },
  {
   "cell_type": "code",
   "execution_count": null,
   "id": "a6fd9a85-cdc5-48b5-81a4-e7ff90385829",
   "metadata": {},
   "outputs": [],
   "source": []
  }
 ],
 "metadata": {
  "kernelspec": {
   "display_name": "Java",
   "language": "java",
   "name": "java"
  },
  "language_info": {
   "codemirror_mode": "java",
   "file_extension": ".jshell",
   "mimetype": "text/x-java-source",
   "name": "Java",
   "pygments_lexer": "java",
   "version": "11.0.15+10-Ubuntu-0ubuntu0.20.04.1"
  }
 },
 "nbformat": 4,
 "nbformat_minor": 5
}
