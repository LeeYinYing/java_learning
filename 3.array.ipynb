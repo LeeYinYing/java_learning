{
 "cells": [
  {
   "cell_type": "markdown",
   "id": "15f7bdac-0460-4829-a097-02a0f0cad9f1",
   "metadata": {},
   "source": [
    "# 3. Arrays"
   ]
  },
  {
   "cell_type": "markdown",
   "id": "54dcf8d0-e0c7-4a73-810d-f02a0afb6ceb",
   "metadata": {},
   "source": [
    "## Introduction to Arrays"
   ]
  },
  {
   "cell_type": "markdown",
   "id": "acd90267-82ef-424f-b853-7ca48954aa4a",
   "metadata": {},
   "source": [
    "Recall how a primitive variable is defined:\n",
    "\n",
    "`int value = 7;`\n",
    "\n",
    "In this case, we are saying that create a memory (32-bit) big enough to hold my value. It is like creating a *bucket* to store your stuffs. \n",
    "\n",
    "To define arrays, '[]' is used after the variable type: ` int[] values;`\n",
    "\n",
    "In the definition of arrays, the anatomy are quite different. In this case, `values` does not hold any integers, it is actually a *label* that can reference us to the bucket(s) that holds the integers.\n",
    "\n",
    "It is also commonly referred that `int` is a variable type, where as `int[]` is a reference type"
   ]
  },
  {
   "cell_type": "code",
   "execution_count": 2,
   "id": "7bb91fc9-d291-49a7-aa6c-c7c79a1226a7",
   "metadata": {},
   "outputs": [],
   "source": [
    "// Create a reference called \"values\"\n",
    "int[] values;\n",
    "\n",
    "// Point the reference \"values\" at a \"new\" memory bucket that can hold 3 integers\n",
    "values = new int[3];"
   ]
  },
  {
   "cell_type": "code",
   "execution_count": 3,
   "id": "004c7dbb-615a-4acb-b723-396f805f62a8",
   "metadata": {},
   "outputs": [
    {
     "name": "stdout",
     "output_type": "stream",
     "text": [
      "Length of the array is 3\n",
      "Default values in array: 0, 0, 0\n",
      "Assigned values in array: 1, 3, 5\n"
     ]
    }
   ],
   "source": [
    "// Get the length of the array. \n",
    "System.out.println(\"Length of the array is \" + values.length);\n",
    "\n",
    "// Similar to Python in how to access values within an array.\n",
    "// Different to Python, Java assigns a default value of '0' to all values in arrays\n",
    "System.out.println(\"Default values in array: \" + values[0] + \", \" + values[1] + \", \" + values[2]);\n",
    "\n",
    "// Assign values to array\n",
    "values[0] = 1;\n",
    "values[1] = 3;\n",
    "values[2] = 5;\n",
    "System.out.println(\"Assigned values in array: \" + values[0] + \", \" + values[1] + \", \" + values[2]);"
   ]
  },
  {
   "cell_type": "code",
   "execution_count": 49,
   "id": "78e63920-23f8-4134-b703-bea8133517b6",
   "metadata": {},
   "outputs": [
    {
     "name": "stdout",
     "output_type": "stream",
     "text": [
      "Assigned values in array: 7, 9, 11\n"
     ]
    }
   ],
   "source": [
    "// Initializing the array and defining the values all in one line\n",
    "int[] numbers = {7, 9, 11};\n",
    "System.out.println(\"Assigned values in array: \" + numbers[0] + \", \" + numbers[1] + \", \" + numbers[2]);"
   ]
  },
  {
   "cell_type": "markdown",
   "id": "7844e916-f674-453b-9535-e95e40d1c6ad",
   "metadata": {},
   "source": [
    "### Arrays with For Loops"
   ]
  },
  {
   "cell_type": "code",
   "execution_count": 50,
   "id": "204460de-678a-417d-9636-41d1620b1e79",
   "metadata": {},
   "outputs": [
    {
     "name": "stdout",
     "output_type": "stream",
     "text": [
      "1\n",
      "3\n",
      "5\n"
     ]
    }
   ],
   "source": [
    "// Array with For Loops\n",
    "\n",
    "for(int i=0; i<values.length; i++) { \n",
    "    System.out.println(values[i]);\n",
    "}                "
   ]
  },
  {
   "cell_type": "code",
   "execution_count": 51,
   "id": "30d77f72-8936-44fe-b172-ab6348cabe92",
   "metadata": {},
   "outputs": [
    {
     "name": "stdout",
     "output_type": "stream",
     "text": [
      "7\n",
      "9\n",
      "11\n"
     ]
    }
   ],
   "source": [
    "// Another way to define for loops:\n",
    "//     For the array \"numbers\", iterate through each value\n",
    "//     and assign the value to a int variable called \"i\"\n",
    "\n",
    "for(int i: numbers){\n",
    "    System.out.println(i);\n",
    "}"
   ]
  },
  {
   "cell_type": "markdown",
   "id": "c497a755-7b29-422d-ad07-c4a59d754536",
   "metadata": {},
   "source": [
    "### String Arrays"
   ]
  },
  {
   "cell_type": "code",
   "execution_count": 53,
   "id": "744f907f-83ef-4b91-874e-3064983d2918",
   "metadata": {},
   "outputs": [
    {
     "name": "stdout",
     "output_type": "stream",
     "text": [
      "Hello to you\n",
      "Apple Banana Kiwi\n",
      "\n",
      "Print in loops:\n",
      "Apple\n",
      "Banana\n",
      "Kiwi\n"
     ]
    }
   ],
   "source": [
    "// String arrays works the same ways\n",
    "String[] words = new String[3];\n",
    "\n",
    "// Assign Values\n",
    "words[0] = \"Hello\";\n",
    "words[1] = \"to\";\n",
    "words[2] = \"you\";\n",
    "System.out.println(words[0] + \" \" + words[1] + \" \" + words[2]);\n",
    "\n",
    "// Define and assign all in one go\n",
    "String[] fruits = {\"Apple\", \"Banana\", \"Kiwi\"};\n",
    "System.out.println(fruits[0] + \" \" + fruits[1] + \" \" + fruits[2]);\n",
    "\n",
    "// Print in loops\n",
    "System.out.println(\"\\nPrint in loops:\");\n",
    "for(String fruit: fruits){\n",
    "    System.out.println(fruit);\n",
    "}"
   ]
  },
  {
   "cell_type": "markdown",
   "id": "aece6658-e7e9-48e5-9501-927ef6dc2c5d",
   "metadata": {},
   "source": [
    "## Values and Contexts in Arrays"
   ]
  },
  {
   "cell_type": "markdown",
   "id": "6fefa675-efb4-4577-aecf-bdc59a266160",
   "metadata": {},
   "source": [
    "Recall the difference between `int` and `String`:\n",
    "- `int` is a primitive type (given by the start of lower case letter). When we define an integer, a memory bucket of just the right size to hold an integer is allocated to the variable. \n",
    "- `String` is a class (given by the start of upper case letter). When we define a String, we are not actually allocating memory the the text itself because we do not know how large the text would be. Instead we are allocating enough memory to hold the reference (or address) to where the memory bucket will be.\n",
    "\n",
    "The inherent difference between primitive types and classes can also be seen with the default values assigned in Java. \n",
    "- `int` already knows what memory it needs, so the default value is also an integer `int i = 0;`\n",
    "- `String` does not know what or where the texts will be held, so the default value is null, meaning that the reference is pointing at nothing `String text = null;`"
   ]
  },
  {
   "cell_type": "markdown",
   "id": "a6fdef00-b2c0-4324-b678-dced47743aee",
   "metadata": {},
   "source": [
    "Arrays are also classes similar to Strings, thus the default values for array is also `null` regardless if it is an array of strings, or array of integers. "
   ]
  },
  {
   "cell_type": "code",
   "execution_count": 57,
   "id": "290778bf-3808-45dc-b116-35127d1c14ef",
   "metadata": {},
   "outputs": [
    {
     "name": "stdout",
     "output_type": "stream",
     "text": [
      "null\n"
     ]
    }
   ],
   "source": [
    "String[] texts;\n",
    "System.out.println(texts);"
   ]
  },
  {
   "cell_type": "code",
   "execution_count": 58,
   "id": "179f6f23-b48e-45d7-a75b-236a321b53fa",
   "metadata": {},
   "outputs": [
    {
     "name": "stdout",
     "output_type": "stream",
     "text": [
      "null\n"
     ]
    }
   ],
   "source": [
    "int[] integers;\n",
    "System.out.println(integers);"
   ]
  },
  {
   "cell_type": "markdown",
   "id": "d9129ef3-975d-4f1f-b27f-d51a2541a71c",
   "metadata": {},
   "source": [
    "An array of Strings then can be thought of as the class \"array\" holding a list of \"string\" class references. For example, when initiating:\n",
    "```\n",
    "String[] texts\n",
    "```\n",
    "We are saying that `texts` will hold the reference that points to an array, which holds a list of references to each string value. "
   ]
  },
  {
   "cell_type": "code",
   "execution_count": 64,
   "id": "750fa23f-1008-4335-af22-c88b94fea492",
   "metadata": {},
   "outputs": [
    {
     "name": "stdout",
     "output_type": "stream",
     "text": [
      "texts[] references pointing to: null\n"
     ]
    }
   ],
   "source": [
    "// Creating a reference called texts, but the reference points to nothing yet\n",
    "String[] texts;\n",
    "System.out.println(\"texts[] references pointing to: \" + texts); "
   ]
  },
  {
   "cell_type": "code",
   "execution_count": 66,
   "id": "909dd4a9-778d-46ac-9dba-fe1c129d28ed",
   "metadata": {},
   "outputs": [
    {
     "name": "stdout",
     "output_type": "stream",
     "text": [
      "texts[] reference pointing to: [Ljava.lang.String;@2c059e16\n",
      "texts[0] reference pointing to: null\n",
      "texts[1] reference pointing to: null\n"
     ]
    }
   ],
   "source": [
    "// Allocating memory enough for two string references\n",
    "texts = new String[2];\n",
    "System.out.println(\"texts[] reference pointing to: \" + texts);\n",
    "\n",
    "// Each value is a string reference that points to nothing yet\n",
    "System.out.println(\"texts[0] reference pointing to: \" + texts[0]);\n",
    "System.out.println(\"texts[1] reference pointing to: \" + texts[1]);"
   ]
  },
  {
   "cell_type": "code",
   "execution_count": 68,
   "id": "367ecb4d-8658-43cd-bdf6-8bd27917f3c6",
   "metadata": {},
   "outputs": [
    {
     "name": "stdout",
     "output_type": "stream",
     "text": [
      "texts[] reference pointing to: [Ljava.lang.String;@2c059e16\n",
      "texts[0] reference pointing to: Hello\n",
      "texts[1] reference pointing to: null\n"
     ]
    }
   ],
   "source": [
    "// Allocating memory enough for the first string value to hold \"Hello\"\n",
    "texts[0] = \"Hello\";\n",
    "\n",
    "// texts[] is still just holding the reference, not the defined string values\n",
    "System.out.println(\"texts[] reference pointing to: \" + texts);\n",
    "\n",
    "// texts[0] reference now points to the memory bucket that holds \"Hello\", and we can retrieve the value \n",
    "System.out.println(\"texts[0] reference pointing to: \" + texts[0]);\n",
    "\n",
    "// texts[1] is still string reference that points to nothing yet\n",
    "System.out.println(\"texts[1] reference pointing to: \" + texts[1]);"
   ]
  },
  {
   "cell_type": "markdown",
   "id": "d2b49ac2-7c2c-4ad7-8e90-9d3bda02f6c7",
   "metadata": {},
   "source": [
    "## Multi-Dimensional Arrays"
   ]
  },
  {
   "cell_type": "markdown",
   "id": "38e0350d-81b8-4ee4-8cf2-d0fbe4586486",
   "metadata": {},
   "source": [
    "Everything we've worked with thus far are one-dimensional arrays\n",
    "```\n",
    "int[] values = {1, 2, 3};\n",
    "```\n",
    "\n",
    "A multidimensional array is then just an array of arrays. Or another way to think about it, it is an array of references to multiple different arrays. To create multidimensional, we define the number of dimensions with the number of \"[]\" used in the array initiation. "
   ]
  },
  {
   "cell_type": "code",
   "execution_count": 73,
   "id": "a47c59f7-5f9a-41fc-96f4-738d013f913c",
   "metadata": {},
   "outputs": [
    {
     "name": "stdout",
     "output_type": "stream",
     "text": [
      "The number of row [0] column [1] is: 2\n"
     ]
    }
   ],
   "source": [
    "// To create a 2-dimensional array\n",
    "int[][] grid = {\n",
    "    {1, 2, 3}, // The size of arrays does not have to be the same\n",
    "    {5, 6}, \n",
    "    {7, 8, 9, 10}\n",
    "};\n",
    "\n",
    "// The indexing is the same as Python, where\n",
    "// the first digit is the index of row, and \n",
    "// the second digit is the index of column\n",
    "System.out.println(\"The number of row [0] column [1] is: \" + grid[0][1]);"
   ]
  },
  {
   "cell_type": "code",
   "execution_count": 4,
   "id": "5fa9f113-9d65-4769-b1e1-9e158384529b",
   "metadata": {},
   "outputs": [
    {
     "name": "stdout",
     "output_type": "stream",
     "text": [
      "two\n",
      "null\n"
     ]
    }
   ],
   "source": [
    "// To initialize 2D array without assignment of values\n",
    "//    In this example, we are initiating a grid of strings, \n",
    "//    which will have two rows and three columns\n",
    "String[][] texts = new String[2][3];\n",
    "\n",
    "// Assign values to a specific index in the grid\n",
    "texts[0][0] = \"one\";\n",
    "texts[0][1] = \"two\";\n",
    "texts[0][2] = \"three\";\n",
    "texts[1][1] = \"five\";\n",
    "System.out.println(texts[0][1]);\n",
    "\n",
    "// Other values will be null\n",
    "System.out.println(texts[1][2]);"
   ]
  },
  {
   "cell_type": "code",
   "execution_count": 100,
   "id": "78aa2564-6fa9-4a64-be1a-bda212f0c8e6",
   "metadata": {},
   "outputs": [
    {
     "name": "stdout",
     "output_type": "stream",
     "text": [
      "null\n",
      "Hi there\n"
     ]
    }
   ],
   "source": [
    "// To initialize 2D array with partial information\n",
    "//    In this example, we are initiating two rows, but the \n",
    "//    number of columns is undefined\n",
    "\n",
    "String[][] words = new String[2][];\n",
    "System.out.println(words[0]); // Each \"row\" is a reference to null\n",
    "\n",
    "// Then we have to initialize the second dimension manually\n",
    "\n",
    "words[0] = new String[3];\n",
    "words[0][1] = \"Hi there\";\n",
    "System.out.println(words[0][1]);"
   ]
  },
  {
   "cell_type": "markdown",
   "id": "8225c121-8295-4714-8ba7-330f0709821c",
   "metadata": {},
   "source": [
    "### Multi-Dimensional Arrays with For Loops"
   ]
  },
  {
   "cell_type": "code",
   "execution_count": 97,
   "id": "44de7ff7-3474-45d4-92b6-37b02fc1be5a",
   "metadata": {},
   "outputs": [
    {
     "name": "stdout",
     "output_type": "stream",
     "text": [
      "1\t2\t3\t\n",
      "5\t6\t\n",
      "7\t8\t9\t10\t\n",
      "\n",
      "one\ttwo\tthree\t\n",
      "null\tfive\tnull\t\n"
     ]
    }
   ],
   "source": [
    "// Looping through multidimensional arrays\n",
    "//   Similar to Python, loop through the row first (outer dimension),\n",
    "//   then to columns (inner dimension) \n",
    "\n",
    "// For looping through index:\n",
    "for(int row=0; row<grid.length; row++) {\n",
    "    for(int col=0; col<grid[row].length; col++) {\n",
    "        System.out.print(grid[row][col] + \"\\t\");\n",
    "    }\n",
    "    System.out.println();\n",
    "}\n",
    "\n",
    "System.out.println();\n",
    "\n",
    "// For looping with value assignment\n",
    "for(String[] row: texts){\n",
    "    for(String col: row){\n",
    "        System.out.print(col + \"\\t\");\n",
    "    }\n",
    "    System.out.println();\n",
    "}"
   ]
  },
  {
   "cell_type": "code",
   "execution_count": null,
   "id": "e34e8ef5-403b-4c66-a68d-8e967f9968f7",
   "metadata": {},
   "outputs": [],
   "source": []
  }
 ],
 "metadata": {
  "kernelspec": {
   "display_name": "Java",
   "language": "java",
   "name": "java"
  },
  "language_info": {
   "codemirror_mode": "java",
   "file_extension": ".jshell",
   "mimetype": "text/x-java-source",
   "name": "Java",
   "pygments_lexer": "java",
   "version": "11.0.15+10-Ubuntu-0ubuntu0.20.04.1"
  }
 },
 "nbformat": 4,
 "nbformat_minor": 5
}
