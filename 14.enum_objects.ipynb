{
 "cells": [
  {
   "cell_type": "markdown",
   "id": "19afd7d0-c834-4fd8-8cf2-dc20b52bb888",
   "metadata": {},
   "source": [
    "# 14. Enum Objects"
   ]
  },
  {
   "cell_type": "markdown",
   "id": "be570eb5-7f30-401d-ae9c-ef9099a227a1",
   "metadata": {},
   "source": [
    "`Enum` types is when we want to have a variable that is restricted to certain values for specific representations. The most common use of `Enum` types is to implement with the `switch` conditionals. In this example we have certain values representing certain animals. `Enum` can provide type safety when used properly."
   ]
  },
  {
   "cell_type": "code",
   "execution_count": 40,
   "id": "f06d0868-4568-4586-8330-0f095af78bed",
   "metadata": {},
   "outputs": [
    {
     "name": "stdout",
     "output_type": "stream",
     "text": [
      "Cat\n"
     ]
    }
   ],
   "source": [
    "public enum Animal {\n",
    "    CAT, DOG, MOUSE;\n",
    "}\n",
    "\n",
    "Animal animal = Animal.CAT;\n",
    "\n",
    "switch(animal) {\n",
    "    // We don't need to put animal.DOG for the case statement, because\n",
    "    // we already defined that the switch is on a variable of Animal type\n",
    "    case DOG: \n",
    "        System.out.println(\"Dog\");\n",
    "        break;\n",
    "    case CAT:\n",
    "        System.out.println(\"Cat\");\n",
    "        break;\n",
    "    case MOUSE:\n",
    "        System.out.println(\"Mouse\");\n",
    "        break;\n",
    "    default:\n",
    "        break;\n",
    "}\n"
   ]
  },
  {
   "cell_type": "markdown",
   "id": "0953467b-3de8-48aa-8bbf-c0bcc00509e7",
   "metadata": {},
   "source": [
    "Each of the value in the `enum` is actually a class of itself. If we try to get the class of `DOG`, we will see that it is an object of the class `Animal`. "
   ]
  },
  {
   "cell_type": "code",
   "execution_count": 34,
   "id": "94a5f3d7-51a9-41b3-9758-298fb60495d7",
   "metadata": {},
   "outputs": [
    {
     "data": {
      "text/plain": [
       "class REPL.$JShell$38$Animal"
      ]
     },
     "execution_count": 34,
     "metadata": {},
     "output_type": "execute_result"
    }
   ],
   "source": [
    "Animal.DOG.getClass()"
   ]
  },
  {
   "cell_type": "code",
   "execution_count": 38,
   "id": "02008be0-18db-49bb-a758-22a83dc9b70a",
   "metadata": {},
   "outputs": [
    {
     "data": {
      "text/plain": [
       "true"
      ]
     },
     "execution_count": 38,
     "metadata": {},
     "output_type": "execute_result"
    }
   ],
   "source": [
    "Animal.DOG instanceof Animal;"
   ]
  },
  {
   "cell_type": "code",
   "execution_count": 39,
   "id": "2dc70e79-a916-4c2d-8033-567f85f761f8",
   "metadata": {},
   "outputs": [
    {
     "data": {
      "text/plain": [
       "true"
      ]
     },
     "execution_count": 39,
     "metadata": {},
     "output_type": "execute_result"
    }
   ],
   "source": [
    "Animal.DOG instanceof Enum;"
   ]
  },
  {
   "cell_type": "markdown",
   "id": "943411dc-e823-419e-8962-8720e267083e",
   "metadata": {},
   "source": [
    "We can also give enum methods and constructors. However, the constructors must be private, meaning we cannot instantiate the enum objects outside. This is an example of using a constructor, each animal must be instantiated and defined within the enum class"
   ]
  },
  {
   "cell_type": "code",
   "execution_count": 47,
   "id": "0c1c4758-1af5-45f8-af3e-6fcd55c3449d",
   "metadata": {},
   "outputs": [],
   "source": [
    "public enum Animal {\n",
    "    // We need to define the parameters for the constructor here\n",
    "    CAT(\"Fergus\"), DOG(\"Fido\"), MOUSE(\"Jerry\");\n",
    "    \n",
    "    // Instance variable to store the constructor paramenter\n",
    "    private String name;\n",
    "    \n",
    "    // Constructor\n",
    "    private Animal(String name) {\n",
    "        this.name = name;\n",
    "    }\n",
    "    \n",
    "    // Getter method\n",
    "    public String getName() {\n",
    "        return name;\n",
    "    }\n",
    "    \n",
    "    // We can also overwrite the toString method\n",
    "    public String toString() {\n",
    "        return \"This animal is called \" + name;\n",
    "    }\n",
    "}"
   ]
  },
  {
   "cell_type": "code",
   "execution_count": 45,
   "id": "40d72bce-4632-4341-aace-41087c048ce2",
   "metadata": {},
   "outputs": [
    {
     "data": {
      "text/plain": [
       "Jerry"
      ]
     },
     "execution_count": 45,
     "metadata": {},
     "output_type": "execute_result"
    }
   ],
   "source": [
    "Animal.MOUSE.getName();"
   ]
  },
  {
   "cell_type": "code",
   "execution_count": 48,
   "id": "0d2741b8-7bb1-4043-9b94-299e7b10c01d",
   "metadata": {},
   "outputs": [
    {
     "data": {
      "text/plain": [
       "This animal is called Fido"
      ]
     },
     "execution_count": 48,
     "metadata": {},
     "output_type": "execute_result"
    }
   ],
   "source": [
    "Animal.DOG;"
   ]
  },
  {
   "cell_type": "markdown",
   "id": "eb315f32-cb05-4e00-b1c2-60ccf402d0ae",
   "metadata": {},
   "source": [
    "All `enum` object is a child class of the `java.lang.Enum` class. So we can use any methods from the `java.lang` with the enum object."
   ]
  },
  {
   "cell_type": "code",
   "execution_count": 54,
   "id": "59bd4db8-2c1a-449c-8545-60b94ab9899c",
   "metadata": {},
   "outputs": [
    {
     "name": "stdout",
     "output_type": "stream",
     "text": [
      "Enum name as a String: DOG\n",
      "This animal is called Fergus\n"
     ]
    }
   ],
   "source": [
    "// Special methods inherited from java.lang\n",
    "\n",
    "// .name(): Get the name of the enum object as a String\n",
    "System.out.println(\"Enum name as a String: \" + Animal.DOG.name());\n",
    "\n",
    "// .valueOf(): Supply a string and get the enum object\n",
    "Animal animal2 = Animal.valueOf(\"CAT\");\n",
    "System.out.println(animal2);"
   ]
  },
  {
   "cell_type": "code",
   "execution_count": null,
   "id": "19258ebe-9223-4b55-851b-c514bea5f2c3",
   "metadata": {},
   "outputs": [],
   "source": []
  },
  {
   "cell_type": "code",
   "execution_count": null,
   "id": "14273c61-14fd-4eb0-be3a-7a99bb17e95c",
   "metadata": {},
   "outputs": [],
   "source": []
  }
 ],
 "metadata": {
  "kernelspec": {
   "display_name": "Java",
   "language": "java",
   "name": "java"
  },
  "language_info": {
   "codemirror_mode": "java",
   "file_extension": ".jshell",
   "mimetype": "text/x-java-source",
   "name": "Java",
   "pygments_lexer": "java",
   "version": "11.0.15+10-Ubuntu-0ubuntu0.20.04.1"
  }
 },
 "nbformat": 4,
 "nbformat_minor": 5
}
