{
 "cells": [
  {
   "cell_type": "markdown",
   "id": "9005ecc2-0a4a-4bcc-bcfc-af094e004756",
   "metadata": {},
   "source": [
    "# 15. Recursions"
   ]
  },
  {
   "cell_type": "markdown",
   "id": "898f9415-2814-4655-8ad0-9470168eed2f",
   "metadata": {},
   "source": [
    "Same concept as learned from before where a method will call on itself and create a stack of processes. Here's the typical example of calculating factorials."
   ]
  },
  {
   "cell_type": "code",
   "execution_count": 10,
   "id": "3e206b71-68d6-4963-9d91-852962b4a840",
   "metadata": {},
   "outputs": [],
   "source": [
    "class App {\n",
    "    public static void main() {\n",
    "        System.out.println(\"Hello world\");\n",
    "        System.out.println(calculate(4));\n",
    "\n",
    "    }\n",
    "\n",
    "    private static int calculate(int value) {\n",
    "        System.out.println(\"Input value: \" + value);\n",
    "\n",
    "        if (value == 1) {\n",
    "            System.out.println(\"Output value: \" + 1);\n",
    "            return 1;\n",
    "        }\n",
    "        \n",
    "        int output = calculate(value - 1) * value;\n",
    "        System.out.println(\"Output value: \" + output); \n",
    "        return output;\n",
    "    }\n",
    "}"
   ]
  },
  {
   "cell_type": "code",
   "execution_count": 11,
   "id": "0c3b5568-99e7-413b-9b5c-6dcac02b8927",
   "metadata": {},
   "outputs": [
    {
     "name": "stdout",
     "output_type": "stream",
     "text": [
      "Hello world\n",
      "Input value: 4\n",
      "Input value: 3\n",
      "Input value: 2\n",
      "Input value: 1\n",
      "Output value: 1\n",
      "Output value: 2\n",
      "Output value: 6\n",
      "Output value: 24\n",
      "24\n"
     ]
    }
   ],
   "source": [
    "App.main()"
   ]
  },
  {
   "cell_type": "markdown",
   "id": "68d9725a-424a-43a0-b07f-c7e80b8def1c",
   "metadata": {},
   "source": [
    "*Homework: Try the Tower of Hanoi problem after also learning about Java collections*"
   ]
  },
  {
   "cell_type": "markdown",
   "id": "e0a561d5-4d89-401a-8a19-95e1ba3a1a07",
   "metadata": {},
   "source": [
    "# Passing by Value"
   ]
  },
  {
   "cell_type": "markdown",
   "id": "1ca8f67b-75bb-4a3f-ae07-6aea517f737b",
   "metadata": {},
   "source": [
    "In Java, only *passing by value* happens, this is when passing variables into different scopes (methods), the value is copied into the variable in the new scope. So when the variable is changed within the method, the variable from the source scope is not affected.\n",
    "\n",
    "This is different from *passing by reference*, where only the reference is passed into the new scope. Which means when changing the value within the method is also changing the variable from the source scope. "
   ]
  },
  {
   "cell_type": "code",
   "execution_count": 33,
   "id": "d32b5869-c28b-4ac1-b2cd-09c3463e2ca1",
   "metadata": {},
   "outputs": [],
   "source": [
    "public class Person {\n",
    "    private String name;\n",
    "    \n",
    "    public Person(String name) {\n",
    "        this.name = name;\n",
    "    }\n",
    "    public String getName() {\n",
    "        return name;\n",
    "    }\n",
    "    public void setName(String name) {\n",
    "        this.name = name;\n",
    "    }\n",
    "    @Override\n",
    "    public String toString() {\n",
    "        return \"Person [name=\" + name + \"]\";\n",
    "    }\n",
    "}\n",
    "\n",
    "public class App {\n",
    "    \n",
    "    public static void main() {\n",
    "        \n",
    "        // Common way to initialize the class to start using methods from the class\n",
    "        App app = new App(); \n",
    "        \n",
    "        // ========================================================================\n",
    "        // PRIMITIVE TYPE\n",
    "        \n",
    "        int value = 7;\n",
    "        System.out.println(\"1. Value is: \" + value);\n",
    "        app.show(value);\n",
    "        System.out.println(\"4. Value is: \" + value);\n",
    "        \n",
    "        // ========================================================================\n",
    "        // CLASS TYPE\n",
    "        \n",
    "        System.out.println();\n",
    "        Person person = new Person(\"Bob\");\n",
    "        System.out.println(\"1. Person is: \" + person);\n",
    "        \n",
    "        // This will call the right version of show() dependent on the parameter type\n",
    "        app.show(person);\n",
    "        System.out.println(\"4. Person is: \" + person);\n",
    "        \n",
    "        \n",
    "    }\n",
    "   \n",
    "    // ===========================================================================\n",
    "    // The way Java works is by copying the value of the variable from the source\n",
    "    // to the target method. In this case, it will copy the value from the\n",
    "    // main() scope into a variable named 'value' that is inside the show()\n",
    "    // scope\n",
    "    \n",
    "    public void show(int value) {\n",
    "        System.out.println(\"2. Value is: \" + value);\n",
    "        \n",
    "        // The variable in here is completely different from the 'value' in the\n",
    "        // main() method. So changes to the variable here will not affect the \n",
    "        // the variable in the main(). \n",
    "        value = 3;\n",
    "        System.out.println(\"3. Value is: \" + value);\n",
    "    }\n",
    "    \n",
    "    // ===========================================================================\n",
    "    // When the variable is of a class type, the scenario is analogous to what happens\n",
    "    // with the primitive types. But in this case Java copies the \"address\" of the Person()\n",
    "    // object into the the variable `person` within the show() scope\n",
    "    \n",
    "    public void show(Person person) {\n",
    "        System.out.println(\"2. Person is: \" + person);\n",
    "        \n",
    "        // At this point, `person` is still the address pointing to the \"Bob\" Person object.\n",
    "        // So this will change the name from \"Bob\" to \"Sue\". \n",
    "        person.setName(\"Sue\");\n",
    "        \n",
    "        // Creating a new reference/address and storing it into the `person` variable \n",
    "        // within the show() scope.\n",
    "        person = new Person(\"Mike\");\n",
    "        System.out.println(\"3. Person is: \" + person);\n",
    "        \n",
    "    }\n",
    "}\n",
    "        "
   ]
  },
  {
   "cell_type": "code",
   "execution_count": 34,
   "id": "e674f3e5-3c07-48a5-ba1e-23a08caafafe",
   "metadata": {},
   "outputs": [
    {
     "name": "stdout",
     "output_type": "stream",
     "text": [
      "1. Value is: 7\n",
      "2. Value is: 7\n",
      "3. Value is: 3\n",
      "4. Value is: 7\n",
      "\n",
      "1. Person is: Person [name=Bob]\n",
      "2. Person is: Person [name=Bob]\n",
      "3. Person is: Person [name=Mike]\n",
      "4. Person is: Person [name=Sue]\n"
     ]
    }
   ],
   "source": [
    "App.main()"
   ]
  },
  {
   "cell_type": "code",
   "execution_count": null,
   "id": "1c826211-d8c5-460a-8ddc-cce53d4234d8",
   "metadata": {},
   "outputs": [],
   "source": []
  }
 ],
 "metadata": {
  "kernelspec": {
   "display_name": "Java",
   "language": "java",
   "name": "java"
  },
  "language_info": {
   "codemirror_mode": "java",
   "file_extension": ".jshell",
   "mimetype": "text/x-java-source",
   "name": "Java",
   "pygments_lexer": "java",
   "version": "11.0.15+10-Ubuntu-0ubuntu0.20.04.1"
  }
 },
 "nbformat": 4,
 "nbformat_minor": 5
}
