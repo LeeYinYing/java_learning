{
 "cells": [
  {
   "cell_type": "markdown",
   "id": "d43b31b9-719f-42e8-87a8-0c98b3d103d5",
   "metadata": {},
   "source": [
    "# 1. Java Basics\n",
    "\n",
    "## How does Java work?\n",
    "\n",
    "Java is a largely used programming language. Working with Java mainly involves two components, the JRE (Java Runtime Environment) and JDK (Java Developer Kit). \n",
    "\n",
    "![](img/how-java-works.jpg)\n",
    " \n",
    "1. After the code are written in the scripts (\\*.java), the JDK compiles the script into binaries (*.class). Each Java script is compiled to at least one class depending on how many were defined\n",
    "2. The classes are loaded in the the JVM (executed by JRE). The advance of the JVM is that no matter the operating system, it can read the same compiled binaries. In contrast to languages such as C++, where compilations is different for different OS. \n",
    "3. The program is executed by the JVM. "
   ]
  },
  {
   "cell_type": "markdown",
   "id": "cc5ea400-844d-469f-bab9-da6d7699f600",
   "metadata": {},
   "source": [
    "## Hello World - First Class"
   ]
  },
  {
   "cell_type": "code",
   "execution_count": 3,
   "id": "b1f3d226-3e4b-4656-b37a-be0095be7f25",
   "metadata": {},
   "outputs": [],
   "source": [
    "public class Application{\n",
    "    // Standard main method => entry point of all programs\n",
    "    // Synomonous with the Python main() function\n",
    "    public static void main(String[] args) {\n",
    "        System.out.println(\"Hello World!\"); //println method => write to console\n",
    "        \n",
    "        int myNumber;\n",
    "        myNumber = 18;\n",
    "        System.out.println(myNumber);\n",
    "    }\n",
    "}"
   ]
  },
  {
   "cell_type": "markdown",
   "id": "267e8ea0-5cef-4c2a-8705-0e5e610c5714",
   "metadata": {
    "tags": []
   },
   "source": [
    "### Variables\n",
    "\n",
    "Just like Python, variables are \"boxes\" where we can define and store values. But in Java, variables types have to be defined when the variable is created, whereas in Python, its often presumed. \n",
    "\n",
    "#### Primitive Variable Types\n",
    "\n",
    "*Number types*:\n",
    "- `int`: 32-bit value for integers\n",
    "- `short`: 16-bit value for smaller numbers\n",
    "- `long`: 64-bit value for long numbers\n",
    "- `double`: values with decimal precision\n",
    "- `float`: short version of double\n",
    "\n",
    "*String types*:\n",
    "- `char`: single character\n",
    "\n",
    "*Boolean types*:\n",
    "- `boolean`: true or false\n",
    "\n",
    "*Other types*:\n",
    "- `byte`: 8-bit data that can range from -127 to 127"
   ]
  },
  {
   "cell_type": "code",
   "execution_count": 14,
   "id": "b9406c2c-c3a7-4bcb-90a2-e5997e27b7e5",
   "metadata": {},
   "outputs": [
    {
     "name": "stdout",
     "output_type": "stream",
     "text": [
      "18\n",
      "888\n",
      "888888888\n",
      "3.14164896\n",
      "3.14\n",
      "h\n",
      "true\n",
      "-127\n"
     ]
    }
   ],
   "source": [
    "int myNumber = 18;\n",
    "short myShort = 888;\n",
    "long myLong = 888888888;\n",
    "\n",
    "double myDouble = 3.14164896;\n",
    "float myFloat = 3.14f;\n",
    "\n",
    "char myChar = 'h';\n",
    "boolean myBoolean = true;\n",
    "byte myByte = -127;\n",
    "\n",
    "System.out.println(myNumber);\n",
    "System.out.println(myShort);\n",
    "System.out.println(myLong);\n",
    "System.out.println(myDouble);\n",
    "System.out.println(myFloat);\n",
    "System.out.println(myChar);\n",
    "System.out.println(myBoolean);\n",
    "System.out.println(myByte);"
   ]
  },
  {
   "cell_type": "markdown",
   "id": "09980ce8-592e-4414-b8ba-c1a88df82364",
   "metadata": {
    "tags": []
   },
   "source": [
    "### Strings\n",
    "\n",
    "Strings in Java is not a primitive variable type, its actually a class that helps hold texts. In the example below:\n",
    "\n",
    "```java\n",
    "String myText = \"Hello!\";\n",
    "```\n",
    "\n",
    "- `String` is a class\n",
    "- `myText` is the name of the variable that holds the object\n",
    "- `\"Hello!\"` is the object, which is a particular instance of the class String\n",
    "\n",
    "> NOTE: Strings are defined with \"\", char are defined with ''. In contrast to Python, the two types of quotes are not transferable."
   ]
  },
  {
   "cell_type": "code",
   "execution_count": 16,
   "id": "97b6386f-d2a1-47ac-aab3-1d86fa3fc4d5",
   "metadata": {},
   "outputs": [
    {
     "name": "stdout",
     "output_type": "stream",
     "text": [
      "Hello!\n"
     ]
    }
   ],
   "source": [
    "String myText = \"Hello!\";\n",
    "System.out.println(myText);"
   ]
  },
  {
   "cell_type": "markdown",
   "id": "31e1289b-ef79-4c58-8629-aab4b4fe881b",
   "metadata": {},
   "source": [
    "#### String Operations - Concatenation\n",
    "\n",
    "Strings can be concatenated in different ways and with different variables."
   ]
  },
  {
   "cell_type": "code",
   "execution_count": 23,
   "id": "84dbb11a-caea-45e4-90f0-e14403de021f",
   "metadata": {},
   "outputs": [],
   "source": [
    "String text1 = \"Hello\";\n",
    "String blank = \" \";\n",
    "String text2 = \"Sylvia\";\n",
    "String punc = \"!\";"
   ]
  },
  {
   "cell_type": "markdown",
   "id": "f2ed7d71-6abc-40a3-a6f2-32568c8ffbe3",
   "metadata": {},
   "source": [
    "String concatenation with strings:"
   ]
  },
  {
   "cell_type": "code",
   "execution_count": 27,
   "id": "a3540404-107e-49c1-8c31-91060d2d3758",
   "metadata": {},
   "outputs": [
    {
     "name": "stdout",
     "output_type": "stream",
     "text": [
      "Hello Sylvia!\n",
      "Hello Sylvia again!\n"
     ]
    }
   ],
   "source": [
    "String greeting = text1 + blank + text2 + punc;\n",
    "System.out.println(greeting);\n",
    "System.out.println(\"Hello\" + \" \" + \"Sylvia\" + \" \" + \"again\" + \"!\");"
   ]
  },
  {
   "cell_type": "markdown",
   "id": "76b762e8-38bd-4056-b17f-e659e3fbd8c6",
   "metadata": {},
   "source": [
    "String concatenation with numbers:"
   ]
  },
  {
   "cell_type": "code",
   "execution_count": 28,
   "id": "b711298b-0c8f-4574-ab52-656c2c044329",
   "metadata": {},
   "outputs": [
    {
     "name": "stdout",
     "output_type": "stream",
     "text": [
      "My Integer is: 18\n",
      "My Double is: 3.14164896\n"
     ]
    }
   ],
   "source": [
    "System.out.println(\"My Integer is: \" + myNumber);\n",
    "System.out.println(\"My Double is: \" + myDouble);"
   ]
  }
 ],
 "metadata": {
  "kernelspec": {
   "display_name": "Java",
   "language": "java",
   "name": "java"
  },
  "language_info": {
   "codemirror_mode": "java",
   "file_extension": ".jshell",
   "mimetype": "text/x-java-source",
   "name": "Java",
   "pygments_lexer": "java",
   "version": "11.0.13+8-Ubuntu-0ubuntu1.20.04"
  }
 },
 "nbformat": 4,
 "nbformat_minor": 5
}
