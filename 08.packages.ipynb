{
 "cells": [
  {
   "cell_type": "markdown",
   "id": "6f3791f1-4037-4463-8653-acb8682de90f",
   "metadata": {},
   "source": [
    "# 8. Packages"
   ]
  },
  {
   "cell_type": "markdown",
   "id": "4bda2f3b-1f56-4960-a289-9ed2d77b27f6",
   "metadata": {},
   "source": [
    "Packages are organized collection of codes and classes. Packages are generally simple names with all lowercase letters with no spaces. The convention in Java is to organize source codes in the *src* directory, the compiled classes are then stored in the *bin* directory following the same structure as the *src* directory. \n",
    "\n",
    "```\n",
    "src/\n",
    "|\n",
    "--> App.java\n",
    "|\n",
    "--> ocean/\n",
    "    |\n",
    "    --> Fish.java\n",
    "```\n",
    "\n",
    "Each directory is then know as a package. In the above example, *ocean* is a package that contains a class, *Fish*. In the *bin* directory, we will see the same structure for the compiled classes.\n",
    "\n",
    "```\n",
    "bin/\n",
    "|\n",
    "--> App.class\n",
    "|\n",
    "--> ocean/\n",
    "    |\n",
    "    --> Fish.class\n",
    "```\n",
    "\n",
    "> NOTE: See an example of packages under *example* directory. "
   ]
  },
  {
   "cell_type": "markdown",
   "id": "f0f144b5-ee0a-46d4-973e-749c525109d2",
   "metadata": {},
   "source": [
    "In any _*.java_ scripts, a very specific structure is followed for defining the package belonging and imports. The package statements much come first in the script, followed by package and class imports:\n",
    "\n",
    "\n",
    "```java\n",
    "// Define the package that the class(es) contained in the script belongs to\n",
    "package ocean;\n",
    "\n",
    "// Import any other packages/classes needed\n",
    "import pac.Man;\n",
    "\n",
    "// Main contents...\n",
    "```"
   ]
  },
  {
   "cell_type": "markdown",
   "id": "298d0272-4e3c-4a7e-bce1-cf4a5502deb2",
   "metadata": {},
   "source": [
    "## Hierarchical Packages"
   ]
  },
  {
   "cell_type": "markdown",
   "id": "57800352-9ca0-4d5b-8ea3-eaa481674237",
   "metadata": {},
   "source": [
    "There can be sub-packages within packages. These hierarchical packages simply manifests as folders within folders in the codebase. \n",
    "\n",
    "```\n",
    "src/\n",
    "|\n",
    "--> App.java\n",
    "|\n",
    "--> ocean/\n",
    "    |\n",
    "    --> Fish.java\n",
    "    |\n",
    "    --> plant/\n",
    "        |\n",
    "        --> Algae.java\n",
    "```\n",
    "\n",
    "In the above structure, *plant* is a package within the *ocean* package. The syntax of `package` and `import` statements are as following:\n",
    "\n",
    "```java\n",
    "package ocean.plant;\n",
    "\n",
    "import ocean.plant.Algae;\n",
    "```"
   ]
  },
  {
   "cell_type": "markdown",
   "id": "0f6f8d37-970a-4106-a540-2ba7de4e81a0",
   "metadata": {},
   "source": [
    "## Unique Name Convention\n",
    "\n",
    "For the purpose of public distribution of Java packages, the convention is to ensure package names are world unique. The most common form is to use the reverse of the website that the package is distributed through, or the creator's websites. \n",
    "\n",
    "For example:\n",
    "- apache.org: `org.apache.elasticsearch`\n",
    "- caveofprogramming.com: `com.caveofprogramming.oceangame`\n",
    "\n",
    "The codebase is then structured as following for *org.apache.elasticsearch*:\n",
    "```\n",
    "src/\n",
    "|\n",
    "--> org/\n",
    "    |\n",
    "    --> apache/\n",
    "        |\n",
    "        --> elasticsearch/\n",
    "            |\n",
    "            --> *.java\n",
    "\n",
    "```"
   ]
  }
 ],
 "metadata": {
  "kernelspec": {
   "display_name": "Java",
   "language": "java",
   "name": "java"
  },
  "language_info": {
   "codemirror_mode": "java",
   "file_extension": ".jshell",
   "mimetype": "text/x-java-source",
   "name": "Java",
   "pygments_lexer": "java",
   "version": "11.0.15+10-Ubuntu-0ubuntu0.20.04.1"
  }
 },
 "nbformat": 4,
 "nbformat_minor": 5
}
