{
 "cells": [
  {
   "cell_type": "markdown",
   "id": "3da5ee9b-a8a5-42a7-87ff-c726ae3b8f1d",
   "metadata": {},
   "source": [
    "# 5. Varaiable Characteristics"
   ]
  },
  {
   "cell_type": "markdown",
   "id": "ed63ec2e-5ddf-4c85-984b-0712db0cbf8e",
   "metadata": {},
   "source": [
    "## Static Variables and Methods"
   ]
  },
  {
   "cell_type": "markdown",
   "id": "4bdb5fc7-ab92-41b2-80ba-a7c15388737d",
   "metadata": {},
   "source": [
    "Normally for instance variables, each instance can have a different value for that variable. But for static variables, all instances will have the value once initialized. Therefore static variables are also known as class variables because they are associated with the class. In the following example shows the difference between an instance variable ('name'), and a static variable 'description')."
   ]
  },
  {
   "cell_type": "code",
   "execution_count": 1,
   "id": "3dd8d8b6-6c8f-433d-ad08-3824b3aacfd7",
   "metadata": {},
   "outputs": [],
   "source": [
    "class Thing{\n",
    "    public String name;\n",
    "    public static String description;\n",
    "}"
   ]
  },
  {
   "cell_type": "code",
   "execution_count": 4,
   "id": "494fa2b5-95f0-411d-827c-522a17a9444f",
   "metadata": {},
   "outputs": [
    {
     "name": "stdout",
     "output_type": "stream",
     "text": [
      "I am a thing\n",
      "Bob\n",
      "Sue\n"
     ]
    }
   ],
   "source": [
    "// Set static variable\n",
    "// NOTE that it is declared for the entire Thing class, not for\n",
    "// individual instances\n",
    "Thing.description = \"I am a thing\";\n",
    "System.out.println(Thing.description);\n",
    "\n",
    "// Set instance variables. \n",
    "Thing thing1 = new Thing();\n",
    "Thing thing2 = new Thing();\n",
    "\n",
    "thing1.name = \"Bob\";\n",
    "thing2.name = \"Sue\";\n",
    "\n",
    "System.out.println(thing1.name);\n",
    "System.out.println(thing2.name);"
   ]
  },
  {
   "cell_type": "markdown",
   "id": "41f071f6-1ce5-4aa7-b5d9-7b8f77116867",
   "metadata": {},
   "source": [
    "Each instance will have the same value for static variables even though the static variable was not set explicitly for the instance"
   ]
  },
  {
   "cell_type": "code",
   "execution_count": 18,
   "id": "fb93d76f-c76d-4f7f-a7da-cbde1a6df161",
   "metadata": {},
   "outputs": [
    {
     "name": "stdout",
     "output_type": "stream",
     "text": [
      "I am a thing\n",
      "I am a thing\n"
     ]
    }
   ],
   "source": [
    "System.out.println(thing1.description);\n",
    "System.out.println(thing2.description);"
   ]
  },
  {
   "cell_type": "markdown",
   "id": "6a668a1f-1df4-441e-9886-472a2b93d7e5",
   "metadata": {},
   "source": [
    "### `static` Methods"
   ]
  },
  {
   "cell_type": "code",
   "execution_count": 15,
   "id": "f45b18e0-fcc9-452d-8bd4-9faacaf0b265",
   "metadata": {},
   "outputs": [],
   "source": [
    "class Thing2{\n",
    "    public String name;\n",
    "    public static String description;\n",
    "    \n",
    "    public void showName() {\n",
    "        System.out.println(name);\n",
    "    }\n",
    "    \n",
    "    public static void showInfo() {\n",
    "        System.out.println(description);\n",
    "    }\n",
    "}"
   ]
  },
  {
   "cell_type": "code",
   "execution_count": 19,
   "id": "f0f7502f-2ae2-473c-84c2-712c3c53bd00",
   "metadata": {},
   "outputs": [
    {
     "name": "stdout",
     "output_type": "stream",
     "text": [
      "I am another thing\n",
      "Bob\n",
      "Sue\n"
     ]
    }
   ],
   "source": [
    "// Static variable and methods. Refer directly to the class\n",
    "Thing2.description = \"I am another thing\";\n",
    "Thing2.showInfo();\n",
    "\n",
    "// Set instance variables. Refure to individual instances\n",
    "Thing2 thing3 = new Thing2();\n",
    "Thing2 thing4 = new Thing2();\n",
    "\n",
    "thing3.name = \"Bob\";\n",
    "thing4.name = \"Sue\";\n",
    "\n",
    "thing3.showName();\n",
    "thing4.showName();"
   ]
  },
  {
   "cell_type": "markdown",
   "id": "1dfb6cdf-a423-4af3-81d7-d1ac45be793f",
   "metadata": {},
   "source": [
    "However it is important to keep in mind what variables the static method can access. A static methods can access static variables, but it cannot access instance variables. This is because the static variable and methods exists even before any instances are created. However, instance variables are created only when instances are created. Therefore, when the class initialize, a static method cannot access a non-existing instance variable."
   ]
  },
  {
   "cell_type": "code",
   "execution_count": 20,
   "id": "c6f00400-45c6-4a7f-9847-29375b3caa2c",
   "metadata": {},
   "outputs": [
    {
     "ename": "CompilationException",
     "evalue": "",
     "output_type": "error",
     "traceback": [
      "\u001b[1m\u001b[30m|   \u001b[1m\u001b[30m        System.out.println(\u001b[0m\u001b[1m\u001b[30m\u001b[41mname\u001b[0m\u001b[1m\u001b[30m);\u001b[0m",
      "\u001b[1m\u001b[31mnon-static variable name cannot be referenced from a static context\u001b[0m",
      ""
     ]
    }
   ],
   "source": [
    "class Thing3{\n",
    "    public String name;\n",
    "    public static String description;\n",
    "    \n",
    "    public void showName() {\n",
    "        System.out.println(name);\n",
    "    }\n",
    "    \n",
    "    public static void showInfo() {\n",
    "        System.out.println(description);\n",
    "        \n",
    "        // Try to access an instance variable\n",
    "        System.out.println(name);\n",
    "    }\n",
    "}"
   ]
  },
  {
   "cell_type": "markdown",
   "id": "99061dc8-4cc1-4b68-8abc-a6abd1eefccb",
   "metadata": {},
   "source": [
    "In the same logic, instance methods can access static method and variables, because they are already in existing when the instance method is initialized. "
   ]
  },
  {
   "cell_type": "code",
   "execution_count": 21,
   "id": "ed6865bc-fe66-4492-bed7-355c59964cf6",
   "metadata": {},
   "outputs": [],
   "source": [
    "class Thing4{\n",
    "    public String name;\n",
    "    public static String description;\n",
    "    \n",
    "    public void showName() {\n",
    "        // Can access both static and instance variables\n",
    "        System.out.println(description + \": \" + name);\n",
    "    }\n",
    "    \n",
    "    public static void showInfo() {\n",
    "        System.out.println(description);\n",
    "        \n",
    "        // Try to access an instance variable\n",
    "        // Won't work: System.out.println(name);\n",
    "    }\n",
    "}"
   ]
  },
  {
   "cell_type": "code",
   "execution_count": 23,
   "id": "7885e406-1761-4814-9bfb-455205c256cd",
   "metadata": {},
   "outputs": [
    {
     "name": "stdout",
     "output_type": "stream",
     "text": [
      "I am yet another another thing: Tom\n"
     ]
    }
   ],
   "source": [
    "// Declare static variable\n",
    "Thing4.description = \"I am yet another another thing\";\n",
    "\n",
    "// Declare instance and instance variable\n",
    "Thing4 thing5 = new Thing4();\n",
    "thing5.name = \"Tom\";\n",
    "\n",
    "// Use instance method that access both variables\n",
    "thing5.showName();"
   ]
  },
  {
   "cell_type": "markdown",
   "id": "cd621002-8f4c-4e1d-b0bd-71fe82e04cc7",
   "metadata": {},
   "source": [
    "### Usecase of `static`\n",
    "\n",
    "1. Static methods are often used when it does not involve any instance variables. Instance methods are only needed in a class when it needs to access instance variables\n",
    "2. Count the number of object that we are creating, this is often done in combination with constructor methods. A special case of count is to create UID for objects. "
   ]
  },
  {
   "cell_type": "code",
   "execution_count": 1,
   "id": "221e6910-84a9-4c03-8bb5-837394e8cd3a",
   "metadata": {},
   "outputs": [
    {
     "name": "stdout",
     "output_type": "stream",
     "text": [
      "Before creating objects, count is: 0\n",
      "After creating one object, count is: 1\n",
      "Object 1 ID: 0\n",
      "After creating two objects, count is: 2\n",
      "Instance 1 ID: 0\n",
      "Instance 2 ID: 1\n"
     ]
    }
   ],
   "source": [
    "class Thing5 {\n",
    "    // count is static variable because each instance will note the\n",
    "    // same count of objects that had been created\n",
    "    public static int count = 0;\n",
    "    \n",
    "    // id is an instance variable because each instance will have \n",
    "    // a different id.\n",
    "    public int id;\n",
    "    \n",
    "    public Thing5(){ \n",
    "        // id of the instance will equal to the current count\n",
    "        id = count;\n",
    "        // Increment count with each new instance created\n",
    "        count++;\n",
    "    }\n",
    "}\n",
    "\n",
    "System.out.println(\"Before creating objects, count is: \" + Thing5.count);\n",
    "\n",
    "Thing5 thing6 = new Thing5();\n",
    "System.out.println(\"After creating one object, count is: \" + Thing5.count);\n",
    "System.out.println(\"Object 1 ID: \" + thing6.id);\n",
    "\n",
    "Thing5 thing7 = new Thing5();\n",
    "System.out.println(\"After creating two objects, count is: \" + Thing5.count);\n",
    "System.out.println(\"Instance 1 ID: \" + thing6.id);\n",
    "System.out.println(\"Instance 2 ID: \" + thing7.id);"
   ]
  },
  {
   "cell_type": "markdown",
   "id": "9f9ad2e2-3c6b-4af9-9dae-96e11e465898",
   "metadata": {},
   "source": [
    "## Final Variables"
   ]
  },
  {
   "cell_type": "markdown",
   "id": "733a7645-0a35-4718-8840-ed29b4ee7ccb",
   "metadata": {},
   "source": [
    "`final` is often used in combination with `static` to generate immutable constant variables. By convention constant variables are named with ALL_CAPS letters. `static` declares that the variable is the same for all instances, and `final` declared that this variable cannot be changed. So when using `final`, the value must be assigned to the variable at initialization"
   ]
  },
  {
   "cell_type": "code",
   "execution_count": 34,
   "id": "ca7d8f7d-8005-40dd-be0e-6aafe99dc156",
   "metadata": {},
   "outputs": [
    {
     "ename": "CompilationException",
     "evalue": "",
     "output_type": "error",
     "traceback": [
      "\u001b[1m\u001b[30m|   \u001b[1m\u001b[30m    \u001b[0m\u001b[1m\u001b[30m\u001b[41mpublic final static int LUCKY_NUMBER;\u001b[0m\u001b[1m\u001b[30m\u001b[0m",
      "\u001b[1m\u001b[31mvariable LUCKY_NUMBER not initialized in the default constructor\u001b[0m",
      ""
     ]
    }
   ],
   "source": [
    "class Thing6{\n",
    "    // This won't work. Need to declare the value since its using the \n",
    "    // 'final' keyword\n",
    "    public final static int LUCKY_NUMBER;\n",
    "}"
   ]
  },
  {
   "cell_type": "code",
   "execution_count": 36,
   "id": "09a2e7e5-e0ab-46f3-aea4-60cdf22d67ef",
   "metadata": {},
   "outputs": [
    {
     "name": "stdout",
     "output_type": "stream",
     "text": [
      "8\n",
      "3.141592653589793\n"
     ]
    }
   ],
   "source": [
    "class Thing6{\n",
    "    public final static int LUCKY_NUMBER=8;\n",
    "}\n",
    "\n",
    "System.out.println(Thing6.LUCKY_NUMBER);\n",
    "System.out.println(Math.PI);"
   ]
  },
  {
   "cell_type": "code",
   "execution_count": null,
   "id": "5bb31b31-794b-4581-83e4-6ff4334178ed",
   "metadata": {},
   "outputs": [],
   "source": []
  }
 ],
 "metadata": {
  "kernelspec": {
   "display_name": "Java",
   "language": "java",
   "name": "java"
  },
  "language_info": {
   "codemirror_mode": "java",
   "file_extension": ".jshell",
   "mimetype": "text/x-java-source",
   "name": "Java",
   "pygments_lexer": "java",
   "version": "11.0.15+10-Ubuntu-0ubuntu0.20.04.1"
  }
 },
 "nbformat": 4,
 "nbformat_minor": 5
}
